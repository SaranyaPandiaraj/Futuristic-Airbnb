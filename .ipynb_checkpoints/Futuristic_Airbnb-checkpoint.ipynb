{
 "cells": [
  {
   "cell_type": "markdown",
   "metadata": {},
   "source": [
    "# <ins> Futuristic Airbnb </ins>"
   ]
  },
  {
   "cell_type": "markdown",
   "metadata": {},
   "source": [
    "Airbnb has successfully disrupted the traditional hospitality industry as more and more travelers decide to use Airbnb as their primary accommodation provider. Since its beginning in 2008, Airbnb has seen an enormous growth, with the number of rentals listed on its website growing exponentially each year. In Germany, no city is more popular than Berlin. That implies that Berlin is one of the hottest markets for Airbnb in Europe, with over 22,552 listings as of November 2018.Here we will be using Python with some packages like Pandas and Matplotlib to analyze data  to find a better Accommodation based on customer satisfaction and to improve the Airbnb business based on certain factors in Berlin."
   ]
  },
  {
   "cell_type": "markdown",
   "metadata": {},
   "source": [
    "<hr> </hr>"
   ]
  },
  {
   "cell_type": "code",
   "execution_count": 29,
   "metadata": {},
   "outputs": [],
   "source": [
    "#Importing Dependencies\n",
    "import pandas as pd\n",
    "import numpy as np\n",
    "import matplotlib.pyplot as plt\n",
    "import requests\n",
    "import time\n",
    "import json\n",
    "import gmaps\n",
    "from datetime import datetime\n",
    "import seaborn as sns"
   ]
  },
  {
   "cell_type": "code",
   "execution_count": 2,
   "metadata": {},
   "outputs": [],
   "source": [
    "#Reading Files and storing in Dataframes\n",
    "\n",
    "Calendar_Summary_df = pd.read_csv(\"../Dataset/calendar_summary.csv\")\n",
    "Listings_df = pd.read_csv(\"../Dataset/listings.csv\")\n",
    "Listings_Summary_df = pd.read_csv(\"../Dataset/listings_summary.csv\", error_bad_lines = False)\n",
    "Neighbourhoods_df = pd.read_csv(\"../Dataset/neighbourhoods.csv\")\n",
    "Reviews_df = pd.read_csv(\"../Dataset/reviews.csv\")\n",
    "Reviews_Summary_df = pd.read_csv(\"../Dataset/reviews_summary.csv\")\n"
   ]
  },
  {
   "cell_type": "markdown",
   "metadata": {},
   "source": [
    "### <ins> Identifying the Columns </ins>"
   ]
  },
  {
   "cell_type": "code",
   "execution_count": 19,
   "metadata": {},
   "outputs": [
    {
     "data": {
      "text/plain": [
       "Index(['listing_id', 'date', 'available', 'price'], dtype='object')"
      ]
     },
     "execution_count": 19,
     "metadata": {},
     "output_type": "execute_result"
    }
   ],
   "source": [
    "Calendar_Summary_df.columns"
   ]
  },
  {
   "cell_type": "code",
   "execution_count": 20,
   "metadata": {},
   "outputs": [
    {
     "data": {
      "text/plain": [
       "Index(['id', 'name', 'host_id', 'host_name', 'neighbourhood_group',\n",
       "       'neighbourhood', 'latitude', 'longitude', 'room_type', 'price',\n",
       "       'minimum_nights', 'number_of_reviews', 'last_review',\n",
       "       'reviews_per_month', 'calculated_host_listings_count',\n",
       "       'availability_365'],\n",
       "      dtype='object')"
      ]
     },
     "execution_count": 20,
     "metadata": {},
     "output_type": "execute_result"
    }
   ],
   "source": [
    "Listings_df.columns"
   ]
  },
  {
   "cell_type": "code",
   "execution_count": 21,
   "metadata": {},
   "outputs": [
    {
     "data": {
      "text/plain": [
       "Index(['id', 'listing_url', 'scrape_id', 'last_scraped', 'name', 'summary',\n",
       "       'space', 'description', 'experiences_offered', 'neighborhood_overview',\n",
       "       'notes', 'transit', 'access', 'interaction', 'house_rules',\n",
       "       'thumbnail_url', 'medium_url', 'picture_url', 'xl_picture_url',\n",
       "       'host_id', 'host_url', 'host_name', 'host_since', 'host_location',\n",
       "       'host_about', 'host_response_time', 'host_response_rate',\n",
       "       'host_acceptance_rate', 'host_is_superhost', 'host_thumbnail_url',\n",
       "       'host_picture_url', 'host_neighbourhood', 'host_listings_count',\n",
       "       'host_total_listings_count', 'host_verifications',\n",
       "       'host_has_profile_pic', 'host_identity_verified', 'street',\n",
       "       'neighbourhood', 'neighbourhood_cleansed',\n",
       "       'neighbourhood_group_cleansed', 'city', 'state', 'zipcode', 'market',\n",
       "       'smart_location', 'country_code', 'country', 'latitude', 'longitude',\n",
       "       'is_location_exact', 'property_type', 'room_type', 'accommodates',\n",
       "       'bathrooms', 'bedrooms', 'beds', 'bed_type', 'amenities', 'square_feet',\n",
       "       'price', 'weekly_price', 'monthly_price', 'security_deposit',\n",
       "       'cleaning_fee', 'guests_included', 'extra_people', 'minimum_nights',\n",
       "       'maximum_nights', 'calendar_updated', 'has_availability',\n",
       "       'availability_30', 'availability_60', 'availability_90',\n",
       "       'availability_365', 'calendar_last_scraped', 'number_of_reviews',\n",
       "       'first_review', 'last_review', 'review_scores_rating',\n",
       "       'review_scores_accuracy', 'review_scores_cleanliness',\n",
       "       'review_scores_checkin', 'review_scores_communication',\n",
       "       'review_scores_location', 'review_scores_value', 'requires_license',\n",
       "       'license', 'jurisdiction_names', 'instant_bookable',\n",
       "       'is_business_travel_ready', 'cancellation_policy',\n",
       "       'require_guest_profile_picture', 'require_guest_phone_verification',\n",
       "       'calculated_host_listings_count', 'reviews_per_month'],\n",
       "      dtype='object')"
      ]
     },
     "execution_count": 21,
     "metadata": {},
     "output_type": "execute_result"
    }
   ],
   "source": [
    "Listings_Summary_df.columns"
   ]
  },
  {
   "cell_type": "code",
   "execution_count": 22,
   "metadata": {},
   "outputs": [
    {
     "data": {
      "text/plain": [
       "Index(['neighbourhood_group', 'neighbourhood'], dtype='object')"
      ]
     },
     "execution_count": 22,
     "metadata": {},
     "output_type": "execute_result"
    }
   ],
   "source": [
    "Neighbourhoods_df.columns"
   ]
  },
  {
   "cell_type": "code",
   "execution_count": 14,
   "metadata": {},
   "outputs": [
    {
     "data": {
      "text/plain": [
       "Index(['listing_id', 'date'], dtype='object')"
      ]
     },
     "execution_count": 14,
     "metadata": {},
     "output_type": "execute_result"
    }
   ],
   "source": [
    "Reviews_df.columns"
   ]
  },
  {
   "cell_type": "code",
   "execution_count": 17,
   "metadata": {},
   "outputs": [
    {
     "data": {
      "text/plain": [
       "Index(['listing_id', 'id', 'date', 'reviewer_id', 'reviewer_name', 'comments'], dtype='object')"
      ]
     },
     "execution_count": 17,
     "metadata": {},
     "output_type": "execute_result"
    }
   ],
   "source": [
    "Reviews_Summary_df.columns"
   ]
  },
  {
   "cell_type": "markdown",
   "metadata": {},
   "source": [
    "### <ins> Keeping the Necessary Columns </ins>"
   ]
  },
  {
   "cell_type": "code",
   "execution_count": 114,
   "metadata": {},
   "outputs": [],
   "source": [
    "#Dropping the unneccessay columns in Listings_Summary_df\n",
    "\n",
    "Listings_Summary_df = Listings_Summary_df.drop (['listing_url', 'scrape_id', 'last_scraped', 'summary',\n",
    "       'space', 'description', 'experiences_offered', 'neighborhood_overview',\n",
    "       'notes', 'transit', 'access', 'interaction', 'house_rules',\n",
    "       'thumbnail_url', 'medium_url', 'picture_url', 'xl_picture_url',\n",
    "        'host_url', 'host_since', 'host_about', 'host_response_time', 'host_response_rate',\n",
    "       'host_acceptance_rate', 'host_is_superhost', 'host_thumbnail_url',\n",
    "       'host_picture_url',  'calendar_last_scraped'], axis =1)\n"
   ]
  },
  {
   "cell_type": "code",
   "execution_count": 33,
   "metadata": {},
   "outputs": [
    {
     "data": {
      "text/html": [
       "<div>\n",
       "<style scoped>\n",
       "    .dataframe tbody tr th:only-of-type {\n",
       "        vertical-align: middle;\n",
       "    }\n",
       "\n",
       "    .dataframe tbody tr th {\n",
       "        vertical-align: top;\n",
       "    }\n",
       "\n",
       "    .dataframe thead th {\n",
       "        text-align: right;\n",
       "    }\n",
       "</style>\n",
       "<table border=\"1\" class=\"dataframe\">\n",
       "  <thead>\n",
       "    <tr style=\"text-align: right;\">\n",
       "      <th></th>\n",
       "      <th>id</th>\n",
       "      <th>name</th>\n",
       "      <th>host_id</th>\n",
       "      <th>host_name</th>\n",
       "      <th>host_location</th>\n",
       "      <th>host_neighbourhood</th>\n",
       "      <th>host_listings_count</th>\n",
       "      <th>host_total_listings_count</th>\n",
       "      <th>host_verifications</th>\n",
       "      <th>host_has_profile_pic</th>\n",
       "      <th>...</th>\n",
       "      <th>requires_license</th>\n",
       "      <th>license</th>\n",
       "      <th>jurisdiction_names</th>\n",
       "      <th>instant_bookable</th>\n",
       "      <th>is_business_travel_ready</th>\n",
       "      <th>cancellation_policy</th>\n",
       "      <th>require_guest_profile_picture</th>\n",
       "      <th>require_guest_phone_verification</th>\n",
       "      <th>calculated_host_listings_count</th>\n",
       "      <th>reviews_per_month</th>\n",
       "    </tr>\n",
       "  </thead>\n",
       "  <tbody>\n",
       "    <tr>\n",
       "      <td>0</td>\n",
       "      <td>2015</td>\n",
       "      <td>Berlin-Mitte Value! Quiet courtyard/very central</td>\n",
       "      <td>2217</td>\n",
       "      <td>Ian</td>\n",
       "      <td>Key Biscayne, Florida, United States</td>\n",
       "      <td>Mitte</td>\n",
       "      <td>4.0</td>\n",
       "      <td>4.0</td>\n",
       "      <td>['email', 'phone', 'reviews', 'jumio', 'offlin...</td>\n",
       "      <td>t</td>\n",
       "      <td>...</td>\n",
       "      <td>t</td>\n",
       "      <td>NaN</td>\n",
       "      <td>NaN</td>\n",
       "      <td>f</td>\n",
       "      <td>f</td>\n",
       "      <td>strict_14_with_grace_period</td>\n",
       "      <td>f</td>\n",
       "      <td>f</td>\n",
       "      <td>4</td>\n",
       "      <td>3.76</td>\n",
       "    </tr>\n",
       "    <tr>\n",
       "      <td>1</td>\n",
       "      <td>2695</td>\n",
       "      <td>Prenzlauer Berg close to Mauerpark</td>\n",
       "      <td>2986</td>\n",
       "      <td>Michael</td>\n",
       "      <td>Berlin, Berlin, Germany</td>\n",
       "      <td>Prenzlauer Berg</td>\n",
       "      <td>1.0</td>\n",
       "      <td>1.0</td>\n",
       "      <td>['email', 'phone', 'reviews', 'jumio', 'govern...</td>\n",
       "      <td>t</td>\n",
       "      <td>...</td>\n",
       "      <td>t</td>\n",
       "      <td>NaN</td>\n",
       "      <td>NaN</td>\n",
       "      <td>f</td>\n",
       "      <td>f</td>\n",
       "      <td>flexible</td>\n",
       "      <td>f</td>\n",
       "      <td>f</td>\n",
       "      <td>1</td>\n",
       "      <td>1.42</td>\n",
       "    </tr>\n",
       "    <tr>\n",
       "      <td>2</td>\n",
       "      <td>3176</td>\n",
       "      <td>Fabulous Flat in great Location</td>\n",
       "      <td>3718</td>\n",
       "      <td>Britta</td>\n",
       "      <td>Coledale, New South Wales, Australia</td>\n",
       "      <td>Prenzlauer Berg</td>\n",
       "      <td>1.0</td>\n",
       "      <td>1.0</td>\n",
       "      <td>['email', 'phone', 'facebook', 'reviews', 'man...</td>\n",
       "      <td>t</td>\n",
       "      <td>...</td>\n",
       "      <td>t</td>\n",
       "      <td>NaN</td>\n",
       "      <td>NaN</td>\n",
       "      <td>t</td>\n",
       "      <td>f</td>\n",
       "      <td>strict_14_with_grace_period</td>\n",
       "      <td>f</td>\n",
       "      <td>f</td>\n",
       "      <td>1</td>\n",
       "      <td>1.25</td>\n",
       "    </tr>\n",
       "    <tr>\n",
       "      <td>3</td>\n",
       "      <td>3309</td>\n",
       "      <td>BerlinSpot Schöneberg near KaDeWe</td>\n",
       "      <td>4108</td>\n",
       "      <td>Jana</td>\n",
       "      <td>Berlin, Berlin, Germany</td>\n",
       "      <td>Schöneberg</td>\n",
       "      <td>1.0</td>\n",
       "      <td>1.0</td>\n",
       "      <td>['email', 'phone', 'reviews', 'jumio', 'govern...</td>\n",
       "      <td>t</td>\n",
       "      <td>...</td>\n",
       "      <td>t</td>\n",
       "      <td>NaN</td>\n",
       "      <td>NaN</td>\n",
       "      <td>f</td>\n",
       "      <td>f</td>\n",
       "      <td>strict_14_with_grace_period</td>\n",
       "      <td>f</td>\n",
       "      <td>f</td>\n",
       "      <td>1</td>\n",
       "      <td>0.39</td>\n",
       "    </tr>\n",
       "    <tr>\n",
       "      <td>4</td>\n",
       "      <td>7071</td>\n",
       "      <td>BrightRoom with sunny greenview!</td>\n",
       "      <td>17391</td>\n",
       "      <td>Bright</td>\n",
       "      <td>Berlin, Berlin, Germany</td>\n",
       "      <td>Prenzlauer Berg</td>\n",
       "      <td>1.0</td>\n",
       "      <td>1.0</td>\n",
       "      <td>['email', 'phone', 'reviews', 'jumio', 'govern...</td>\n",
       "      <td>t</td>\n",
       "      <td>...</td>\n",
       "      <td>t</td>\n",
       "      <td>NaN</td>\n",
       "      <td>NaN</td>\n",
       "      <td>f</td>\n",
       "      <td>f</td>\n",
       "      <td>moderate</td>\n",
       "      <td>f</td>\n",
       "      <td>f</td>\n",
       "      <td>1</td>\n",
       "      <td>1.75</td>\n",
       "    </tr>\n",
       "  </tbody>\n",
       "</table>\n",
       "<p>5 rows × 69 columns</p>\n",
       "</div>"
      ],
      "text/plain": [
       "     id                                              name  host_id host_name  \\\n",
       "0  2015  Berlin-Mitte Value! Quiet courtyard/very central     2217       Ian   \n",
       "1  2695                Prenzlauer Berg close to Mauerpark     2986   Michael   \n",
       "2  3176                   Fabulous Flat in great Location     3718    Britta   \n",
       "3  3309                 BerlinSpot Schöneberg near KaDeWe     4108      Jana   \n",
       "4  7071                  BrightRoom with sunny greenview!    17391    Bright   \n",
       "\n",
       "                          host_location host_neighbourhood  \\\n",
       "0  Key Biscayne, Florida, United States              Mitte   \n",
       "1               Berlin, Berlin, Germany    Prenzlauer Berg   \n",
       "2  Coledale, New South Wales, Australia    Prenzlauer Berg   \n",
       "3               Berlin, Berlin, Germany         Schöneberg   \n",
       "4               Berlin, Berlin, Germany    Prenzlauer Berg   \n",
       "\n",
       "   host_listings_count  host_total_listings_count  \\\n",
       "0                  4.0                        4.0   \n",
       "1                  1.0                        1.0   \n",
       "2                  1.0                        1.0   \n",
       "3                  1.0                        1.0   \n",
       "4                  1.0                        1.0   \n",
       "\n",
       "                                  host_verifications host_has_profile_pic  \\\n",
       "0  ['email', 'phone', 'reviews', 'jumio', 'offlin...                    t   \n",
       "1  ['email', 'phone', 'reviews', 'jumio', 'govern...                    t   \n",
       "2  ['email', 'phone', 'facebook', 'reviews', 'man...                    t   \n",
       "3  ['email', 'phone', 'reviews', 'jumio', 'govern...                    t   \n",
       "4  ['email', 'phone', 'reviews', 'jumio', 'govern...                    t   \n",
       "\n",
       "   ... requires_license license jurisdiction_names instant_bookable  \\\n",
       "0  ...                t     NaN                NaN                f   \n",
       "1  ...                t     NaN                NaN                f   \n",
       "2  ...                t     NaN                NaN                t   \n",
       "3  ...                t     NaN                NaN                f   \n",
       "4  ...                t     NaN                NaN                f   \n",
       "\n",
       "  is_business_travel_ready          cancellation_policy  \\\n",
       "0                        f  strict_14_with_grace_period   \n",
       "1                        f                     flexible   \n",
       "2                        f  strict_14_with_grace_period   \n",
       "3                        f  strict_14_with_grace_period   \n",
       "4                        f                     moderate   \n",
       "\n",
       "  require_guest_profile_picture require_guest_phone_verification  \\\n",
       "0                             f                                f   \n",
       "1                             f                                f   \n",
       "2                             f                                f   \n",
       "3                             f                                f   \n",
       "4                             f                                f   \n",
       "\n",
       "  calculated_host_listings_count reviews_per_month  \n",
       "0                              4              3.76  \n",
       "1                              1              1.42  \n",
       "2                              1              1.25  \n",
       "3                              1              0.39  \n",
       "4                              1              1.75  \n",
       "\n",
       "[5 rows x 69 columns]"
      ]
     },
     "execution_count": 33,
     "metadata": {},
     "output_type": "execute_result"
    }
   ],
   "source": [
    "Listings_Summary_df.head()"
   ]
  },
  {
   "cell_type": "markdown",
   "metadata": {},
   "source": [
    "### <ins> Data Cleaning </ins>"
   ]
  },
  {
   "cell_type": "code",
   "execution_count": 3,
   "metadata": {},
   "outputs": [
    {
     "data": {
      "text/html": [
       "<div>\n",
       "<style scoped>\n",
       "    .dataframe tbody tr th:only-of-type {\n",
       "        vertical-align: middle;\n",
       "    }\n",
       "\n",
       "    .dataframe tbody tr th {\n",
       "        vertical-align: top;\n",
       "    }\n",
       "\n",
       "    .dataframe thead th {\n",
       "        text-align: right;\n",
       "    }\n",
       "</style>\n",
       "<table border=\"1\" class=\"dataframe\">\n",
       "  <thead>\n",
       "    <tr style=\"text-align: right;\">\n",
       "      <th></th>\n",
       "      <th>Amenities</th>\n",
       "    </tr>\n",
       "  </thead>\n",
       "  <tbody>\n",
       "    <tr>\n",
       "      <td>count</td>\n",
       "      <td>363474</td>\n",
       "    </tr>\n",
       "    <tr>\n",
       "      <td>unique</td>\n",
       "      <td>135</td>\n",
       "    </tr>\n",
       "    <tr>\n",
       "      <td>top</td>\n",
       "      <td>Wifi</td>\n",
       "    </tr>\n",
       "    <tr>\n",
       "      <td>freq</td>\n",
       "      <td>21512</td>\n",
       "    </tr>\n",
       "  </tbody>\n",
       "</table>\n",
       "</div>"
      ],
      "text/plain": [
       "       Amenities\n",
       "count     363474\n",
       "unique       135\n",
       "top         Wifi\n",
       "freq       21512"
      ]
     },
     "execution_count": 3,
     "metadata": {},
     "output_type": "execute_result"
    }
   ],
   "source": [
    "#Data Cleaning the Amenities Column\n",
    "\n",
    "Amenities = Listings_Summary_df.amenities\n",
    "\n",
    "Amenities_List = []\n",
    "\n",
    "for x in Amenities:\n",
    "        x=x.replace('\"','')\n",
    "        x=x.replace('{','')\n",
    "        x=x.replace('}','')\n",
    "        x=x.replace('Cable TV', 'TV')\n",
    "        \n",
    "        Amenities_List += x.split(',')\n",
    "\n",
    "Amenities_List.remove('translation missing: en.hosting_amenity_50')\n",
    "Amenities_List.remove('translation missing: en.hosting_amenity_49')\n",
    "Amenities_New= pd.DataFrame(Amenities_List)\n",
    "Amenities_New = Amenities_New.rename(columns = {0:\"Amenities\"})\n",
    "Amenities_New.describe()"
   ]
  },
  {
   "cell_type": "code",
   "execution_count": null,
   "metadata": {},
   "outputs": [],
   "source": [
    "#Data Cleanup for First_Review & Price Column\n",
    "\n",
    "Listings_Summary_df.first_review = pd.to_datetime(Listings_Summary_df.first_review)\n",
    "Listings_Summary_df.host_since = pd.to_datetime(Listings_Summary_df.host_since) \n",
    "Listings_Summary_df.price = Listings_Summary_df.price.str[1:-3]\n",
    "Listings_Summary_df.price = Listings_Summary_df.price.str.replace(\",\", \"\")\n",
    "Listings_Summary_df.price = Listings_Summary_df.price.astype('int64')"
   ]
  },
  {
   "cell_type": "code",
   "execution_count": 4,
   "metadata": {},
   "outputs": [],
   "source": [
    "#Calculating Ratings\n",
    "\n",
    "Listings_Summary_df[\"Rating\"] = round((Listings_Summary_df['review_scores_accuracy'] + Listings_Summary_df['review_scores_cleanliness'] + \n",
    "                                 Listings_Summary_df['review_scores_checkin'] + Listings_Summary_df['review_scores_communication'] +\n",
    "                                Listings_Summary_df['review_scores_location'] + Listings_Summary_df['review_scores_value']) /6)\n",
    "                    \n",
    "Listings_Summary_df[\"Rating\"] = Listings_Summary_df[\"Rating\"].dropna(how=\"any\")\n",
    "\n"
   ]
  },
  {
   "cell_type": "markdown",
   "metadata": {},
   "source": [
    "## <ins> Visualizations </ins>"
   ]
  },
  {
   "cell_type": "code",
   "execution_count": 10,
   "metadata": {},
   "outputs": [
    {
     "data": {
      "image/png": "[encoded data removed]",
      "text/plain": [
       "<Figure size 432x288 with 1 Axes>"
      ]
     },
     "metadata": {
      "needs_background": "light"
     },
     "output_type": "display_data"
    }
   ],
   "source": [
    "Amenities_Group = Amenities_New.groupby('Amenities')\n",
    "\n",
    "Amenities_Count = Amenities_Group[\"Amenities\"].count()\n",
    "\n",
    "Amenities_Count = Amenities_Count.sort_values(ascending=False)\n",
    "\n",
    "#Amenities_Count = (Amenities_Count/Amenities_Count.sum())*100\n",
    "\n",
    "plt.plot(Amenities_Count[0:10], linewidth=2.0, marker='D', linestyle=':')\n",
    "plt.xticks(rotation=90)\n",
    "plt.xlabel(\"Amenities\", fontweight='bold' )\n",
    "plt.ylabel(\"Overall Count Of Amenities\" , fontweight='bold')\n",
    "plt.title(\"Top 10 Amenities \",fontsize=14, fontweight='bold')\n",
    "\n",
    "plt.grid()\n",
    "plt.savefig(\"Visualizations/Top10_Amenities.png\")\n",
    "plt.show()\n"
   ]
  },
  {
   "cell_type": "markdown",
   "metadata": {},
   "source": [
    "### <ins> Observation </ins>"
   ]
  },
  {
   "cell_type": "markdown",
   "metadata": {},
   "source": [
    "From the above visualization, we can infer that Wifi, Kitchen, Heating, Essentials and Washer are the most important amenities to be considered for the successful of listing.For those who are already in the business and don't have those amenities, make sure the factibility of installing all or some of the amenities to grow your business."
   ]
  },
  {
   "cell_type": "code",
   "execution_count": 19,
   "metadata": {},
   "outputs": [
    {
     "data": {
      "image/png": "[encoded data removed]",
      "text/plain": [
       "<Figure size 1080x360 with 1 Axes>"
      ]
     },
     "metadata": {
      "needs_background": "light"
     },
     "output_type": "display_data"
    }
   ],
   "source": [
    "fig, (ax1) = plt.subplots(1,figsize=(15,5))   \n",
    "Amenities_Count[0:10].plot(kind='bar',ax = ax1)\n",
    "ax1.set_title('Top 10 Amenities Plot', fontweight='bold')\n",
    "ax1.set_xlabel('Amenities')\n",
    "ax1.set_ylabel('Amenities Count')\n",
    "\n",
    "total = Listings_Summary_df[\"amenities\"].count()\n",
    "\n",
    "for p in ax1.patches:\n",
    "    width, height = p.get_width(), p.get_height()/total\n",
    "    x, y = p.get_xy() \n",
    "    ax1.annotate('{:.0%}'.format(height), (p.get_x()+0.5*width, p.get_y()+5000 + height + 0.01),\n",
    "                 ha = 'center', fontweight='bold')\n",
    "plt.show()\n"
   ]
  },
  {
   "cell_type": "code",
   "execution_count": 21,
   "metadata": {},
   "outputs": [
    {
     "data": {
      "text/html": [
       "<div>\n",
       "<style scoped>\n",
       "    .dataframe tbody tr th:only-of-type {\n",
       "        vertical-align: middle;\n",
       "    }\n",
       "\n",
       "    .dataframe tbody tr th {\n",
       "        vertical-align: top;\n",
       "    }\n",
       "\n",
       "    .dataframe thead th {\n",
       "        text-align: right;\n",
       "    }\n",
       "</style>\n",
       "<table border=\"1\" class=\"dataframe\">\n",
       "  <thead>\n",
       "    <tr style=\"text-align: right;\">\n",
       "      <th></th>\n",
       "      <th></th>\n",
       "      <th></th>\n",
       "      <th></th>\n",
       "      <th>Location Price</th>\n",
       "      <th>Latitude</th>\n",
       "      <th>Longitude</th>\n",
       "      <th>Place</th>\n",
       "    </tr>\n",
       "    <tr>\n",
       "      <th>latitude</th>\n",
       "      <th>longitude</th>\n",
       "      <th>neighbourhood_cleansed</th>\n",
       "      <th>Rating</th>\n",
       "      <th></th>\n",
       "      <th></th>\n",
       "      <th></th>\n",
       "      <th></th>\n",
       "    </tr>\n",
       "  </thead>\n",
       "  <tbody>\n",
       "    <tr>\n",
       "      <td>52.346203</td>\n",
       "      <td>13.644671</td>\n",
       "      <td>Schmöckwitz/Karolinenhof/Rauchfangswerder</td>\n",
       "      <td>10.0</td>\n",
       "      <td>$99.00</td>\n",
       "      <td>52.346203</td>\n",
       "      <td>13.644671</td>\n",
       "      <td>Schmöckwitz/Karolinenhof/Rauchfangswerder</td>\n",
       "    </tr>\n",
       "    <tr>\n",
       "      <td>52.519016</td>\n",
       "      <td>13.459627</td>\n",
       "      <td>Frankfurter Allee Nord</td>\n",
       "      <td>10.0</td>\n",
       "      <td>$21.00</td>\n",
       "      <td>52.519016</td>\n",
       "      <td>13.459627</td>\n",
       "      <td>Frankfurter Allee Nord</td>\n",
       "    </tr>\n",
       "    <tr>\n",
       "      <td>52.518904</td>\n",
       "      <td>13.318250</td>\n",
       "      <td>Otto-Suhr-Allee</td>\n",
       "      <td>10.0</td>\n",
       "      <td>$100.00</td>\n",
       "      <td>52.518904</td>\n",
       "      <td>13.318250</td>\n",
       "      <td>Otto-Suhr-Allee</td>\n",
       "    </tr>\n",
       "    <tr>\n",
       "      <td>52.518908</td>\n",
       "      <td>13.427348</td>\n",
       "      <td>Karl-Marx-Allee-Süd</td>\n",
       "      <td>10.0</td>\n",
       "      <td>$56.00</td>\n",
       "      <td>52.518908</td>\n",
       "      <td>13.427348</td>\n",
       "      <td>Karl-Marx-Allee-Süd</td>\n",
       "    </tr>\n",
       "    <tr>\n",
       "      <td>52.518912</td>\n",
       "      <td>13.486248</td>\n",
       "      <td>Alt-Lichtenberg</td>\n",
       "      <td>10.0</td>\n",
       "      <td>$50.00</td>\n",
       "      <td>52.518912</td>\n",
       "      <td>13.486248</td>\n",
       "      <td>Alt-Lichtenberg</td>\n",
       "    </tr>\n",
       "    <tr>\n",
       "      <td>52.518930</td>\n",
       "      <td>13.525894</td>\n",
       "      <td>Marzahn-Süd</td>\n",
       "      <td>10.0</td>\n",
       "      <td>$0.00</td>\n",
       "      <td>52.518930</td>\n",
       "      <td>13.525894</td>\n",
       "      <td>Marzahn-Süd</td>\n",
       "    </tr>\n",
       "    <tr>\n",
       "      <td>52.518933</td>\n",
       "      <td>13.469145</td>\n",
       "      <td>Frankfurter Allee Nord</td>\n",
       "      <td>10.0</td>\n",
       "      <td>$40.00</td>\n",
       "      <td>52.518933</td>\n",
       "      <td>13.469145</td>\n",
       "      <td>Frankfurter Allee Nord</td>\n",
       "    </tr>\n",
       "    <tr>\n",
       "      <td>52.518944</td>\n",
       "      <td>13.458170</td>\n",
       "      <td>Frankfurter Allee Nord</td>\n",
       "      <td>10.0</td>\n",
       "      <td>$50.00</td>\n",
       "      <td>52.518944</td>\n",
       "      <td>13.458170</td>\n",
       "      <td>Frankfurter Allee Nord</td>\n",
       "    </tr>\n",
       "    <tr>\n",
       "      <td>52.518951</td>\n",
       "      <td>13.424355</td>\n",
       "      <td>Alexanderplatz</td>\n",
       "      <td>10.0</td>\n",
       "      <td>$25.00</td>\n",
       "      <td>52.518951</td>\n",
       "      <td>13.424355</td>\n",
       "      <td>Alexanderplatz</td>\n",
       "    </tr>\n",
       "    <tr>\n",
       "      <td>52.518955</td>\n",
       "      <td>13.465873</td>\n",
       "      <td>Frankfurter Allee Nord</td>\n",
       "      <td>10.0</td>\n",
       "      <td>$99.00</td>\n",
       "      <td>52.518955</td>\n",
       "      <td>13.465873</td>\n",
       "      <td>Frankfurter Allee Nord</td>\n",
       "    </tr>\n",
       "    <tr>\n",
       "      <td>52.518965</td>\n",
       "      <td>13.357427</td>\n",
       "      <td>Moabit Ost</td>\n",
       "      <td>10.0</td>\n",
       "      <td>$70.00</td>\n",
       "      <td>52.518965</td>\n",
       "      <td>13.357427</td>\n",
       "      <td>Moabit Ost</td>\n",
       "    </tr>\n",
       "    <tr>\n",
       "      <td>52.518967</td>\n",
       "      <td>13.465965</td>\n",
       "      <td>Frankfurter Allee Nord</td>\n",
       "      <td>10.0</td>\n",
       "      <td>$25.00</td>\n",
       "      <td>52.518967</td>\n",
       "      <td>13.465965</td>\n",
       "      <td>Frankfurter Allee Nord</td>\n",
       "    </tr>\n",
       "    <tr>\n",
       "      <td>52.518969</td>\n",
       "      <td>13.385492</td>\n",
       "      <td>Regierungsviertel</td>\n",
       "      <td>10.0</td>\n",
       "      <td>$72.00</td>\n",
       "      <td>52.518969</td>\n",
       "      <td>13.385492</td>\n",
       "      <td>Regierungsviertel</td>\n",
       "    </tr>\n",
       "    <tr>\n",
       "      <td>52.519013</td>\n",
       "      <td>13.444975</td>\n",
       "      <td>Karl-Marx-Allee-Nord</td>\n",
       "      <td>10.0</td>\n",
       "      <td>$50.00</td>\n",
       "      <td>52.519013</td>\n",
       "      <td>13.444975</td>\n",
       "      <td>Karl-Marx-Allee-Nord</td>\n",
       "    </tr>\n",
       "    <tr>\n",
       "      <td>52.519018</td>\n",
       "      <td>13.450537</td>\n",
       "      <td>Karl-Marx-Allee-Nord</td>\n",
       "      <td>10.0</td>\n",
       "      <td>$25.00</td>\n",
       "      <td>52.519018</td>\n",
       "      <td>13.450537</td>\n",
       "      <td>Karl-Marx-Allee-Nord</td>\n",
       "    </tr>\n",
       "    <tr>\n",
       "      <td>52.518901</td>\n",
       "      <td>13.480059</td>\n",
       "      <td>Alt-Lichtenberg</td>\n",
       "      <td>10.0</td>\n",
       "      <td>$29.00</td>\n",
       "      <td>52.518901</td>\n",
       "      <td>13.480059</td>\n",
       "      <td>Alt-Lichtenberg</td>\n",
       "    </tr>\n",
       "    <tr>\n",
       "      <td>52.519019</td>\n",
       "      <td>13.458976</td>\n",
       "      <td>Frankfurter Allee Nord</td>\n",
       "      <td>10.0</td>\n",
       "      <td>$69.00</td>\n",
       "      <td>52.519019</td>\n",
       "      <td>13.458976</td>\n",
       "      <td>Frankfurter Allee Nord</td>\n",
       "    </tr>\n",
       "    <tr>\n",
       "      <td>52.519030</td>\n",
       "      <td>13.334046</td>\n",
       "      <td>Moabit West</td>\n",
       "      <td>10.0</td>\n",
       "      <td>$26.00</td>\n",
       "      <td>52.519030</td>\n",
       "      <td>13.334046</td>\n",
       "      <td>Moabit West</td>\n",
       "    </tr>\n",
       "    <tr>\n",
       "      <td>52.519042</td>\n",
       "      <td>13.464732</td>\n",
       "      <td>Frankfurter Allee Nord</td>\n",
       "      <td>10.0</td>\n",
       "      <td>$30.00</td>\n",
       "      <td>52.519042</td>\n",
       "      <td>13.464732</td>\n",
       "      <td>Frankfurter Allee Nord</td>\n",
       "    </tr>\n",
       "    <tr>\n",
       "      <td>52.519083</td>\n",
       "      <td>13.396147</td>\n",
       "      <td>Regierungsviertel</td>\n",
       "      <td>10.0</td>\n",
       "      <td>$148.00</td>\n",
       "      <td>52.519083</td>\n",
       "      <td>13.396147</td>\n",
       "      <td>Regierungsviertel</td>\n",
       "    </tr>\n",
       "  </tbody>\n",
       "</table>\n",
       "</div>"
      ],
      "text/plain": [
       "                                                                     Location Price  \\\n",
       "latitude  longitude neighbourhood_cleansed                    Rating                  \n",
       "52.346203 13.644671 Schmöckwitz/Karolinenhof/Rauchfangswerder 10.0           $99.00   \n",
       "52.519016 13.459627 Frankfurter Allee Nord                    10.0           $21.00   \n",
       "52.518904 13.318250 Otto-Suhr-Allee                           10.0          $100.00   \n",
       "52.518908 13.427348 Karl-Marx-Allee-Süd                       10.0           $56.00   \n",
       "52.518912 13.486248 Alt-Lichtenberg                           10.0           $50.00   \n",
       "52.518930 13.525894 Marzahn-Süd                               10.0            $0.00   \n",
       "52.518933 13.469145 Frankfurter Allee Nord                    10.0           $40.00   \n",
       "52.518944 13.458170 Frankfurter Allee Nord                    10.0           $50.00   \n",
       "52.518951 13.424355 Alexanderplatz                            10.0           $25.00   \n",
       "52.518955 13.465873 Frankfurter Allee Nord                    10.0           $99.00   \n",
       "52.518965 13.357427 Moabit Ost                                10.0           $70.00   \n",
       "52.518967 13.465965 Frankfurter Allee Nord                    10.0           $25.00   \n",
       "52.518969 13.385492 Regierungsviertel                         10.0           $72.00   \n",
       "52.519013 13.444975 Karl-Marx-Allee-Nord                      10.0           $50.00   \n",
       "52.519018 13.450537 Karl-Marx-Allee-Nord                      10.0           $25.00   \n",
       "52.518901 13.480059 Alt-Lichtenberg                           10.0           $29.00   \n",
       "52.519019 13.458976 Frankfurter Allee Nord                    10.0           $69.00   \n",
       "52.519030 13.334046 Moabit West                               10.0           $26.00   \n",
       "52.519042 13.464732 Frankfurter Allee Nord                    10.0           $30.00   \n",
       "52.519083 13.396147 Regierungsviertel                         10.0          $148.00   \n",
       "\n",
       "                                                                       Latitude  \\\n",
       "latitude  longitude neighbourhood_cleansed                    Rating              \n",
       "52.346203 13.644671 Schmöckwitz/Karolinenhof/Rauchfangswerder 10.0    52.346203   \n",
       "52.519016 13.459627 Frankfurter Allee Nord                    10.0    52.519016   \n",
       "52.518904 13.318250 Otto-Suhr-Allee                           10.0    52.518904   \n",
       "52.518908 13.427348 Karl-Marx-Allee-Süd                       10.0    52.518908   \n",
       "52.518912 13.486248 Alt-Lichtenberg                           10.0    52.518912   \n",
       "52.518930 13.525894 Marzahn-Süd                               10.0    52.518930   \n",
       "52.518933 13.469145 Frankfurter Allee Nord                    10.0    52.518933   \n",
       "52.518944 13.458170 Frankfurter Allee Nord                    10.0    52.518944   \n",
       "52.518951 13.424355 Alexanderplatz                            10.0    52.518951   \n",
       "52.518955 13.465873 Frankfurter Allee Nord                    10.0    52.518955   \n",
       "52.518965 13.357427 Moabit Ost                                10.0    52.518965   \n",
       "52.518967 13.465965 Frankfurter Allee Nord                    10.0    52.518967   \n",
       "52.518969 13.385492 Regierungsviertel                         10.0    52.518969   \n",
       "52.519013 13.444975 Karl-Marx-Allee-Nord                      10.0    52.519013   \n",
       "52.519018 13.450537 Karl-Marx-Allee-Nord                      10.0    52.519018   \n",
       "52.518901 13.480059 Alt-Lichtenberg                           10.0    52.518901   \n",
       "52.519019 13.458976 Frankfurter Allee Nord                    10.0    52.519019   \n",
       "52.519030 13.334046 Moabit West                               10.0    52.519030   \n",
       "52.519042 13.464732 Frankfurter Allee Nord                    10.0    52.519042   \n",
       "52.519083 13.396147 Regierungsviertel                         10.0    52.519083   \n",
       "\n",
       "                                                                      Longitude  \\\n",
       "latitude  longitude neighbourhood_cleansed                    Rating              \n",
       "52.346203 13.644671 Schmöckwitz/Karolinenhof/Rauchfangswerder 10.0    13.644671   \n",
       "52.519016 13.459627 Frankfurter Allee Nord                    10.0    13.459627   \n",
       "52.518904 13.318250 Otto-Suhr-Allee                           10.0    13.318250   \n",
       "52.518908 13.427348 Karl-Marx-Allee-Süd                       10.0    13.427348   \n",
       "52.518912 13.486248 Alt-Lichtenberg                           10.0    13.486248   \n",
       "52.518930 13.525894 Marzahn-Süd                               10.0    13.525894   \n",
       "52.518933 13.469145 Frankfurter Allee Nord                    10.0    13.469145   \n",
       "52.518944 13.458170 Frankfurter Allee Nord                    10.0    13.458170   \n",
       "52.518951 13.424355 Alexanderplatz                            10.0    13.424355   \n",
       "52.518955 13.465873 Frankfurter Allee Nord                    10.0    13.465873   \n",
       "52.518965 13.357427 Moabit Ost                                10.0    13.357427   \n",
       "52.518967 13.465965 Frankfurter Allee Nord                    10.0    13.465965   \n",
       "52.518969 13.385492 Regierungsviertel                         10.0    13.385492   \n",
       "52.519013 13.444975 Karl-Marx-Allee-Nord                      10.0    13.444975   \n",
       "52.519018 13.450537 Karl-Marx-Allee-Nord                      10.0    13.450537   \n",
       "52.518901 13.480059 Alt-Lichtenberg                           10.0    13.480059   \n",
       "52.519019 13.458976 Frankfurter Allee Nord                    10.0    13.458976   \n",
       "52.519030 13.334046 Moabit West                               10.0    13.334046   \n",
       "52.519042 13.464732 Frankfurter Allee Nord                    10.0    13.464732   \n",
       "52.519083 13.396147 Regierungsviertel                         10.0    13.396147   \n",
       "\n",
       "                                                                                                          Place  \n",
       "latitude  longitude neighbourhood_cleansed                    Rating                                             \n",
       "52.346203 13.644671 Schmöckwitz/Karolinenhof/Rauchfangswerder 10.0    Schmöckwitz/Karolinenhof/Rauchfangswerder  \n",
       "52.519016 13.459627 Frankfurter Allee Nord                    10.0                       Frankfurter Allee Nord  \n",
       "52.518904 13.318250 Otto-Suhr-Allee                           10.0                              Otto-Suhr-Allee  \n",
       "52.518908 13.427348 Karl-Marx-Allee-Süd                       10.0                          Karl-Marx-Allee-Süd  \n",
       "52.518912 13.486248 Alt-Lichtenberg                           10.0                              Alt-Lichtenberg  \n",
       "52.518930 13.525894 Marzahn-Süd                               10.0                                  Marzahn-Süd  \n",
       "52.518933 13.469145 Frankfurter Allee Nord                    10.0                       Frankfurter Allee Nord  \n",
       "52.518944 13.458170 Frankfurter Allee Nord                    10.0                       Frankfurter Allee Nord  \n",
       "52.518951 13.424355 Alexanderplatz                            10.0                               Alexanderplatz  \n",
       "52.518955 13.465873 Frankfurter Allee Nord                    10.0                       Frankfurter Allee Nord  \n",
       "52.518965 13.357427 Moabit Ost                                10.0                                   Moabit Ost  \n",
       "52.518967 13.465965 Frankfurter Allee Nord                    10.0                       Frankfurter Allee Nord  \n",
       "52.518969 13.385492 Regierungsviertel                         10.0                            Regierungsviertel  \n",
       "52.519013 13.444975 Karl-Marx-Allee-Nord                      10.0                         Karl-Marx-Allee-Nord  \n",
       "52.519018 13.450537 Karl-Marx-Allee-Nord                      10.0                         Karl-Marx-Allee-Nord  \n",
       "52.518901 13.480059 Alt-Lichtenberg                           10.0                              Alt-Lichtenberg  \n",
       "52.519019 13.458976 Frankfurter Allee Nord                    10.0                       Frankfurter Allee Nord  \n",
       "52.519030 13.334046 Moabit West                               10.0                                  Moabit West  \n",
       "52.519042 13.464732 Frankfurter Allee Nord                    10.0                       Frankfurter Allee Nord  \n",
       "52.519083 13.396147 Regierungsviertel                         10.0                            Regierungsviertel  "
      ]
     },
     "execution_count": 21,
     "metadata": {},
     "output_type": "execute_result"
    }
   ],
   "source": [
    "Top_Airbnb_Locations_Group = Listings_Summary_df.groupby([\"latitude\",\"longitude\",\"neighbourhood_cleansed\",\"Rating\"])\n",
    "Top_Location_Price = Top_Airbnb_Locations_Group[\"price\"].sum()\n",
    "Latitude = Top_Airbnb_Locations_Group[\"latitude\"].max()\n",
    "Longitude = Top_Airbnb_Locations_Group[\"longitude\"].max()\n",
    "Place = Top_Airbnb_Locations_Group[\"neighbourhood_cleansed\"].max()\n",
    "Top_Airbnb_Location_df = pd.DataFrame({\"Location Price\" : Top_Location_Price,\n",
    "                                       \"Latitude\" : Latitude,\n",
    "                                       \"Longitude\" : Longitude,\n",
    "                                        \"Place\" : Place})\n",
    "Top_Airbnb_Location_df = Top_Airbnb_Location_df.sort_values(\"Rating\", ascending=False)\n",
    "Top_Airbnb_Location_df[0:20]"
   ]
  },
  {
   "cell_type": "code",
   "execution_count": 22,
   "metadata": {},
   "outputs": [
    {
     "data": {
      "application/vnd.jupyter.widget-view+json": {
       "model_id": "debc1067bd3246f5a9023c29c0b3d73f",
       "version_major": 2,
       "version_minor": 0
      },
      "text/plain": [
       "Figure(layout=FigureLayout(height='420px'))"
      ]
     },
     "metadata": {},
     "output_type": "display_data"
    }
   ],
   "source": [
    "from config import gkey\n",
    "\n",
    "gmaps.configure(api_key=gkey)  \n",
    "\n",
    "locations = Top_Airbnb_Location_df[[\"Latitude\",\"Longitude\"]]\n",
    "place = Top_Airbnb_Location_df['Place']\n",
    "\n",
    "#Heat Map Layer for Top 20 Airbnb Places\n",
    "fig = gmaps.figure()\n",
    "heat_layer = gmaps.heatmap_layer(locations[0:20], point_radius=12)\n",
    "fig.add_layer(heat_layer)\n",
    "fig\n"
   ]
  },
  {
   "cell_type": "code",
   "execution_count": 23,
   "metadata": {},
   "outputs": [
    {
     "data": {
      "application/vnd.jupyter.widget-view+json": {
       "model_id": "e2c2b0983abb45a9a30545f19065983a",
       "version_major": 2,
       "version_minor": 0
      },
      "text/plain": [
       "Figure(layout=FigureLayout(height='420px'))"
      ]
     },
     "metadata": {},
     "output_type": "display_data"
    }
   ],
   "source": [
    "#Marker_Layer for Top 20 Airbnb Places\n",
    "fig = gmaps.figure()\n",
    "markers = gmaps.marker_layer(locations[0:20], info_box_content=place[0:20])\n",
    "fig.add_layer(markers)\n",
    "fig\n"
   ]
  },
  {
   "cell_type": "code",
   "execution_count": 24,
   "metadata": {},
   "outputs": [
    {
     "data": {
      "application/vnd.jupyter.widget-view+json": {
       "model_id": "d48775a24a054e4094f292a36b82a09a",
       "version_major": 2,
       "version_minor": 0
      },
      "text/plain": [
       "Figure(layout=FigureLayout(height='420px'))"
      ]
     },
     "metadata": {},
     "output_type": "display_data"
    }
   ],
   "source": [
    "locations = Listings_Summary_df[[\"latitude\",\"longitude\"]]\n",
    "Airbnb_location = gmaps.symbol_layer(locations[0:10], fill_color=\"green\", stroke_color=\"green\", scale=5)\n",
    "fig = gmaps.figure()\n",
    "fig.add_layer(Airbnb_location)\n",
    "fig"
   ]
  },
  {
   "cell_type": "markdown",
   "metadata": {},
   "source": [
    "### Host Verification\n",
    "\n",
    "How many hosts are verified??"
   ]
  },
  {
   "cell_type": "code",
   "execution_count": 100,
   "metadata": {},
   "outputs": [
    {
     "data": {
      "text/plain": [
       "f    0.613691\n",
       "t    0.386309\n",
       "Name: host_identity_verified, dtype: float64"
      ]
     },
     "execution_count": 100,
     "metadata": {},
     "output_type": "execute_result"
    }
   ],
   "source": [
    "#Host Verification\n",
    "Listings_Summary_df.host_identity_verified.value_counts(normalize=True)"
   ]
  },
  {
   "cell_type": "code",
   "execution_count": 98,
   "metadata": {},
   "outputs": [
    {
     "data": {
      "image/png": "[encoded data removed]",
      "text/plain": [
       "<Figure size 360x360 with 1 Axes>"
      ]
     },
     "metadata": {
      "needs_background": "light"
     },
     "output_type": "display_data"
    }
   ],
   "source": [
    "#Host Verification - Plot\n",
    "\n",
    "fig, (ax1) = plt.subplots(1, figsize=(5,5))   \n",
    "Listings_Summary_df.groupby('host_identity_verified').size().plot(kind='bar',ax = ax1, color=['red', 'green'])\n",
    "ax1.set_xticklabels(labels=['False', 'True'], rotation=0)\n",
    "ax1.set_title('Host Verification Analysis Plot', fontweight='bold')\n",
    "ax1.set_xlabel('Host Identity')\n",
    "ax1.set_ylabel('Host ID Count')\n",
    "\n",
    "total = len(Listings_Summary_df['host_identity_verified'])\n",
    "\n",
    "for p in ax1.patches:\n",
    "    width, height = p.get_width(), p.get_height()/total\n",
    "    x, y = p.get_xy() \n",
    "    ax1.annotate('{:.0%}'.format(height), (p.get_x()+0.5*width, p.get_y()+5000 + height + 0.01),\n",
    "                 ha = 'center', fontweight='bold')\n",
    "plt.show()"
   ]
  },
  {
   "cell_type": "markdown",
   "metadata": {},
   "source": [
    "Only about 39% of the hosts are verified (Verified phone number, ID, email address, reviews, etc). <br></br>\n",
    "Verifying the details is something that hosts often think they are expected to do. <br></br>\n",
    "Guests might expect the additional trust commanded by verified hosts for their accomodation."
   ]
  },
  {
   "cell_type": "markdown",
   "metadata": {},
   "source": [
    "## Time Series Analysis"
   ]
  },
  {
   "cell_type": "markdown",
   "metadata": {},
   "source": [
    "Question: how have prices changed over time?\n",
    "\n",
    "The average price per night for Airbnb listings in Berlin has decreased slightly over the last 10 years. \n",
    "In 2010, the mean price was 87$ (high), then the price has been dratically reduced to 65$."
   ]
  },
  {
   "cell_type": "code",
   "execution_count": 37,
   "metadata": {},
   "outputs": [
    {
     "name": "stderr",
     "output_type": "stream",
     "text": [
      "c:\\users\\saranya\\appdata\\local\\programs\\python\\python37-32\\lib\\site-packages\\pandas\\core\\series.py:853: RuntimeWarning: divide by zero encountered in log\n",
      "  result = getattr(ufunc, method)(*inputs, **kwargs)\n"
     ]
    },
    {
     "data": {
      "image/png": "[encoded data removed]",
      "text/plain": [
       "<Figure size 1152x432 with 1 Axes>"
      ]
     },
     "metadata": {
      "needs_background": "light"
     },
     "output_type": "display_data"
    }
   ],
   "source": [
    "\n",
    "plt.figure(figsize=(16,6))\n",
    "sns.boxplot(Listings_Summary_df.first_review.dt.year, np.log(Listings_Summary_df.price))\n",
    "plt.xlabel('Year Range', fontsize=12)\n",
    "plt.ylabel('Nightly Price (log-transformed)', fontsize=12)\n",
    "plt.title('Change per year in the Nightly price of Airbnb listings in Berlin', fontsize=16)\n",
    "plt.show()"
   ]
  },
  {
   "cell_type": "code",
   "execution_count": 41,
   "metadata": {},
   "outputs": [
    {
     "name": "stdout",
     "output_type": "stream",
     "text": [
      "Mean nightly price of listings in each year on Airbnb in Berlin:\n",
      "first_review\n",
      "2009-01-01    66.00\n",
      "2010-01-01    87.14\n",
      "2011-01-01    77.17\n",
      "2012-01-01    70.29\n",
      "2013-01-01    68.52\n",
      "2014-01-01    68.13\n",
      "2015-01-01    59.52\n",
      "2016-01-01    62.60\n",
      "2017-01-01    57.91\n",
      "2018-01-01    65.32\n",
      "Name: price, dtype: float64\n"
     ]
    }
   ],
   "source": [
    "print(\"Mean nightly price of listings in each year on Airbnb in Berlin:\")\n",
    "print(round(Listings_Summary_df.set_index('first_review').price.resample('YS').mean(),2))"
   ]
  },
  {
   "cell_type": "code",
   "execution_count": null,
   "metadata": {},
   "outputs": [],
   "source": []
  },
  {
   "cell_type": "code",
   "execution_count": null,
   "metadata": {},
   "outputs": [],
   "source": []
  }
 ],
 "metadata": {
  "kernelspec": {
   "display_name": "Python 3",
   "language": "python",
   "name": "python3"
  },
  "language_info": {
   "codemirror_mode": {
    "name": "ipython",
    "version": 3
   },
   "file_extension": ".py",
   "mimetype": "text/x-python",
   "name": "python",
   "nbconvert_exporter": "python",
   "pygments_lexer": "ipython3",
   "version": "3.7.4"
  }
 },
 "nbformat": 4,
 "nbformat_minor": 2
}
