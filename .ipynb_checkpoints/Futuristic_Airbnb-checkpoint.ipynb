{
 "cells": [
  {
   "cell_type": "markdown",
   "metadata": {},
   "source": [
    "# <ins> Futuristic Airbnb </ins>"
   ]
  },
  {
   "cell_type": "markdown",
   "metadata": {},
   "source": [
    "Airbnb has successfully disrupted the traditional hospitality industry as more and more travelers decide to use Airbnb as their primary accommodation provider. Since its beginning in 2008, Airbnb has seen an enormous growth, with the number of rentals listed on its website growing exponentially each year. In Germany, no city is more popular than Berlin. That implies that Berlin is one of the hottest markets for Airbnb in Europe, with over 22,552 listings as of November 2018.Here we will be using Python with some packages like Pandas and Matplotlib to analyze data  to find a better Accommodation based on customer satisfaction and to improve the Airbnb business based on certain factors in Berlin."
   ]
  },
  {
   "cell_type": "markdown",
   "metadata": {},
   "source": [
    "<hr> </hr>"
   ]
  },
  {
   "cell_type": "code",
   "execution_count": 15,
   "metadata": {},
   "outputs": [],
   "source": [
    "#Importing Dependencies\n",
    "import pandas as pd\n",
    "import numpy as np\n",
    "import matplotlib.pyplot as plt\n",
    "import requests\n",
    "import time\n",
    "import json\n",
    "import gmaps"
   ]
  },
  {
   "cell_type": "code",
   "execution_count": 76,
   "metadata": {},
   "outputs": [],
   "source": [
    "#Reading Files and storing in Dataframes\n",
    "\n",
    "Calendar_Summary_df = pd.read_csv(\"../Dataset/calendar_summary.csv\")\n",
    "Listings_df = pd.read_csv(\"../Dataset/listings.csv\")\n",
    "Listings_Summary_df = pd.read_csv(\"../Dataset/listings_summary.csv\")\n",
    "Neighbourhoods_df = pd.read_csv(\"../Dataset/neighbourhoods.csv\")\n",
    "Reviews_df = pd.read_csv(\"../Dataset/reviews.csv\")\n",
    "Reviews_Summary_df = pd.read_csv(\"../Dataset/reviews_summary.csv\")\n"
   ]
  },
  {
   "cell_type": "markdown",
   "metadata": {},
   "source": [
    "### <ins> Identifying the Columns </ins>"
   ]
  },
  {
   "cell_type": "code",
   "execution_count": 19,
   "metadata": {},
   "outputs": [
    {
     "data": {
      "text/plain": [
       "Index(['listing_id', 'date', 'available', 'price'], dtype='object')"
      ]
     },
     "execution_count": 19,
     "metadata": {},
     "output_type": "execute_result"
    }
   ],
   "source": [
    "Calendar_Summary_df.columns"
   ]
  },
  {
   "cell_type": "code",
   "execution_count": 20,
   "metadata": {},
   "outputs": [
    {
     "data": {
      "text/plain": [
       "Index(['id', 'name', 'host_id', 'host_name', 'neighbourhood_group',\n",
       "       'neighbourhood', 'latitude', 'longitude', 'room_type', 'price',\n",
       "       'minimum_nights', 'number_of_reviews', 'last_review',\n",
       "       'reviews_per_month', 'calculated_host_listings_count',\n",
       "       'availability_365'],\n",
       "      dtype='object')"
      ]
     },
     "execution_count": 20,
     "metadata": {},
     "output_type": "execute_result"
    }
   ],
   "source": [
    "Listings_df.columns"
   ]
  },
  {
   "cell_type": "code",
   "execution_count": 21,
   "metadata": {},
   "outputs": [
    {
     "data": {
      "text/plain": [
       "Index(['id', 'listing_url', 'scrape_id', 'last_scraped', 'name', 'summary',\n",
       "       'space', 'description', 'experiences_offered', 'neighborhood_overview',\n",
       "       'notes', 'transit', 'access', 'interaction', 'house_rules',\n",
       "       'thumbnail_url', 'medium_url', 'picture_url', 'xl_picture_url',\n",
       "       'host_id', 'host_url', 'host_name', 'host_since', 'host_location',\n",
       "       'host_about', 'host_response_time', 'host_response_rate',\n",
       "       'host_acceptance_rate', 'host_is_superhost', 'host_thumbnail_url',\n",
       "       'host_picture_url', 'host_neighbourhood', 'host_listings_count',\n",
       "       'host_total_listings_count', 'host_verifications',\n",
       "       'host_has_profile_pic', 'host_identity_verified', 'street',\n",
       "       'neighbourhood', 'neighbourhood_cleansed',\n",
       "       'neighbourhood_group_cleansed', 'city', 'state', 'zipcode', 'market',\n",
       "       'smart_location', 'country_code', 'country', 'latitude', 'longitude',\n",
       "       'is_location_exact', 'property_type', 'room_type', 'accommodates',\n",
       "       'bathrooms', 'bedrooms', 'beds', 'bed_type', 'amenities', 'square_feet',\n",
       "       'price', 'weekly_price', 'monthly_price', 'security_deposit',\n",
       "       'cleaning_fee', 'guests_included', 'extra_people', 'minimum_nights',\n",
       "       'maximum_nights', 'calendar_updated', 'has_availability',\n",
       "       'availability_30', 'availability_60', 'availability_90',\n",
       "       'availability_365', 'calendar_last_scraped', 'number_of_reviews',\n",
       "       'first_review', 'last_review', 'review_scores_rating',\n",
       "       'review_scores_accuracy', 'review_scores_cleanliness',\n",
       "       'review_scores_checkin', 'review_scores_communication',\n",
       "       'review_scores_location', 'review_scores_value', 'requires_license',\n",
       "       'license', 'jurisdiction_names', 'instant_bookable',\n",
       "       'is_business_travel_ready', 'cancellation_policy',\n",
       "       'require_guest_profile_picture', 'require_guest_phone_verification',\n",
       "       'calculated_host_listings_count', 'reviews_per_month'],\n",
       "      dtype='object')"
      ]
     },
     "execution_count": 21,
     "metadata": {},
     "output_type": "execute_result"
    }
   ],
   "source": [
    "Listings_Summary_df.columns"
   ]
  },
  {
   "cell_type": "code",
   "execution_count": 22,
   "metadata": {},
   "outputs": [
    {
     "data": {
      "text/plain": [
       "Index(['neighbourhood_group', 'neighbourhood'], dtype='object')"
      ]
     },
     "execution_count": 22,
     "metadata": {},
     "output_type": "execute_result"
    }
   ],
   "source": [
    "Neighbourhoods_df.columns"
   ]
  },
  {
   "cell_type": "code",
   "execution_count": 14,
   "metadata": {},
   "outputs": [
    {
     "data": {
      "text/plain": [
       "Index(['listing_id', 'date'], dtype='object')"
      ]
     },
     "execution_count": 14,
     "metadata": {},
     "output_type": "execute_result"
    }
   ],
   "source": [
    "Reviews_df.columns"
   ]
  },
  {
   "cell_type": "code",
   "execution_count": 17,
   "metadata": {},
   "outputs": [
    {
     "data": {
      "text/plain": [
       "Index(['listing_id', 'id', 'date', 'reviewer_id', 'reviewer_name', 'comments'], dtype='object')"
      ]
     },
     "execution_count": 17,
     "metadata": {},
     "output_type": "execute_result"
    }
   ],
   "source": [
    "Reviews_Summary_df.columns"
   ]
  },
  {
   "cell_type": "markdown",
   "metadata": {},
   "source": [
    "### <ins> Keeping the Necessary Columns </ins>"
   ]
  },
  {
   "cell_type": "code",
   "execution_count": 32,
   "metadata": {},
   "outputs": [],
   "source": [
    "#Dropping the unneccessay columns in Listings_Summary_df\n",
    "\n",
    "Listings_Summary_df = Listings_Summary_df.drop (['listing_url', 'scrape_id', 'last_scraped', 'summary',\n",
    "       'space', 'description', 'experiences_offered', 'neighborhood_overview',\n",
    "       'notes', 'transit', 'access', 'interaction', 'house_rules',\n",
    "       'thumbnail_url', 'medium_url', 'picture_url', 'xl_picture_url',\n",
    "        'host_url', 'host_since', 'host_about', 'host_response_time', 'host_response_rate',\n",
    "       'host_acceptance_rate', 'host_is_superhost', 'host_thumbnail_url',\n",
    "       'host_picture_url',  'calendar_last_scraped'], axis =1)"
   ]
  },
  {
   "cell_type": "code",
   "execution_count": 33,
   "metadata": {},
   "outputs": [
    {
     "data": {
      "text/html": [
       "<div>\n",
       "<style scoped>\n",
       "    .dataframe tbody tr th:only-of-type {\n",
       "        vertical-align: middle;\n",
       "    }\n",
       "\n",
       "    .dataframe tbody tr th {\n",
       "        vertical-align: top;\n",
       "    }\n",
       "\n",
       "    .dataframe thead th {\n",
       "        text-align: right;\n",
       "    }\n",
       "</style>\n",
       "<table border=\"1\" class=\"dataframe\">\n",
       "  <thead>\n",
       "    <tr style=\"text-align: right;\">\n",
       "      <th></th>\n",
       "      <th>id</th>\n",
       "      <th>name</th>\n",
       "      <th>host_id</th>\n",
       "      <th>host_name</th>\n",
       "      <th>host_location</th>\n",
       "      <th>host_neighbourhood</th>\n",
       "      <th>host_listings_count</th>\n",
       "      <th>host_total_listings_count</th>\n",
       "      <th>host_verifications</th>\n",
       "      <th>host_has_profile_pic</th>\n",
       "      <th>...</th>\n",
       "      <th>requires_license</th>\n",
       "      <th>license</th>\n",
       "      <th>jurisdiction_names</th>\n",
       "      <th>instant_bookable</th>\n",
       "      <th>is_business_travel_ready</th>\n",
       "      <th>cancellation_policy</th>\n",
       "      <th>require_guest_profile_picture</th>\n",
       "      <th>require_guest_phone_verification</th>\n",
       "      <th>calculated_host_listings_count</th>\n",
       "      <th>reviews_per_month</th>\n",
       "    </tr>\n",
       "  </thead>\n",
       "  <tbody>\n",
       "    <tr>\n",
       "      <td>0</td>\n",
       "      <td>2015</td>\n",
       "      <td>Berlin-Mitte Value! Quiet courtyard/very central</td>\n",
       "      <td>2217</td>\n",
       "      <td>Ian</td>\n",
       "      <td>Key Biscayne, Florida, United States</td>\n",
       "      <td>Mitte</td>\n",
       "      <td>4.0</td>\n",
       "      <td>4.0</td>\n",
       "      <td>['email', 'phone', 'reviews', 'jumio', 'offlin...</td>\n",
       "      <td>t</td>\n",
       "      <td>...</td>\n",
       "      <td>t</td>\n",
       "      <td>NaN</td>\n",
       "      <td>NaN</td>\n",
       "      <td>f</td>\n",
       "      <td>f</td>\n",
       "      <td>strict_14_with_grace_period</td>\n",
       "      <td>f</td>\n",
       "      <td>f</td>\n",
       "      <td>4</td>\n",
       "      <td>3.76</td>\n",
       "    </tr>\n",
       "    <tr>\n",
       "      <td>1</td>\n",
       "      <td>2695</td>\n",
       "      <td>Prenzlauer Berg close to Mauerpark</td>\n",
       "      <td>2986</td>\n",
       "      <td>Michael</td>\n",
       "      <td>Berlin, Berlin, Germany</td>\n",
       "      <td>Prenzlauer Berg</td>\n",
       "      <td>1.0</td>\n",
       "      <td>1.0</td>\n",
       "      <td>['email', 'phone', 'reviews', 'jumio', 'govern...</td>\n",
       "      <td>t</td>\n",
       "      <td>...</td>\n",
       "      <td>t</td>\n",
       "      <td>NaN</td>\n",
       "      <td>NaN</td>\n",
       "      <td>f</td>\n",
       "      <td>f</td>\n",
       "      <td>flexible</td>\n",
       "      <td>f</td>\n",
       "      <td>f</td>\n",
       "      <td>1</td>\n",
       "      <td>1.42</td>\n",
       "    </tr>\n",
       "    <tr>\n",
       "      <td>2</td>\n",
       "      <td>3176</td>\n",
       "      <td>Fabulous Flat in great Location</td>\n",
       "      <td>3718</td>\n",
       "      <td>Britta</td>\n",
       "      <td>Coledale, New South Wales, Australia</td>\n",
       "      <td>Prenzlauer Berg</td>\n",
       "      <td>1.0</td>\n",
       "      <td>1.0</td>\n",
       "      <td>['email', 'phone', 'facebook', 'reviews', 'man...</td>\n",
       "      <td>t</td>\n",
       "      <td>...</td>\n",
       "      <td>t</td>\n",
       "      <td>NaN</td>\n",
       "      <td>NaN</td>\n",
       "      <td>t</td>\n",
       "      <td>f</td>\n",
       "      <td>strict_14_with_grace_period</td>\n",
       "      <td>f</td>\n",
       "      <td>f</td>\n",
       "      <td>1</td>\n",
       "      <td>1.25</td>\n",
       "    </tr>\n",
       "    <tr>\n",
       "      <td>3</td>\n",
       "      <td>3309</td>\n",
       "      <td>BerlinSpot Schöneberg near KaDeWe</td>\n",
       "      <td>4108</td>\n",
       "      <td>Jana</td>\n",
       "      <td>Berlin, Berlin, Germany</td>\n",
       "      <td>Schöneberg</td>\n",
       "      <td>1.0</td>\n",
       "      <td>1.0</td>\n",
       "      <td>['email', 'phone', 'reviews', 'jumio', 'govern...</td>\n",
       "      <td>t</td>\n",
       "      <td>...</td>\n",
       "      <td>t</td>\n",
       "      <td>NaN</td>\n",
       "      <td>NaN</td>\n",
       "      <td>f</td>\n",
       "      <td>f</td>\n",
       "      <td>strict_14_with_grace_period</td>\n",
       "      <td>f</td>\n",
       "      <td>f</td>\n",
       "      <td>1</td>\n",
       "      <td>0.39</td>\n",
       "    </tr>\n",
       "    <tr>\n",
       "      <td>4</td>\n",
       "      <td>7071</td>\n",
       "      <td>BrightRoom with sunny greenview!</td>\n",
       "      <td>17391</td>\n",
       "      <td>Bright</td>\n",
       "      <td>Berlin, Berlin, Germany</td>\n",
       "      <td>Prenzlauer Berg</td>\n",
       "      <td>1.0</td>\n",
       "      <td>1.0</td>\n",
       "      <td>['email', 'phone', 'reviews', 'jumio', 'govern...</td>\n",
       "      <td>t</td>\n",
       "      <td>...</td>\n",
       "      <td>t</td>\n",
       "      <td>NaN</td>\n",
       "      <td>NaN</td>\n",
       "      <td>f</td>\n",
       "      <td>f</td>\n",
       "      <td>moderate</td>\n",
       "      <td>f</td>\n",
       "      <td>f</td>\n",
       "      <td>1</td>\n",
       "      <td>1.75</td>\n",
       "    </tr>\n",
       "  </tbody>\n",
       "</table>\n",
       "<p>5 rows × 69 columns</p>\n",
       "</div>"
      ],
      "text/plain": [
       "     id                                              name  host_id host_name  \\\n",
       "0  2015  Berlin-Mitte Value! Quiet courtyard/very central     2217       Ian   \n",
       "1  2695                Prenzlauer Berg close to Mauerpark     2986   Michael   \n",
       "2  3176                   Fabulous Flat in great Location     3718    Britta   \n",
       "3  3309                 BerlinSpot Schöneberg near KaDeWe     4108      Jana   \n",
       "4  7071                  BrightRoom with sunny greenview!    17391    Bright   \n",
       "\n",
       "                          host_location host_neighbourhood  \\\n",
       "0  Key Biscayne, Florida, United States              Mitte   \n",
       "1               Berlin, Berlin, Germany    Prenzlauer Berg   \n",
       "2  Coledale, New South Wales, Australia    Prenzlauer Berg   \n",
       "3               Berlin, Berlin, Germany         Schöneberg   \n",
       "4               Berlin, Berlin, Germany    Prenzlauer Berg   \n",
       "\n",
       "   host_listings_count  host_total_listings_count  \\\n",
       "0                  4.0                        4.0   \n",
       "1                  1.0                        1.0   \n",
       "2                  1.0                        1.0   \n",
       "3                  1.0                        1.0   \n",
       "4                  1.0                        1.0   \n",
       "\n",
       "                                  host_verifications host_has_profile_pic  \\\n",
       "0  ['email', 'phone', 'reviews', 'jumio', 'offlin...                    t   \n",
       "1  ['email', 'phone', 'reviews', 'jumio', 'govern...                    t   \n",
       "2  ['email', 'phone', 'facebook', 'reviews', 'man...                    t   \n",
       "3  ['email', 'phone', 'reviews', 'jumio', 'govern...                    t   \n",
       "4  ['email', 'phone', 'reviews', 'jumio', 'govern...                    t   \n",
       "\n",
       "   ... requires_license license jurisdiction_names instant_bookable  \\\n",
       "0  ...                t     NaN                NaN                f   \n",
       "1  ...                t     NaN                NaN                f   \n",
       "2  ...                t     NaN                NaN                t   \n",
       "3  ...                t     NaN                NaN                f   \n",
       "4  ...                t     NaN                NaN                f   \n",
       "\n",
       "  is_business_travel_ready          cancellation_policy  \\\n",
       "0                        f  strict_14_with_grace_period   \n",
       "1                        f                     flexible   \n",
       "2                        f  strict_14_with_grace_period   \n",
       "3                        f  strict_14_with_grace_period   \n",
       "4                        f                     moderate   \n",
       "\n",
       "  require_guest_profile_picture require_guest_phone_verification  \\\n",
       "0                             f                                f   \n",
       "1                             f                                f   \n",
       "2                             f                                f   \n",
       "3                             f                                f   \n",
       "4                             f                                f   \n",
       "\n",
       "  calculated_host_listings_count reviews_per_month  \n",
       "0                              4              3.76  \n",
       "1                              1              1.42  \n",
       "2                              1              1.25  \n",
       "3                              1              0.39  \n",
       "4                              1              1.75  \n",
       "\n",
       "[5 rows x 69 columns]"
      ]
     },
     "execution_count": 33,
     "metadata": {},
     "output_type": "execute_result"
    }
   ],
   "source": [
    "Listings_Summary_df.head()"
   ]
  },
  {
   "cell_type": "markdown",
   "metadata": {},
   "source": [
    "### <ins> Data Cleaning </ins>"
   ]
  },
  {
   "cell_type": "code",
   "execution_count": 71,
   "metadata": {},
   "outputs": [
    {
     "data": {
      "text/html": [
       "<div>\n",
       "<style scoped>\n",
       "    .dataframe tbody tr th:only-of-type {\n",
       "        vertical-align: middle;\n",
       "    }\n",
       "\n",
       "    .dataframe tbody tr th {\n",
       "        vertical-align: top;\n",
       "    }\n",
       "\n",
       "    .dataframe thead th {\n",
       "        text-align: right;\n",
       "    }\n",
       "</style>\n",
       "<table border=\"1\" class=\"dataframe\">\n",
       "  <thead>\n",
       "    <tr style=\"text-align: right;\">\n",
       "      <th></th>\n",
       "      <th>Amenities</th>\n",
       "    </tr>\n",
       "  </thead>\n",
       "  <tbody>\n",
       "    <tr>\n",
       "      <td>count</td>\n",
       "      <td>363476</td>\n",
       "    </tr>\n",
       "    <tr>\n",
       "      <td>unique</td>\n",
       "      <td>135</td>\n",
       "    </tr>\n",
       "    <tr>\n",
       "      <td>top</td>\n",
       "      <td>Wifi</td>\n",
       "    </tr>\n",
       "    <tr>\n",
       "      <td>freq</td>\n",
       "      <td>21512</td>\n",
       "    </tr>\n",
       "  </tbody>\n",
       "</table>\n",
       "</div>"
      ],
      "text/plain": [
       "       Amenities\n",
       "count     363476\n",
       "unique       135\n",
       "top         Wifi\n",
       "freq       21512"
      ]
     },
     "execution_count": 71,
     "metadata": {},
     "output_type": "execute_result"
    }
   ],
   "source": [
    "#Data Cleaning the Amenities Column\n",
    "\n",
    "Amenities = Listings_Summary_df.amenities\n",
    "\n",
    "Amenities_List = []\n",
    "\n",
    "for x in Amenities:\n",
    "        x=x.replace('\"','')\n",
    "        x=x.replace('{','')\n",
    "        x=x.replace('}','')\n",
    "        x=x.replace('Cable TV', 'TV')\n",
    "        \n",
    "        Amenities_List += x.split(',')\n",
    "\n",
    "Amenities_New = pd.DataFrame(Amenities_List)\n",
    "\n",
    "Amenities_New = Amenities_New.rename(columns = {0:\"Amenities\"})\n",
    "\n",
    "Amenities_New.describe()\n"
   ]
  },
  {
   "cell_type": "code",
   "execution_count": 4,
   "metadata": {},
   "outputs": [],
   "source": [
    "#Calculating Ratings\n",
    "\n",
    "Listings_Summary_df[\"Rating\"] = round((Listings_Summary_df['review_scores_accuracy'] + Listings_Summary_df['review_scores_cleanliness'] + \n",
    "                                 Listings_Summary_df['review_scores_checkin'] + Listings_Summary_df['review_scores_communication'] +\n",
    "                                Listings_Summary_df['review_scores_location'] + Listings_Summary_df['review_scores_value']) /6)\n",
    "                    \n",
    "\n"
   ]
  },
  {
   "cell_type": "markdown",
   "metadata": {},
   "source": [
    "## <ins> Visualizations </ins>"
   ]
  },
  {
   "cell_type": "code",
   "execution_count": 79,
   "metadata": {},
   "outputs": [
    {
     "name": "stdout",
     "output_type": "stream",
     "text": [
      "Amenities\n",
      "Wifi               21512\n",
      "Kitchen            21332\n",
      "Heating            21190\n",
      "Essentials         20329\n",
      "Washer             18497\n",
      "                   ...  \n",
      "Convection oven        1\n",
      "Sound system           1\n",
      "Netflix                1\n",
      "Smart TV               1\n",
      "Breakfast table        1\n",
      "Name: Amenities, Length: 133, dtype: int64\n"
     ]
    },
    {
     "data": {
      "image/png": "[encoded data removed]",
      "text/plain": [
       "<Figure size 432x288 with 1 Axes>"
      ]
     },
     "metadata": {
      "needs_background": "light"
     },
     "output_type": "display_data"
    }
   ],
   "source": [
    "Amenities_Group = Amenities_New.groupby('Amenities')\n",
    "\n",
    "Amenities_Count = Amenities_Group[\"Amenities\"].count()\n",
    "\n",
    "Amenities_Count = Amenities_Count.sort_values(ascending=False)\n",
    "\n",
    "Amenities_Count = Amenities_Count.drop(['translation missing: en.hosting_amenity_50', 'translation missing: en.hosting_amenity_49'],axis=0)\n",
    "\n",
    "#Amenities_Count = (Amenities_Count/Amenities_Count.sum())*100\n",
    "\n",
    "print(Amenities_Count)\n",
    "\n",
    "plt.plot(Amenities_Count[0:20], linewidth=2.0, marker='D', linestyle=':')\n",
    "plt.xticks(rotation=90)\n",
    "plt.xlabel(\"Amenities\", fontweight='bold' )\n",
    "plt.ylabel(\"Overall Count Of Amenities\" , fontweight='bold')\n",
    "plt.title(\"Top 20 Amenities \",fontsize=14, fontweight='bold')\n",
    "\n",
    "plt.grid()\n",
    "plt.savefig(\"Visualizations/Top20_Amenities.png\")\n",
    "plt.show()\n"
   ]
  },
  {
   "cell_type": "markdown",
   "metadata": {},
   "source": [
    "### <ins> Observation </ins>"
   ]
  },
  {
   "cell_type": "markdown",
   "metadata": {},
   "source": [
    "From the above visualization, we can infer that Wifi, Kitchen, Heating, Essentials and Washer are the most important amenities to be considered for the successful of listing.For those who are already in the business and don't have those amenities, make sure the factibility of installing all or some of the amenities to grow your business."
   ]
  },
  {
   "cell_type": "code",
   "execution_count": 14,
   "metadata": {},
   "outputs": [
    {
     "data": {
      "application/vnd.jupyter.widget-view+json": {
       "model_id": "3b2cfcae8b3243f987782ecd6b19cd11",
       "version_major": 2,
       "version_minor": 0
      },
      "text/plain": [
       "Figure(layout=FigureLayout(height='420px'))"
      ]
     },
     "metadata": {},
     "output_type": "display_data"
    }
   ],
   "source": [
    "from config import gkey\n",
    "\n",
    "gmaps.configure(api_key=gkey)  \n",
    "\n",
    "locations = Listings_Summary_df[[\"latitude\",\"longitude\"]]\n",
    "Ratings = Listings_Summary_df[\"Rating\"].astype(float)\n",
    "\n",
    "\n",
    "fig = gmaps.figure()\n",
    "heat_layer = gmaps.heatmap_layer(locations, weights=Ratings, \n",
    "                                 dissipating=False, max_intensity=10,\n",
    "                                 point_radius=1)\n",
    "\n",
    "fig.add_layer(heat_layer)\n",
    "fig\n"
   ]
  },
  {
   "cell_type": "code",
   "execution_count": 9,
   "metadata": {},
   "outputs": [
    {
     "data": {
      "application/vnd.jupyter.widget-view+json": {
       "model_id": "6e29f17a3ec04a1a9bc715a26c18e531",
       "version_major": 2,
       "version_minor": 0
      },
      "text/plain": [
       "Figure(layout=FigureLayout(height='420px'))"
      ]
     },
     "metadata": {},
     "output_type": "display_data"
    }
   ],
   "source": [
    "locations = Listings_Summary_df[[\"latitude\",\"longitude\"]]\n",
    "Airbnb_location = gmaps.symbol_layer(locations, fill_color=\"green\", stroke_color=\"green\", scale=2)\n",
    "fig = gmaps.figure()\n",
    "fig.add_layer(Airbnb_location)\n",
    "fig"
   ]
  },
  {
   "cell_type": "code",
   "execution_count": null,
   "metadata": {},
   "outputs": [],
   "source": []
  }
 ],
 "metadata": {
  "kernelspec": {
   "display_name": "Python 3",
   "language": "python",
   "name": "python3"
  },
  "language_info": {
   "codemirror_mode": {
    "name": "ipython",
    "version": 3
   },
   "file_extension": ".py",
   "mimetype": "text/x-python",
   "name": "python",
   "nbconvert_exporter": "python",
   "pygments_lexer": "ipython3",
   "version": "3.7.4"
  }
 },
 "nbformat": 4,
 "nbformat_minor": 2
}
