{
 "cells": [
  {
<<<<<<< HEAD
   "cell_type": "code",
   "execution_count": 1,
   "metadata": {},
=======
   "cell_type": "markdown",
   "metadata": {},
   "source": [
    "# <ins> Futuristic Airbnb </ins>"
   ]
  },
  {
   "cell_type": "markdown",
   "metadata": {},
   "source": [
    "Airbnb has successfully disrupted the traditional hospitality industry as more and more travelers decide to use Airbnb as their primary accommodation provider. Since its beginning in 2008, Airbnb has seen an enormous growth, with the number of rentals listed on its website growing exponentially each year. In Germany, no city is more popular than Berlin. That implies that Berlin is one of the hottest markets for Airbnb in Europe, with over 22,552 listings as of November 2018.Here we will be using Python with some packages like Pandas and Matplotlib to analyze data  to find a better Accommodation based on customer satisfaction and to improve the Airbnb business based on certain factors in Berlin."
   ]
  },
  {
   "cell_type": "markdown",
   "metadata": {},
   "source": [
    "<hr> </hr>"
   ]
  },
  {
   "cell_type": "code",
   "execution_count": 1,
   "metadata": {},
   "outputs": [],
   "source": [
    "#Importing Dependencies\n",
    "import pandas as pd\n",
    "import numpy as np\n",
    "import matplotlib.pyplot as plt\n",
    "import requests\n",
    "import time\n",
    "import json\n",
    "import gmaps"
   ]
  },
  {
   "cell_type": "code",
   "execution_count": 2,
   "metadata": {},
   "outputs": [],
   "source": [
    "#Reading Files and storing in Dataframes\n",
    "\n",
    "Calendar_Summary_df = pd.read_csv(\"../Dataset/calendar_summary.csv\")\n",
    "Listings_df = pd.read_csv(\"../Dataset/listings.csv\")\n",
    "Listings_Summary_df = pd.read_csv(\"../Dataset/listings_summary.csv\")\n",
    "Neighbourhoods_df = pd.read_csv(\"../Dataset/neighbourhoods.csv\")\n",
    "Reviews_df = pd.read_csv(\"../Dataset/reviews.csv\")\n",
    "Reviews_Summary = pd.read_csv(\"../Dataset/reviews_summary.csv\")\n",
    "calendar_insideairbnb_df = pd.read_csv(\"../Dataset/calendar.csv\")\n"
   ]
  },
  {
   "cell_type": "markdown",
   "metadata": {},
   "source": [
    "### <ins> Identifying the Columns </ins>"
   ]
  },
  {
   "cell_type": "code",
   "execution_count": 162,
   "metadata": {},
   "outputs": [
    {
     "data": {
      "text/plain": [
       "listing_id          int64\n",
       "date               object\n",
       "available          object\n",
       "price              object\n",
       "adjusted_price     object\n",
       "minimum_nights    float64\n",
       "maximum_nights    float64\n",
       "dtype: object"
      ]
     },
     "execution_count": 162,
     "metadata": {},
     "output_type": "execute_result"
    }
   ],
   "source": [
    "calendar_insideairbnb_df.dtypes\n"
   ]
  },
  {
   "cell_type": "code",
   "execution_count": 3,
   "metadata": {},
   "outputs": [
    {
     "data": {
      "text/html": [
       "<div>\n",
       "<style scoped>\n",
       "    .dataframe tbody tr th:only-of-type {\n",
       "        vertical-align: middle;\n",
       "    }\n",
       "\n",
       "    .dataframe tbody tr th {\n",
       "        vertical-align: top;\n",
       "    }\n",
       "\n",
       "    .dataframe thead th {\n",
       "        text-align: right;\n",
       "    }\n",
       "</style>\n",
       "<table border=\"1\" class=\"dataframe\">\n",
       "  <thead>\n",
       "    <tr style=\"text-align: right;\">\n",
       "      <th></th>\n",
       "      <th>id</th>\n",
       "      <th>scrape_id</th>\n",
       "      <th>thumbnail_url</th>\n",
       "      <th>medium_url</th>\n",
       "      <th>xl_picture_url</th>\n",
       "      <th>host_id</th>\n",
       "      <th>host_acceptance_rate</th>\n",
       "      <th>host_listings_count</th>\n",
       "      <th>host_total_listings_count</th>\n",
       "      <th>latitude</th>\n",
       "      <th>...</th>\n",
       "      <th>review_scores_rating</th>\n",
       "      <th>review_scores_accuracy</th>\n",
       "      <th>review_scores_cleanliness</th>\n",
       "      <th>review_scores_checkin</th>\n",
       "      <th>review_scores_communication</th>\n",
       "      <th>review_scores_location</th>\n",
       "      <th>review_scores_value</th>\n",
       "      <th>jurisdiction_names</th>\n",
       "      <th>calculated_host_listings_count</th>\n",
       "      <th>reviews_per_month</th>\n",
       "    </tr>\n",
       "  </thead>\n",
       "  <tbody>\n",
       "    <tr>\n",
       "      <th>count</th>\n",
       "      <td>2.255200e+04</td>\n",
       "      <td>2.255200e+04</td>\n",
       "      <td>0.0</td>\n",
       "      <td>0.0</td>\n",
       "      <td>0.0</td>\n",
       "      <td>2.255200e+04</td>\n",
       "      <td>0.0</td>\n",
       "      <td>22526.000000</td>\n",
       "      <td>22526.000000</td>\n",
       "      <td>22552.000000</td>\n",
       "      <td>...</td>\n",
       "      <td>18163.000000</td>\n",
       "      <td>18138.000000</td>\n",
       "      <td>18141.000000</td>\n",
       "      <td>18120.000000</td>\n",
       "      <td>18134.000000</td>\n",
       "      <td>18121.000000</td>\n",
       "      <td>18117.000000</td>\n",
       "      <td>0.0</td>\n",
       "      <td>22552.000000</td>\n",
       "      <td>18638.000000</td>\n",
       "    </tr>\n",
       "    <tr>\n",
       "      <th>mean</th>\n",
       "      <td>1.571560e+07</td>\n",
       "      <td>2.018111e+13</td>\n",
       "      <td>NaN</td>\n",
       "      <td>NaN</td>\n",
       "      <td>NaN</td>\n",
       "      <td>5.403355e+07</td>\n",
       "      <td>NaN</td>\n",
       "      <td>2.330685</td>\n",
       "      <td>2.330685</td>\n",
       "      <td>52.509824</td>\n",
       "      <td>...</td>\n",
       "      <td>94.413863</td>\n",
       "      <td>9.663965</td>\n",
       "      <td>9.324955</td>\n",
       "      <td>9.713521</td>\n",
       "      <td>9.730672</td>\n",
       "      <td>9.505491</td>\n",
       "      <td>9.411106</td>\n",
       "      <td>NaN</td>\n",
       "      <td>1.918233</td>\n",
       "      <td>1.135525</td>\n",
       "    </tr>\n",
       "    <tr>\n",
       "      <th>std</th>\n",
       "      <td>8.552069e+06</td>\n",
       "      <td>4.812607e+00</td>\n",
       "      <td>NaN</td>\n",
       "      <td>NaN</td>\n",
       "      <td>NaN</td>\n",
       "      <td>5.816290e+07</td>\n",
       "      <td>NaN</td>\n",
       "      <td>19.947823</td>\n",
       "      <td>19.947823</td>\n",
       "      <td>0.030825</td>\n",
       "      <td>...</td>\n",
       "      <td>7.639644</td>\n",
       "      <td>0.740039</td>\n",
       "      <td>1.031996</td>\n",
       "      <td>0.704620</td>\n",
       "      <td>0.686614</td>\n",
       "      <td>0.762161</td>\n",
       "      <td>0.841492</td>\n",
       "      <td>NaN</td>\n",
       "      <td>3.667257</td>\n",
       "      <td>1.507082</td>\n",
       "    </tr>\n",
       "    <tr>\n",
       "      <th>min</th>\n",
       "      <td>2.015000e+03</td>\n",
       "      <td>2.018111e+13</td>\n",
       "      <td>NaN</td>\n",
       "      <td>NaN</td>\n",
       "      <td>NaN</td>\n",
       "      <td>2.217000e+03</td>\n",
       "      <td>NaN</td>\n",
       "      <td>0.000000</td>\n",
       "      <td>0.000000</td>\n",
       "      <td>52.345803</td>\n",
       "      <td>...</td>\n",
       "      <td>20.000000</td>\n",
       "      <td>2.000000</td>\n",
       "      <td>2.000000</td>\n",
       "      <td>2.000000</td>\n",
       "      <td>2.000000</td>\n",
       "      <td>2.000000</td>\n",
       "      <td>2.000000</td>\n",
       "      <td>NaN</td>\n",
       "      <td>1.000000</td>\n",
       "      <td>0.010000</td>\n",
       "    </tr>\n",
       "    <tr>\n",
       "      <th>25%</th>\n",
       "      <td>8.065954e+06</td>\n",
       "      <td>2.018111e+13</td>\n",
       "      <td>NaN</td>\n",
       "      <td>NaN</td>\n",
       "      <td>NaN</td>\n",
       "      <td>9.240002e+06</td>\n",
       "      <td>NaN</td>\n",
       "      <td>1.000000</td>\n",
       "      <td>1.000000</td>\n",
       "      <td>52.489065</td>\n",
       "      <td>...</td>\n",
       "      <td>92.000000</td>\n",
       "      <td>10.000000</td>\n",
       "      <td>9.000000</td>\n",
       "      <td>10.000000</td>\n",
       "      <td>10.000000</td>\n",
       "      <td>9.000000</td>\n",
       "      <td>9.000000</td>\n",
       "      <td>NaN</td>\n",
       "      <td>1.000000</td>\n",
       "      <td>0.180000</td>\n",
       "    </tr>\n",
       "    <tr>\n",
       "      <th>50%</th>\n",
       "      <td>1.686638e+07</td>\n",
       "      <td>2.018111e+13</td>\n",
       "      <td>NaN</td>\n",
       "      <td>NaN</td>\n",
       "      <td>NaN</td>\n",
       "      <td>3.126711e+07</td>\n",
       "      <td>NaN</td>\n",
       "      <td>1.000000</td>\n",
       "      <td>1.000000</td>\n",
       "      <td>52.509079</td>\n",
       "      <td>...</td>\n",
       "      <td>97.000000</td>\n",
       "      <td>10.000000</td>\n",
       "      <td>10.000000</td>\n",
       "      <td>10.000000</td>\n",
       "      <td>10.000000</td>\n",
       "      <td>10.000000</td>\n",
       "      <td>10.000000</td>\n",
       "      <td>NaN</td>\n",
       "      <td>1.000000</td>\n",
       "      <td>0.540000</td>\n",
       "    </tr>\n",
       "    <tr>\n",
       "      <th>75%</th>\n",
       "      <td>2.258393e+07</td>\n",
       "      <td>2.018111e+13</td>\n",
       "      <td>NaN</td>\n",
       "      <td>NaN</td>\n",
       "      <td>NaN</td>\n",
       "      <td>8.067518e+07</td>\n",
       "      <td>NaN</td>\n",
       "      <td>2.000000</td>\n",
       "      <td>2.000000</td>\n",
       "      <td>52.532669</td>\n",
       "      <td>...</td>\n",
       "      <td>100.000000</td>\n",
       "      <td>10.000000</td>\n",
       "      <td>10.000000</td>\n",
       "      <td>10.000000</td>\n",
       "      <td>10.000000</td>\n",
       "      <td>10.000000</td>\n",
       "      <td>10.000000</td>\n",
       "      <td>NaN</td>\n",
       "      <td>1.000000</td>\n",
       "      <td>1.500000</td>\n",
       "    </tr>\n",
       "    <tr>\n",
       "      <th>max</th>\n",
       "      <td>2.986735e+07</td>\n",
       "      <td>2.018111e+13</td>\n",
       "      <td>NaN</td>\n",
       "      <td>NaN</td>\n",
       "      <td>NaN</td>\n",
       "      <td>2.245081e+08</td>\n",
       "      <td>NaN</td>\n",
       "      <td>1676.000000</td>\n",
       "      <td>1676.000000</td>\n",
       "      <td>52.651670</td>\n",
       "      <td>...</td>\n",
       "      <td>100.000000</td>\n",
       "      <td>10.000000</td>\n",
       "      <td>10.000000</td>\n",
       "      <td>10.000000</td>\n",
       "      <td>10.000000</td>\n",
       "      <td>10.000000</td>\n",
       "      <td>10.000000</td>\n",
       "      <td>NaN</td>\n",
       "      <td>45.000000</td>\n",
       "      <td>36.670000</td>\n",
       "    </tr>\n",
       "  </tbody>\n",
       "</table>\n",
       "<p>8 rows × 34 columns</p>\n",
       "</div>"
      ],
      "text/plain": [
       "                 id     scrape_id  thumbnail_url  medium_url  xl_picture_url  \\\n",
       "count  2.255200e+04  2.255200e+04            0.0         0.0             0.0   \n",
       "mean   1.571560e+07  2.018111e+13            NaN         NaN             NaN   \n",
       "std    8.552069e+06  4.812607e+00            NaN         NaN             NaN   \n",
       "min    2.015000e+03  2.018111e+13            NaN         NaN             NaN   \n",
       "25%    8.065954e+06  2.018111e+13            NaN         NaN             NaN   \n",
       "50%    1.686638e+07  2.018111e+13            NaN         NaN             NaN   \n",
       "75%    2.258393e+07  2.018111e+13            NaN         NaN             NaN   \n",
       "max    2.986735e+07  2.018111e+13            NaN         NaN             NaN   \n",
       "\n",
       "            host_id  host_acceptance_rate  host_listings_count  \\\n",
       "count  2.255200e+04                   0.0         22526.000000   \n",
       "mean   5.403355e+07                   NaN             2.330685   \n",
       "std    5.816290e+07                   NaN            19.947823   \n",
       "min    2.217000e+03                   NaN             0.000000   \n",
       "25%    9.240002e+06                   NaN             1.000000   \n",
       "50%    3.126711e+07                   NaN             1.000000   \n",
       "75%    8.067518e+07                   NaN             2.000000   \n",
       "max    2.245081e+08                   NaN          1676.000000   \n",
       "\n",
       "       host_total_listings_count      latitude  ...  review_scores_rating  \\\n",
       "count               22526.000000  22552.000000  ...          18163.000000   \n",
       "mean                    2.330685     52.509824  ...             94.413863   \n",
       "std                    19.947823      0.030825  ...              7.639644   \n",
       "min                     0.000000     52.345803  ...             20.000000   \n",
       "25%                     1.000000     52.489065  ...             92.000000   \n",
       "50%                     1.000000     52.509079  ...             97.000000   \n",
       "75%                     2.000000     52.532669  ...            100.000000   \n",
       "max                  1676.000000     52.651670  ...            100.000000   \n",
       "\n",
       "       review_scores_accuracy  review_scores_cleanliness  \\\n",
       "count            18138.000000               18141.000000   \n",
       "mean                 9.663965                   9.324955   \n",
       "std                  0.740039                   1.031996   \n",
       "min                  2.000000                   2.000000   \n",
       "25%                 10.000000                   9.000000   \n",
       "50%                 10.000000                  10.000000   \n",
       "75%                 10.000000                  10.000000   \n",
       "max                 10.000000                  10.000000   \n",
       "\n",
       "       review_scores_checkin  review_scores_communication  \\\n",
       "count           18120.000000                 18134.000000   \n",
       "mean                9.713521                     9.730672   \n",
       "std                 0.704620                     0.686614   \n",
       "min                 2.000000                     2.000000   \n",
       "25%                10.000000                    10.000000   \n",
       "50%                10.000000                    10.000000   \n",
       "75%                10.000000                    10.000000   \n",
       "max                10.000000                    10.000000   \n",
       "\n",
       "       review_scores_location  review_scores_value  jurisdiction_names  \\\n",
       "count            18121.000000         18117.000000                 0.0   \n",
       "mean                 9.505491             9.411106                 NaN   \n",
       "std                  0.762161             0.841492                 NaN   \n",
       "min                  2.000000             2.000000                 NaN   \n",
       "25%                  9.000000             9.000000                 NaN   \n",
       "50%                 10.000000            10.000000                 NaN   \n",
       "75%                 10.000000            10.000000                 NaN   \n",
       "max                 10.000000            10.000000                 NaN   \n",
       "\n",
       "       calculated_host_listings_count  reviews_per_month  \n",
       "count                    22552.000000       18638.000000  \n",
       "mean                         1.918233           1.135525  \n",
       "std                          3.667257           1.507082  \n",
       "min                          1.000000           0.010000  \n",
       "25%                          1.000000           0.180000  \n",
       "50%                          1.000000           0.540000  \n",
       "75%                          1.000000           1.500000  \n",
       "max                         45.000000          36.670000  \n",
       "\n",
       "[8 rows x 34 columns]"
      ]
     },
     "execution_count": 3,
     "metadata": {},
     "output_type": "execute_result"
    }
   ],
   "source": [
    "Listings_Summary_df.describe()"
   ]
  },
  {
   "cell_type": "code",
   "execution_count": 9,
   "metadata": {},
   "outputs": [
    {
     "data": {
      "text/plain": [
       "22552"
      ]
     },
     "execution_count": 9,
     "metadata": {},
     "output_type": "execute_result"
    }
   ],
   "source": [
    "Listings_df.columns\n",
    "len(Listings_df)"
   ]
  },
  {
   "cell_type": "code",
   "execution_count": 5,
   "metadata": {},
   "outputs": [
    {
     "data": {
      "text/plain": [
       "Index(['id', 'listing_url', 'scrape_id', 'last_scraped', 'name', 'summary',\n",
       "       'space', 'description', 'experiences_offered', 'neighborhood_overview',\n",
       "       'notes', 'transit', 'access', 'interaction', 'house_rules',\n",
       "       'thumbnail_url', 'medium_url', 'picture_url', 'xl_picture_url',\n",
       "       'host_id', 'host_url', 'host_name', 'host_since', 'host_location',\n",
       "       'host_about', 'host_response_time', 'host_response_rate',\n",
       "       'host_acceptance_rate', 'host_is_superhost', 'host_thumbnail_url',\n",
       "       'host_picture_url', 'host_neighbourhood', 'host_listings_count',\n",
       "       'host_total_listings_count', 'host_verifications',\n",
       "       'host_has_profile_pic', 'host_identity_verified', 'street',\n",
       "       'neighbourhood', 'neighbourhood_cleansed',\n",
       "       'neighbourhood_group_cleansed', 'city', 'state', 'zipcode', 'market',\n",
       "       'smart_location', 'country_code', 'country', 'latitude', 'longitude',\n",
       "       'is_location_exact', 'property_type', 'room_type', 'accommodates',\n",
       "       'bathrooms', 'bedrooms', 'beds', 'bed_type', 'amenities', 'square_feet',\n",
       "       'price', 'weekly_price', 'monthly_price', 'security_deposit',\n",
       "       'cleaning_fee', 'guests_included', 'extra_people', 'minimum_nights',\n",
       "       'maximum_nights', 'calendar_updated', 'has_availability',\n",
       "       'availability_30', 'availability_60', 'availability_90',\n",
       "       'availability_365', 'calendar_last_scraped', 'number_of_reviews',\n",
       "       'first_review', 'last_review', 'review_scores_rating',\n",
       "       'review_scores_accuracy', 'review_scores_cleanliness',\n",
       "       'review_scores_checkin', 'review_scores_communication',\n",
       "       'review_scores_location', 'review_scores_value', 'requires_license',\n",
       "       'license', 'jurisdiction_names', 'instant_bookable',\n",
       "       'is_business_travel_ready', 'cancellation_policy',\n",
       "       'require_guest_profile_picture', 'require_guest_phone_verification',\n",
       "       'calculated_host_listings_count', 'reviews_per_month'],\n",
       "      dtype='object')"
      ]
     },
     "execution_count": 5,
     "metadata": {},
     "output_type": "execute_result"
    }
   ],
   "source": [
    "Listings_Summary_df.columns"
   ]
  },
  {
   "cell_type": "code",
   "execution_count": 6,
   "metadata": {},
   "outputs": [
    {
     "data": {
      "text/plain": [
       "Index(['neighbourhood_group', 'neighbourhood'], dtype='object')"
      ]
     },
     "execution_count": 6,
     "metadata": {},
     "output_type": "execute_result"
    }
   ],
   "source": [
    "Neighbourhoods_df.columns"
   ]
  },
  {
   "cell_type": "markdown",
   "metadata": {},
   "source": [
    "### <ins> Keeping the Necessary Columns </ins>"
   ]
  },
  {
   "cell_type": "code",
   "execution_count": 7,
   "metadata": {},
   "outputs": [],
   "source": [
    "#Columns which are necessary alone we can store it in the below df. ()\n",
    "\n",
    "#Calendar_Summary_df = \n",
    "#Listings_df = \n",
    "#Listings_Summary_df = \n",
    "#Neighbourhoods_df = \n",
    "#Reviews_df = \n",
    "#Reviews_Summary = "
   ]
  },
  {
   "cell_type": "markdown",
   "metadata": {},
   "source": [
    "### <ins> Data Cleaning </ins>"
   ]
  },
  {
   "cell_type": "code",
   "execution_count": 4,
   "metadata": {},
   "outputs": [
    {
     "data": {
      "text/html": [
       "<div>\n",
       "<style scoped>\n",
       "    .dataframe tbody tr th:only-of-type {\n",
       "        vertical-align: middle;\n",
       "    }\n",
       "\n",
       "    .dataframe tbody tr th {\n",
       "        vertical-align: top;\n",
       "    }\n",
       "\n",
       "    .dataframe thead th {\n",
       "        text-align: right;\n",
       "    }\n",
       "</style>\n",
       "<table border=\"1\" class=\"dataframe\">\n",
       "  <thead>\n",
       "    <tr style=\"text-align: right;\">\n",
       "      <th></th>\n",
       "      <th>Amenities</th>\n",
       "    </tr>\n",
       "  </thead>\n",
       "  <tbody>\n",
       "    <tr>\n",
       "      <th>0</th>\n",
       "      <td>TV</td>\n",
       "    </tr>\n",
       "    <tr>\n",
       "      <th>1</th>\n",
       "      <td>Cable TV</td>\n",
       "    </tr>\n",
       "    <tr>\n",
       "      <th>2</th>\n",
       "      <td>Wifi</td>\n",
       "    </tr>\n",
       "    <tr>\n",
       "      <th>3</th>\n",
       "      <td>Kitchen</td>\n",
       "    </tr>\n",
       "    <tr>\n",
       "      <th>4</th>\n",
       "      <td>Gym</td>\n",
       "    </tr>\n",
       "  </tbody>\n",
       "</table>\n",
       "</div>"
      ],
      "text/plain": [
       "  Amenities\n",
       "0        TV\n",
       "1  Cable TV\n",
       "2      Wifi\n",
       "3   Kitchen\n",
       "4       Gym"
      ]
     },
     "execution_count": 4,
     "metadata": {},
     "output_type": "execute_result"
    }
   ],
   "source": [
    "#Data Cleaning the Amenities Column\n",
    "\n",
    "Amenities = Listings_Summary_df.amenities\n",
    "\n",
    "Amenities_List = []\n",
    "\n",
    "for x in Amenities:\n",
    "\n",
    "        x=x.replace('\"','')\n",
    "        x=x.replace('{','')\n",
    "        x=x.replace('}','')\n",
    "        Amenities_List += x.split(',')\n",
    "        \n",
    "Amenities_New = pd.DataFrame(Amenities_List)\n",
    "\n",
    "Amenities_New = Amenities_New.rename(columns = {0:\"Amenities\"})\n",
    "\n",
    "Amenities_New.head()\n"
   ]
  },
  {
   "cell_type": "code",
   "execution_count": 5,
   "metadata": {},
   "outputs": [],
   "source": [
    "#Calculating Ratings\n",
    "\n",
    "Listings_Summary_df[\"Rating\"] = round((Listings_Summary_df['review_scores_accuracy'] + Listings_Summary_df['review_scores_cleanliness'] + \n",
    "                                 Listings_Summary_df['review_scores_checkin'] + Listings_Summary_df['review_scores_communication'] +\n",
    "                                Listings_Summary_df['review_scores_location'] + Listings_Summary_df['review_scores_value']) /6)\n",
    "                    \n",
    "\n"
   ]
  },
  {
   "cell_type": "markdown",
   "metadata": {},
   "source": [
    "## <ins> Visualizations </ins>"
   ]
  },
  {
   "cell_type": "code",
   "execution_count": 6,
   "metadata": {},
   "outputs": [
    {
     "data": {
      "image/png": "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\n",
      "text/plain": [
       "<Figure size 432x288 with 1 Axes>"
      ]
     },
     "metadata": {
      "needs_background": "light"
     },
     "output_type": "display_data"
    }
   ],
   "source": [
    "Amenities_Group = Amenities_New.groupby('Amenities')\n",
    "\n",
    "Amenities_Count = Amenities_Group[\"Amenities\"].count()\n",
    "\n",
    "Amenities_Count = Amenities_Count.sort_values(ascending=False)\n",
    "\n",
    "Amenities_Count = Amenities_Count.drop(['translation missing: en.hosting_amenity_50', 'translation missing: en.hosting_amenity_49'],axis=0)\n",
    "\n",
    "Amenities_Count\n",
    "\n",
    "plt.plot(Amenities_Count[0:20], linewidth=2.0, marker='D', linestyle=':')\n",
    "plt.xticks(rotation=90)\n",
    "plt.xlabel(\"Amenities\", fontweight='bold' )\n",
    "plt.ylabel(\"Overall Count Of Amenities\" , fontweight='bold')\n",
    "plt.title(\"Top 20 Amenities \",fontsize=14, fontweight='bold')\n",
    "\n",
    "plt.grid()\n",
    "plt.savefig(\"Visualizations/Top20_Amenities.png\")\n",
    "plt.show()\n"
   ]
  },
  {
   "cell_type": "markdown",
   "metadata": {},
   "source": [
    "### <ins> Observation </ins>"
   ]
  },
  {
   "cell_type": "markdown",
   "metadata": {},
   "source": [
    "From the above visualization, we can infer that Wifi, Kitchen, Heating, Essentials and Washer are the most important amenities to be considered for the successful of listing.For those who are already in the business and don't have those amenities, make sure the factibility of installing all or some of the amenities to grow your business."
   ]
  },
  {
   "cell_type": "code",
   "execution_count": 14,
   "metadata": {},
   "outputs": [
    {
     "ename": "ModuleNotFoundError",
     "evalue": "No module named 'config'",
     "output_type": "error",
     "traceback": [
      "\u001b[1;31m---------------------------------------------------------------------------\u001b[0m",
      "\u001b[1;31mModuleNotFoundError\u001b[0m                       Traceback (most recent call last)",
      "\u001b[1;32m<ipython-input-14-740b98e789a7>\u001b[0m in \u001b[0;36m<module>\u001b[1;34m\u001b[0m\n\u001b[1;32m----> 1\u001b[1;33m \u001b[1;32mfrom\u001b[0m \u001b[0mconfig\u001b[0m \u001b[1;32mimport\u001b[0m \u001b[0mgkey\u001b[0m\u001b[1;33m\u001b[0m\u001b[1;33m\u001b[0m\u001b[0m\n\u001b[0m\u001b[0;32m      2\u001b[0m \u001b[1;33m\u001b[0m\u001b[0m\n\u001b[0;32m      3\u001b[0m \u001b[0mgmaps\u001b[0m\u001b[1;33m.\u001b[0m\u001b[0mconfigure\u001b[0m\u001b[1;33m(\u001b[0m\u001b[0mapi_key\u001b[0m\u001b[1;33m=\u001b[0m\u001b[0mgkey\u001b[0m\u001b[1;33m)\u001b[0m\u001b[1;33m\u001b[0m\u001b[1;33m\u001b[0m\u001b[0m\n\u001b[0;32m      4\u001b[0m \u001b[1;33m\u001b[0m\u001b[0m\n\u001b[0;32m      5\u001b[0m \u001b[0mlocations\u001b[0m \u001b[1;33m=\u001b[0m \u001b[0mListings_Summary_df\u001b[0m\u001b[1;33m[\u001b[0m\u001b[1;33m[\u001b[0m\u001b[1;34m\"latitude\"\u001b[0m\u001b[1;33m,\u001b[0m\u001b[1;34m\"longitude\"\u001b[0m\u001b[1;33m]\u001b[0m\u001b[1;33m]\u001b[0m\u001b[1;33m\u001b[0m\u001b[1;33m\u001b[0m\u001b[0m\n",
      "\u001b[1;31mModuleNotFoundError\u001b[0m: No module named 'config'"
     ]
    }
   ],
   "source": [
    "from config import gkey\n",
    "\n",
    "gmaps.configure(api_key=gkey)  \n",
    "\n",
    "locations = Listings_Summary_df[[\"latitude\",\"longitude\"]]\n",
    "Ratings = Listings_Summary_df[\"Rating\"].astype(float)\n",
    "\n",
    "\n",
    "fig = gmaps.figure()\n",
    "heat_layer = gmaps.heatmap_layer(locations, weights=Ratings, \n",
    "                                 dissipating=False, max_intensity=10,\n",
    "                                 point_radius=1)\n",
    "\n",
    "fig.add_layer(heat_layer)\n",
    "fig\n"
   ]
  },
  {
   "cell_type": "code",
   "execution_count": 3,
   "metadata": {},
   "outputs": [
    {
     "data": {
      "image/png": "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\n",
      "text/plain": [
       "<Figure size 432x288 with 1 Axes>"
      ]
     },
     "metadata": {},
     "output_type": "display_data"
    }
   ],
   "source": [
    "\n",
    "#average price of room types \n",
    "grouped_property_types = Listings_df.groupby(['room_type'])\n",
    "#grouped_property_type_mean = grouped_property_types.mean()\n",
    "grouped_property_type_mean = grouped_property_types.count()\n",
    "grouped_property_type_mean\n",
    "#new_index_grouped_room_mean = grouped_room_type_mean.reset_index(drop=True)\n",
    "#new_index_grouped_room_mean\n",
    "#explode = (0.1, 0, 0, 0)\n",
    "colors = [\"red\", \"orange\", \"green\"]\n",
    " \n",
    "\n",
    "grouped_property_df = pd.DataFrame(grouped_property_type_mean)\n",
    "type = [\"Entire home/Apt\",\"Private room\",\"Shared room\"]\n",
    "Price = round(grouped_property_df['id'],2)\n",
    "#Price\n",
    "\n",
    "plt.pie(Price,  labels=type, colors=colors,autopct=\"%1.1f%%\", shadow=True, startangle=140)\n",
    "\n",
    "#plt.xlabel(\"CATEGORY OF ROOM TYPES\", fontweight='bold' )\n",
    "#plt.ylabel(\"COUNT OF HOSTED LISTINGS\" , fontweight='bold')\n",
    "plt.title(\"ROOM TYPES IN 'BERLIN'\",fontsize=14, fontweight='bold')\n",
    "plt.grid()\n",
    "\n",
    "#need to add code for adding labels"
   ]
  },
  {
   "cell_type": "code",
   "execution_count": 4,
   "metadata": {},
   "outputs": [
    {
     "data": {
      "text/plain": [
       "Text(0.5, 1.0, 'Average Price Per Room Type')"
      ]
     },
     "execution_count": 4,
     "metadata": {},
     "output_type": "execute_result"
    },
    {
     "data": {
      "image/png": "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\n",
      "text/plain": [
       "<Figure size 432x288 with 1 Axes>"
      ]
     },
     "metadata": {
      "needs_background": "light"
     },
     "output_type": "display_data"
    }
   ],
   "source": [
    "#To retrive the average price of a room type\n",
    "grouped_type_mean = round(grouped_property_types.mean(),2)\n",
    "grouped_type_mean_indexed = grouped_type_mean.reset_index()\n",
    "grouped_type_mean_df = pd.DataFrame({'Room Type':grouped_type_mean_indexed['room_type'],'Average Price Per Night':grouped_type_mean_indexed['price']})\n",
    "grouped_type_mean_df.plot(y='Average Price Per Night', x = 'Room Type',kind = 'bar', alpha=0.5, align=\"center\",color ='orange')\n",
    "plt.ylabel('Average Price Per Night')\n",
    "plt.xlabel('Room Types')\n",
    "plt.title('Average Price Per Room Type')"
   ]
  },
  {
   "cell_type": "code",
   "execution_count": 3,
   "metadata": {},
>>>>>>> vaish2
   "outputs": [
    {
     "name": "stdout",
     "output_type": "stream",
     "text": [
<<<<<<< HEAD
      "911245312\n",
      "464\n",
=======
      "776466432\n"
     ]
    }
   ],
   "source": [
    "#to retrive the month value\n",
    "#Calendar_Summary_Price = (Calendar_Summary_df['price'])\n",
    "#calendar_new_price = []\n",
    "#for x in new_calendar_file['price']:\n",
    " #   x = x.replace('$','')\n",
    "  #  calendar_new_price.append(x)\n",
    "    \n",
    "#type(calendar_new_price)\n",
    "#new_calendar_file['available']== 't'  \n",
    "import psutil\n",
    "svmem = psutil.virtual_memory()\n",
    "print (svmem.available)"
   ]
  },
  {
   "cell_type": "code",
   "execution_count": 4,
   "metadata": {},
   "outputs": [
    {
     "name": "stdout",
     "output_type": "stream",
     "text": [
      "640\n",
>>>>>>> vaish2
      "   listing_id        date available   price adjusted_price  minimum_nights  \\\n",
      "0        3176  2019-06-08         f  $90.00         $90.00              62   \n",
      "1        1944  2019-06-09         t  $20.00         $20.00             120   \n",
      "2        1944  2019-06-10         t  $20.00         $20.00             120   \n",
      "3        1944  2019-06-11         t  $20.00         $20.00             120   \n",
      "4        1944  2019-06-12         t  $20.00         $20.00             120   \n",
      "5        1944  2019-06-13         t  $20.00         $20.00             120   \n",
      "6        1944  2019-06-14         t  $20.00         $20.00             120   \n",
      "7        1944  2019-06-15         t  $20.00         $20.00             120   \n",
      "8        1944  2019-06-16         t  $20.00         $20.00             120   \n",
      "9        1944  2019-06-17         t  $20.00         $20.00             120   \n",
      "\n",
      "   maximum_nights  \n",
      "0            1125  \n",
      "1             120  \n",
      "2             120  \n",
      "3             120  \n",
      "4             120  \n",
      "5             120  \n",
      "6             120  \n",
      "7             120  \n",
      "8             120  \n",
      "9             120  \n",
<<<<<<< HEAD
      "215517\n"
=======
      "156250\n",
      "         listing_id        date available    price adjusted_price  \\\n",
      "0              3176  2019-06-08         f   $90.00         $90.00   \n",
      "1              1944  2019-06-09         t   $20.00         $20.00   \n",
      "2              1944  2019-06-10         t   $20.00         $20.00   \n",
      "3              1944  2019-06-11         t   $20.00         $20.00   \n",
      "4              1944  2019-06-12         t   $20.00         $20.00   \n",
      "5              1944  2019-06-13         t   $20.00         $20.00   \n",
      "6              1944  2019-06-14         t   $20.00         $20.00   \n",
      "7              1944  2019-06-15         t   $20.00         $20.00   \n",
      "8              1944  2019-06-16         t   $20.00         $20.00   \n",
      "9              1944  2019-06-17         t   $20.00         $20.00   \n",
      "10             1944  2019-06-18         t   $20.00         $20.00   \n",
      "11             1944  2019-06-19         t   $20.00         $20.00   \n",
      "12             1944  2019-06-20         t   $20.00         $20.00   \n",
      "13             1944  2019-06-21         t   $20.00         $20.00   \n",
      "14             1944  2019-06-22         t   $20.00         $20.00   \n",
      "15             1944  2019-06-23         t   $20.00         $20.00   \n",
      "16             1944  2019-06-24         t   $20.00         $20.00   \n",
      "17             1944  2019-06-25         t   $20.00         $20.00   \n",
      "18             1944  2019-06-26         t   $20.00         $20.00   \n",
      "19             1944  2019-06-27         t   $20.00         $20.00   \n",
      "20             1944  2019-06-28         t   $20.00         $20.00   \n",
      "21             1944  2019-06-29         t   $20.00         $20.00   \n",
      "22             1944  2019-06-30         t   $20.00         $20.00   \n",
      "23             1944  2019-07-01         t   $20.00         $20.00   \n",
      "24             1944  2019-07-02         t   $20.00         $20.00   \n",
      "25             1944  2019-07-03         t   $20.00         $20.00   \n",
      "26             1944  2019-07-04         t   $20.00         $20.00   \n",
      "27             1944  2019-07-05         t   $20.00         $20.00   \n",
      "28             1944  2019-07-06         t   $20.00         $20.00   \n",
      "29             1944  2019-07-07         t   $20.00         $20.00   \n",
      "...             ...         ...       ...      ...            ...   \n",
      "8690331    35036324  2020-05-09         t  $700.00        $700.00   \n",
      "8690332    35036324  2020-05-10         t  $700.00        $700.00   \n",
      "8690333    35036324  2020-05-11         t  $700.00        $700.00   \n",
      "8690334    35036324  2020-05-12         t  $700.00        $700.00   \n",
      "8690335    35036324  2020-05-13         t  $700.00        $700.00   \n",
      "8690336    35036324  2020-05-14         t  $700.00        $700.00   \n",
      "8690337    35036324  2020-05-15         t  $700.00        $700.00   \n",
      "8690338    35036324  2020-05-16         t  $700.00        $700.00   \n",
      "8690339    35036324  2020-05-17         t  $700.00        $700.00   \n",
      "8690340    35036324  2020-05-18         t  $700.00        $700.00   \n",
      "8690341    35036324  2020-05-19         t  $700.00        $700.00   \n",
      "8690342    35036324  2020-05-20         t  $700.00        $700.00   \n",
      "8690343    35036324  2020-05-21         t  $700.00        $700.00   \n",
      "8690344    35036324  2020-05-22         t  $700.00        $700.00   \n",
      "8690345    35036324  2020-05-23         t  $700.00        $700.00   \n",
      "8690346    35036324  2020-05-24         t  $700.00        $700.00   \n",
      "8690347    35036324  2020-05-25         t  $700.00        $700.00   \n",
      "8690348    35036324  2020-05-26         t  $700.00        $700.00   \n",
      "8690349    35036324  2020-05-27         t  $700.00        $700.00   \n",
      "8690350    35036324  2020-05-28         t  $700.00        $700.00   \n",
      "8690351    35036324  2020-05-29         t  $700.00        $700.00   \n",
      "8690352    35036324  2020-05-30         t  $700.00        $700.00   \n",
      "8690353    35036324  2020-05-31         t  $700.00        $700.00   \n",
      "8690354    35036324  2020-06-01         t  $700.00        $700.00   \n",
      "8690355    35036324  2020-06-02         t  $700.00        $700.00   \n",
      "8690356    35036324  2020-06-03         t  $700.00        $700.00   \n",
      "8690357    35036324  2020-06-04         t  $700.00        $700.00   \n",
      "8690358    35036324  2020-06-05         t  $700.00        $700.00   \n",
      "8690359    35036324  2020-06-06         t  $700.00        $700.00   \n",
      "8690360    35036324  2020-06-07         t  $700.00        $700.00   \n",
      "\n",
      "         minimum_nights  maximum_nights  \n",
      "0                  62.0          1125.0  \n",
      "1                 120.0           120.0  \n",
      "2                 120.0           120.0  \n",
      "3                 120.0           120.0  \n",
      "4                 120.0           120.0  \n",
      "5                 120.0           120.0  \n",
      "6                 120.0           120.0  \n",
      "7                 120.0           120.0  \n",
      "8                 120.0           120.0  \n",
      "9                 120.0           120.0  \n",
      "10                120.0           120.0  \n",
      "11                120.0           120.0  \n",
      "12                120.0           120.0  \n",
      "13                120.0           120.0  \n",
      "14                120.0           120.0  \n",
      "15                120.0           120.0  \n",
      "16                120.0           120.0  \n",
      "17                120.0           120.0  \n",
      "18                120.0           120.0  \n",
      "19                120.0           120.0  \n",
      "20                120.0           120.0  \n",
      "21                120.0           120.0  \n",
      "22                120.0           120.0  \n",
      "23                120.0           120.0  \n",
      "24                120.0           120.0  \n",
      "25                120.0           120.0  \n",
      "26                120.0           120.0  \n",
      "27                120.0           120.0  \n",
      "28                120.0           120.0  \n",
      "29                120.0           120.0  \n",
      "...                 ...             ...  \n",
      "8690331             4.0            10.0  \n",
      "8690332             4.0            10.0  \n",
      "8690333             4.0            10.0  \n",
      "8690334             4.0            10.0  \n",
      "8690335             4.0            10.0  \n",
      "8690336             4.0            10.0  \n",
      "8690337             2.0            10.0  \n",
      "8690338             4.0            10.0  \n",
      "8690339             4.0            10.0  \n",
      "8690340             4.0            10.0  \n",
      "8690341             4.0            10.0  \n",
      "8690342             4.0            10.0  \n",
      "8690343             4.0            10.0  \n",
      "8690344             2.0            10.0  \n",
      "8690345             4.0            10.0  \n",
      "8690346             4.0            10.0  \n",
      "8690347             4.0            10.0  \n",
      "8690348             4.0            10.0  \n",
      "8690349             4.0            10.0  \n",
      "8690350             4.0            10.0  \n",
      "8690351             2.0            10.0  \n",
      "8690352             4.0            10.0  \n",
      "8690353             4.0            10.0  \n",
      "8690354             4.0            10.0  \n",
      "8690355             4.0            10.0  \n",
      "8690356             4.0            10.0  \n",
      "8690357             4.0            10.0  \n",
      "8690358             2.0            10.0  \n",
      "8690359             4.0            10.0  \n",
      "8690360             4.0            10.0  \n",
      "\n",
      "[8690361 rows x 7 columns]\n"
>>>>>>> vaish2
     ]
    }
   ],
   "source": [
<<<<<<< HEAD
    "import psutil\n",
    "import pandas as pd\n",
    "svmem = psutil.virtual_memory()\n",
    "print (svmem.available)\n",
    "\n",
    "\n",
    "#using this to set exception for memory error\n",
    "path =r\"../Dataset/calendar_summary_062019.csv\"\n",
=======
    "#using this to set exception for memory error\n",
    "path =r\"C:\\Users\\prabh\\Desktop\\Dataset\\calendar.csv\"\n",
>>>>>>> vaish2
    "df_sample = pd.read_csv(path, nrows=10)\n",
    "df_sample_size = df_sample.memory_usage(index=True).sum()\n",
    "print (df_sample_size)\n",
    "print (df_sample)\n",
    "my_chunk = (1000000000 / df_sample_size)/10\n",
    "my_chunk = int(my_chunk//1) # we get the integer part\n",
    "print (my_chunk)\n",
    "iter_csv = pd.read_csv(\n",
    "   path,\n",
    "   iterator=True,\n",
    "   chunksize=my_chunk)\n",
<<<<<<< HEAD
    "Calendar_Summary_df = pd.concat(\n",
    "   [chunk[chunk['listing_id']>0]\n",
    "   for chunk in iter_csv])"
=======
    "df_result = pd.concat(\n",
    "   [chunk[chunk['listing_id']>0]\n",
    "   for chunk in iter_csv])\n",
    "print (df_result)"
>>>>>>> vaish2
   ]
  },
  {
   "cell_type": "code",
<<<<<<< HEAD
   "execution_count": 2,
   "metadata": {},
   "outputs": [
    {
     "ename": "MemoryError",
     "evalue": "Unable to allocate array with shape (8690158,) and data type complex128",
     "output_type": "error",
     "traceback": [
      "\u001b[1;31m---------------------------------------------------------------------------\u001b[0m",
      "\u001b[1;31mMemoryError\u001b[0m                               Traceback (most recent call last)",
      "\u001b[1;32m<ipython-input-2-66811c4e8ae5>\u001b[0m in \u001b[0;36m<module>\u001b[1;34m\u001b[0m\n\u001b[0;32m      1\u001b[0m \u001b[0mnew_cal_insideairbnb\u001b[0m \u001b[1;33m=\u001b[0m \u001b[0mCalendar_Summary_df\u001b[0m\u001b[1;33m.\u001b[0m\u001b[0mdropna\u001b[0m\u001b[1;33m(\u001b[0m\u001b[0mhow\u001b[0m \u001b[1;33m=\u001b[0m \u001b[1;34m\"any\"\u001b[0m\u001b[1;33m)\u001b[0m\u001b[1;33m\u001b[0m\u001b[1;33m\u001b[0m\u001b[0m\n\u001b[1;32m----> 2\u001b[1;33m \u001b[0mnew_cal_insideairbnb_file\u001b[0m \u001b[1;33m=\u001b[0m \u001b[0mnew_cal_insideairbnb\u001b[0m\u001b[1;33m.\u001b[0m\u001b[0mprice\u001b[0m\u001b[1;33m.\u001b[0m\u001b[0mstr\u001b[0m\u001b[1;33m[\u001b[0m\u001b[1;36m1\u001b[0m\u001b[1;33m:\u001b[0m\u001b[1;33m-\u001b[0m\u001b[1;36m3\u001b[0m\u001b[1;33m]\u001b[0m\u001b[1;33m\u001b[0m\u001b[1;33m\u001b[0m\u001b[0m\n\u001b[0m\u001b[0;32m      3\u001b[0m \u001b[0mnew_insideairbnb\u001b[0m \u001b[1;33m=\u001b[0m \u001b[0mnew_cal_insideairbnb_file\u001b[0m\u001b[1;33m.\u001b[0m\u001b[0mstr\u001b[0m\u001b[1;33m.\u001b[0m\u001b[0mreplace\u001b[0m\u001b[1;33m(\u001b[0m\u001b[1;34m\",\"\u001b[0m\u001b[1;33m,\u001b[0m\u001b[1;34m\"\"\u001b[0m\u001b[1;33m)\u001b[0m\u001b[1;33m\u001b[0m\u001b[1;33m\u001b[0m\u001b[0m\n\u001b[0;32m      4\u001b[0m \u001b[1;33m\u001b[0m\u001b[0m\n\u001b[0;32m      5\u001b[0m \u001b[0mcalendar_new_insideairbnb\u001b[0m \u001b[1;33m=\u001b[0m \u001b[0mnew_insideairbnb\u001b[0m\u001b[1;33m.\u001b[0m\u001b[0mastype\u001b[0m\u001b[1;33m(\u001b[0m\u001b[1;34m'int64'\u001b[0m\u001b[1;33m)\u001b[0m\u001b[1;33m\u001b[0m\u001b[1;33m\u001b[0m\u001b[0m\n",
      "\u001b[1;32mc:\\users\\saranya\\appdata\\local\\programs\\python\\python37-32\\lib\\site-packages\\pandas\\core\\strings.py\u001b[0m in \u001b[0;36m__getitem__\u001b[1;34m(self, key)\u001b[0m\n\u001b[0;32m   1970\u001b[0m     \u001b[1;32mdef\u001b[0m \u001b[0m__getitem__\u001b[0m\u001b[1;33m(\u001b[0m\u001b[0mself\u001b[0m\u001b[1;33m,\u001b[0m \u001b[0mkey\u001b[0m\u001b[1;33m)\u001b[0m\u001b[1;33m:\u001b[0m\u001b[1;33m\u001b[0m\u001b[1;33m\u001b[0m\u001b[0m\n\u001b[0;32m   1971\u001b[0m         \u001b[1;32mif\u001b[0m \u001b[0misinstance\u001b[0m\u001b[1;33m(\u001b[0m\u001b[0mkey\u001b[0m\u001b[1;33m,\u001b[0m \u001b[0mslice\u001b[0m\u001b[1;33m)\u001b[0m\u001b[1;33m:\u001b[0m\u001b[1;33m\u001b[0m\u001b[1;33m\u001b[0m\u001b[0m\n\u001b[1;32m-> 1972\u001b[1;33m             \u001b[1;32mreturn\u001b[0m \u001b[0mself\u001b[0m\u001b[1;33m.\u001b[0m\u001b[0mslice\u001b[0m\u001b[1;33m(\u001b[0m\u001b[0mstart\u001b[0m\u001b[1;33m=\u001b[0m\u001b[0mkey\u001b[0m\u001b[1;33m.\u001b[0m\u001b[0mstart\u001b[0m\u001b[1;33m,\u001b[0m \u001b[0mstop\u001b[0m\u001b[1;33m=\u001b[0m\u001b[0mkey\u001b[0m\u001b[1;33m.\u001b[0m\u001b[0mstop\u001b[0m\u001b[1;33m,\u001b[0m \u001b[0mstep\u001b[0m\u001b[1;33m=\u001b[0m\u001b[0mkey\u001b[0m\u001b[1;33m.\u001b[0m\u001b[0mstep\u001b[0m\u001b[1;33m)\u001b[0m\u001b[1;33m\u001b[0m\u001b[1;33m\u001b[0m\u001b[0m\n\u001b[0m\u001b[0;32m   1973\u001b[0m         \u001b[1;32melse\u001b[0m\u001b[1;33m:\u001b[0m\u001b[1;33m\u001b[0m\u001b[1;33m\u001b[0m\u001b[0m\n\u001b[0;32m   1974\u001b[0m             \u001b[1;32mreturn\u001b[0m \u001b[0mself\u001b[0m\u001b[1;33m.\u001b[0m\u001b[0mget\u001b[0m\u001b[1;33m(\u001b[0m\u001b[0mkey\u001b[0m\u001b[1;33m)\u001b[0m\u001b[1;33m\u001b[0m\u001b[1;33m\u001b[0m\u001b[0m\n",
      "\u001b[1;32mc:\\users\\saranya\\appdata\\local\\programs\\python\\python37-32\\lib\\site-packages\\pandas\\core\\strings.py\u001b[0m in \u001b[0;36mslice\u001b[1;34m(self, start, stop, step)\u001b[0m\n\u001b[0;32m   2830\u001b[0m     \u001b[1;33m@\u001b[0m\u001b[0mcopy\u001b[0m\u001b[1;33m(\u001b[0m\u001b[0mstr_slice\u001b[0m\u001b[1;33m)\u001b[0m\u001b[1;33m\u001b[0m\u001b[1;33m\u001b[0m\u001b[0m\n\u001b[0;32m   2831\u001b[0m     \u001b[1;32mdef\u001b[0m \u001b[0mslice\u001b[0m\u001b[1;33m(\u001b[0m\u001b[0mself\u001b[0m\u001b[1;33m,\u001b[0m \u001b[0mstart\u001b[0m\u001b[1;33m=\u001b[0m\u001b[1;32mNone\u001b[0m\u001b[1;33m,\u001b[0m \u001b[0mstop\u001b[0m\u001b[1;33m=\u001b[0m\u001b[1;32mNone\u001b[0m\u001b[1;33m,\u001b[0m \u001b[0mstep\u001b[0m\u001b[1;33m=\u001b[0m\u001b[1;32mNone\u001b[0m\u001b[1;33m)\u001b[0m\u001b[1;33m:\u001b[0m\u001b[1;33m\u001b[0m\u001b[1;33m\u001b[0m\u001b[0m\n\u001b[1;32m-> 2832\u001b[1;33m         \u001b[0mresult\u001b[0m \u001b[1;33m=\u001b[0m \u001b[0mstr_slice\u001b[0m\u001b[1;33m(\u001b[0m\u001b[0mself\u001b[0m\u001b[1;33m.\u001b[0m\u001b[0m_parent\u001b[0m\u001b[1;33m,\u001b[0m \u001b[0mstart\u001b[0m\u001b[1;33m,\u001b[0m \u001b[0mstop\u001b[0m\u001b[1;33m,\u001b[0m \u001b[0mstep\u001b[0m\u001b[1;33m)\u001b[0m\u001b[1;33m\u001b[0m\u001b[1;33m\u001b[0m\u001b[0m\n\u001b[0m\u001b[0;32m   2833\u001b[0m         \u001b[1;32mreturn\u001b[0m \u001b[0mself\u001b[0m\u001b[1;33m.\u001b[0m\u001b[0m_wrap_result\u001b[0m\u001b[1;33m(\u001b[0m\u001b[0mresult\u001b[0m\u001b[1;33m)\u001b[0m\u001b[1;33m\u001b[0m\u001b[1;33m\u001b[0m\u001b[0m\n\u001b[0;32m   2834\u001b[0m \u001b[1;33m\u001b[0m\u001b[0m\n",
      "\u001b[1;32mc:\\users\\saranya\\appdata\\local\\programs\\python\\python37-32\\lib\\site-packages\\pandas\\core\\strings.py\u001b[0m in \u001b[0;36mstr_slice\u001b[1;34m(arr, start, stop, step)\u001b[0m\n\u001b[0;32m   1467\u001b[0m     \u001b[0mobj\u001b[0m \u001b[1;33m=\u001b[0m \u001b[0mslice\u001b[0m\u001b[1;33m(\u001b[0m\u001b[0mstart\u001b[0m\u001b[1;33m,\u001b[0m \u001b[0mstop\u001b[0m\u001b[1;33m,\u001b[0m \u001b[0mstep\u001b[0m\u001b[1;33m)\u001b[0m\u001b[1;33m\u001b[0m\u001b[1;33m\u001b[0m\u001b[0m\n\u001b[0;32m   1468\u001b[0m     \u001b[0mf\u001b[0m \u001b[1;33m=\u001b[0m \u001b[1;32mlambda\u001b[0m \u001b[0mx\u001b[0m\u001b[1;33m:\u001b[0m \u001b[0mx\u001b[0m\u001b[1;33m[\u001b[0m\u001b[0mobj\u001b[0m\u001b[1;33m]\u001b[0m\u001b[1;33m\u001b[0m\u001b[1;33m\u001b[0m\u001b[0m\n\u001b[1;32m-> 1469\u001b[1;33m     \u001b[1;32mreturn\u001b[0m \u001b[0m_na_map\u001b[0m\u001b[1;33m(\u001b[0m\u001b[0mf\u001b[0m\u001b[1;33m,\u001b[0m \u001b[0marr\u001b[0m\u001b[1;33m)\u001b[0m\u001b[1;33m\u001b[0m\u001b[1;33m\u001b[0m\u001b[0m\n\u001b[0m\u001b[0;32m   1470\u001b[0m \u001b[1;33m\u001b[0m\u001b[0m\n\u001b[0;32m   1471\u001b[0m \u001b[1;33m\u001b[0m\u001b[0m\n",
      "\u001b[1;32mc:\\users\\saranya\\appdata\\local\\programs\\python\\python37-32\\lib\\site-packages\\pandas\\core\\strings.py\u001b[0m in \u001b[0;36m_na_map\u001b[1;34m(f, arr, na_result, dtype)\u001b[0m\n\u001b[0;32m    103\u001b[0m \u001b[1;32mdef\u001b[0m \u001b[0m_na_map\u001b[0m\u001b[1;33m(\u001b[0m\u001b[0mf\u001b[0m\u001b[1;33m,\u001b[0m \u001b[0marr\u001b[0m\u001b[1;33m,\u001b[0m \u001b[0mna_result\u001b[0m\u001b[1;33m=\u001b[0m\u001b[0mnp\u001b[0m\u001b[1;33m.\u001b[0m\u001b[0mnan\u001b[0m\u001b[1;33m,\u001b[0m \u001b[0mdtype\u001b[0m\u001b[1;33m=\u001b[0m\u001b[0mobject\u001b[0m\u001b[1;33m)\u001b[0m\u001b[1;33m:\u001b[0m\u001b[1;33m\u001b[0m\u001b[1;33m\u001b[0m\u001b[0m\n\u001b[0;32m    104\u001b[0m     \u001b[1;31m# should really _check_ for NA\u001b[0m\u001b[1;33m\u001b[0m\u001b[1;33m\u001b[0m\u001b[1;33m\u001b[0m\u001b[0m\n\u001b[1;32m--> 105\u001b[1;33m     \u001b[1;32mreturn\u001b[0m \u001b[0m_map\u001b[0m\u001b[1;33m(\u001b[0m\u001b[0mf\u001b[0m\u001b[1;33m,\u001b[0m \u001b[0marr\u001b[0m\u001b[1;33m,\u001b[0m \u001b[0mna_mask\u001b[0m\u001b[1;33m=\u001b[0m\u001b[1;32mTrue\u001b[0m\u001b[1;33m,\u001b[0m \u001b[0mna_value\u001b[0m\u001b[1;33m=\u001b[0m\u001b[0mna_result\u001b[0m\u001b[1;33m,\u001b[0m \u001b[0mdtype\u001b[0m\u001b[1;33m=\u001b[0m\u001b[0mdtype\u001b[0m\u001b[1;33m)\u001b[0m\u001b[1;33m\u001b[0m\u001b[1;33m\u001b[0m\u001b[0m\n\u001b[0m\u001b[0;32m    106\u001b[0m \u001b[1;33m\u001b[0m\u001b[0m\n\u001b[0;32m    107\u001b[0m \u001b[1;33m\u001b[0m\u001b[0m\n",
      "\u001b[1;32mc:\\users\\saranya\\appdata\\local\\programs\\python\\python37-32\\lib\\site-packages\\pandas\\core\\strings.py\u001b[0m in \u001b[0;36m_map\u001b[1;34m(f, arr, na_mask, na_value, dtype)\u001b[0m\n\u001b[0;32m    118\u001b[0m         \u001b[1;32mtry\u001b[0m\u001b[1;33m:\u001b[0m\u001b[1;33m\u001b[0m\u001b[1;33m\u001b[0m\u001b[0m\n\u001b[0;32m    119\u001b[0m             \u001b[0mconvert\u001b[0m \u001b[1;33m=\u001b[0m \u001b[1;32mnot\u001b[0m \u001b[0mall\u001b[0m\u001b[1;33m(\u001b[0m\u001b[0mmask\u001b[0m\u001b[1;33m)\u001b[0m\u001b[1;33m\u001b[0m\u001b[1;33m\u001b[0m\u001b[0m\n\u001b[1;32m--> 120\u001b[1;33m             \u001b[0mresult\u001b[0m \u001b[1;33m=\u001b[0m \u001b[0mlib\u001b[0m\u001b[1;33m.\u001b[0m\u001b[0mmap_infer_mask\u001b[0m\u001b[1;33m(\u001b[0m\u001b[0marr\u001b[0m\u001b[1;33m,\u001b[0m \u001b[0mf\u001b[0m\u001b[1;33m,\u001b[0m \u001b[0mmask\u001b[0m\u001b[1;33m.\u001b[0m\u001b[0mview\u001b[0m\u001b[1;33m(\u001b[0m\u001b[0mnp\u001b[0m\u001b[1;33m.\u001b[0m\u001b[0muint8\u001b[0m\u001b[1;33m)\u001b[0m\u001b[1;33m,\u001b[0m \u001b[0mconvert\u001b[0m\u001b[1;33m)\u001b[0m\u001b[1;33m\u001b[0m\u001b[1;33m\u001b[0m\u001b[0m\n\u001b[0m\u001b[0;32m    121\u001b[0m         \u001b[1;32mexcept\u001b[0m \u001b[1;33m(\u001b[0m\u001b[0mTypeError\u001b[0m\u001b[1;33m,\u001b[0m \u001b[0mAttributeError\u001b[0m\u001b[1;33m)\u001b[0m \u001b[1;32mas\u001b[0m \u001b[0me\u001b[0m\u001b[1;33m:\u001b[0m\u001b[1;33m\u001b[0m\u001b[1;33m\u001b[0m\u001b[0m\n\u001b[0;32m    122\u001b[0m             \u001b[1;31m# Reraise the exception if callable `f` got wrong number of args.\u001b[0m\u001b[1;33m\u001b[0m\u001b[1;33m\u001b[0m\u001b[1;33m\u001b[0m\u001b[0m\n",
      "\u001b[1;32mpandas\\_libs\\lib.pyx\u001b[0m in \u001b[0;36mpandas._libs.lib.map_infer_mask\u001b[1;34m()\u001b[0m\n",
      "\u001b[1;32mpandas\\_libs\\lib.pyx\u001b[0m in \u001b[0;36mpandas._libs.lib.maybe_convert_objects\u001b[1;34m()\u001b[0m\n",
      "\u001b[1;31mMemoryError\u001b[0m: Unable to allocate array with shape (8690158,) and data type complex128"
     ]
    }
   ],
   "source": [
    "new_cal_insideairbnb = Calendar_Summary_df.dropna(how = \"any\")\n",
=======
   "execution_count": null,
   "metadata": {},
   "outputs": [],
   "source": [
    "#Price Prediction \n",
    "\n",
    "new_cal_insideairbnb = calendar_insideairbnb_df.dropna(how = \"any\")\n",
>>>>>>> vaish2
    "new_cal_insideairbnb_file = new_cal_insideairbnb.price.str[1:-3]\n",
    "new_insideairbnb = new_cal_insideairbnb_file.str.replace(\",\",\"\")\n",
    "                                            \n",
    "calendar_new_insideairbnb = new_insideairbnb.astype('int64')\n",
<<<<<<< HEAD
    "insideairbnb_df = new_calendar_df = pd.DataFrame({'listing id':new_cal_insideairbnb['listing_id'],'date' : new_cal_insideairbnb['date'] , 'available':new_cal_insideairbnb['available']== 't' ,'price': calendar_new_insideairbnb})\n",
    "new_inside = pd.to_datetime(new_cal_insideairbnb['date']).dt.to_period('M')\n",
    "new_insideairbnb_df = pd.DataFrame({'date':new_inside,'price':new_calendar_df['price']})\n",
    "new_airbnb = new_insideairbnb_df.groupby(['date'])\n",
    "\n",
    "new_inside_sum = new_airbnb.sum()\n",
    "new_inside_sum.plot(y='price',kind = 'line', figsize = (15,5),color=\"blue\")\n",
    "plt.grid()\n",
    "plt.title('Listings Price Change every month')\n",
=======
    "#new_calendar_df = pd.DataFrame({'listing id':new_cal_insideairbnb['listing_id'],'date' : new_cal_insideairbnb['date'] , 'available':new_cal_insideairbnb['available'] ,'price': calendar_new_insideairbnb})\n",
    "new_inside = pd.to_datetime(new_cal_insideairbnb['date']).dt.to_period('M')\n",
    "new_insideairbnb_df = pd.DataFrame({'date':new_inside,'price':calendar_new_insideairbnb})\n",
    "new_airbnb = new_insideairbnb_df.groupby(['date'])\n",
    "\n",
    "new_inside_sum = new_airbnb.mean()\n",
    "\n",
    "new_inside_sum.plot(y='price',kind = 'line', figsize = (15,5),color=\"blue\")\n",
    "plt.grid()\n",
    "plt.title('Listings Average Price Change every month')\n",
>>>>>>> vaish2
    "plt.xlabel('Month and year')\n",
    "plt.ylabel('Price')"
   ]
  },
  {
   "cell_type": "code",
<<<<<<< HEAD
=======
   "execution_count": 100,
   "metadata": {},
   "outputs": [
    {
     "data": {
      "image/png": "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\n",
      "text/plain": [
       "<Figure size 432x288 with 1 Axes>"
      ]
     },
     "metadata": {
      "needs_background": "light"
     },
     "output_type": "display_data"
    }
   ],
   "source": [
    "\n",
    "#Availability Frequency\n",
    "                                                \n",
    "#listings_insideairbnb_df = pd.read_csv(\"../Dataset/listings_insideairbnb.csv\")\n",
    "#listings_insideairbnb_final = pd.DataFrame({'listing_id':listings_insideairbnb_df['host_id'],\n",
    " #                                         'Available number of days' :listings_insideairbnb_df['availability_30']  })\n",
    "\n",
    "# plt.bar(listings_insideairbnb_final['listing_id'],listings_insideairbnb_final['Available number of days'])\n",
    "# plt.xticks(rotation = 'vertical')\n",
    "# plt.show()\n",
    "#listings_insideairbnb_df['availability_30']\n",
    "\n",
    "#new_cal_insideairbnb['available']\n",
    "#new_cal_insideairbnb['date']\n",
    "#new_cal_insideairbnb['listing_id']\n"
   ]
  },
  {
   "cell_type": "code",
   "execution_count": 146,
   "metadata": {},
   "outputs": [],
   "source": [
    "listly_10 =listings_insideairbnb_df.loc[listings_insideairbnb_df['availability_30'] < 10,:]\n",
    "availability_10 = listly_10['id'].count()\n",
    "#listg = listly.count()\n",
    "#listg.head()"
   ]
  },
  {
   "cell_type": "code",
   "execution_count": 147,
   "metadata": {},
   "outputs": [],
   "source": [
    "listly_20 =listings_insideairbnb_df.loc[(listings_insideairbnb_df['availability_30'] > 10) & (listings_insideairbnb_df['availability_30'] < 20),:]\n",
    "availability_20 = listly_20['id'].count()"
   ]
  },
  {
   "cell_type": "code",
   "execution_count": 140,
   "metadata": {},
   "outputs": [
    {
     "data": {
      "text/plain": [
       "1281"
      ]
     },
     "execution_count": 140,
     "metadata": {},
     "output_type": "execute_result"
    }
   ],
   "source": [
    "listly_30 =listings_insideairbnb_df.loc[(listings_insideairbnb_df['availability_30'] > 20) & (listings_insideairbnb_df['availability_30'] <= 30),:]\n",
    "availability_30 = listly_30['id'].count()"
   ]
  },
  {
   "cell_type": "code",
   "execution_count": 153,
   "metadata": {},
   "outputs": [],
   "source": [
    "labels = ['0-10','10-20','20-30']\n",
    "#availability_count = (pd.DataFrame({'availability_10':availability_10,'availability_20':availability_20,'availability_30':availability_30},index = [0]))\n",
    "availability_count = ([20385,1732,1281])\n",
    "#availability_count_new = (availability_count)"
   ]
  },
  {
   "cell_type": "code",
   "execution_count": 155,
   "metadata": {},
   "outputs": [
    {
     "data": {
      "text/plain": [
       "Text(0.5, 1.0, 'Number of listings avaialable based on selected days')"
      ]
     },
     "execution_count": 155,
     "metadata": {},
     "output_type": "execute_result"
    },
    {
     "data": {
      "image/png": "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\n",
      "text/plain": [
       "<Figure size 432x288 with 1 Axes>"
      ]
     },
     "metadata": {
      "needs_background": "light"
     },
     "output_type": "display_data"
    }
   ],
   "source": [
    "\n",
    "plt.bar(labels,availability_count,align='center',alpha = 0.5)\n",
    "plt.xlabel('Number of Days')\n",
    "plt.ylabel('Number of listings available')\n",
    "plt.title('Number of listings avaialable based on selected days')\n"
   ]
  },
  {
   "cell_type": "code",
>>>>>>> vaish2
   "execution_count": null,
   "metadata": {},
   "outputs": [],
   "source": []
  }
 ],
 "metadata": {
  "kernelspec": {
   "display_name": "Python 3",
   "language": "python",
   "name": "python3"
  },
  "language_info": {
   "codemirror_mode": {
    "name": "ipython",
    "version": 3
   },
   "file_extension": ".py",
   "mimetype": "text/x-python",
   "name": "python",
   "nbconvert_exporter": "python",
   "pygments_lexer": "ipython3",
<<<<<<< HEAD
   "version": "3.7.4"
=======
   "version": "3.7.3"
>>>>>>> vaish2
  }
 },
 "nbformat": 4,
 "nbformat_minor": 2
}
