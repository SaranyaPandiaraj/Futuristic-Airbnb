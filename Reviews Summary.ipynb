{
 "cells": [
  {
   "cell_type": "code",
   "execution_count": 30,
   "metadata": {},
   "outputs": [],
   "source": [
    "import pandas as pd\n",
    "import numpy as np\n",
    "import matplotlib.pyplot as plt\n",
    "import requests\n",
    "import time\n",
    "import json\n",
    "import gmaps\n",
    "import datetime\n",
    "#from datetime import month"
   ]
  },
  {
   "cell_type": "code",
   "execution_count": 3,
   "metadata": {},
   "outputs": [],
   "source": [
    "review_summary = pd.read_csv('../Dataset/reviews_summary.csv')"
   ]
  },
  {
   "cell_type": "code",
   "execution_count": 43,
   "metadata": {},
   "outputs": [
    {
     "data": {
      "text/plain": [
       "listing_id                int64\n",
       "id                        int64\n",
       "date             datetime64[ns]\n",
       "reviewer_id               int64\n",
       "reviewer_name            object\n",
       "comments                 object\n",
       "year                      int64\n",
       "month                    object\n",
       "day                       int64\n",
       "dtype: object"
      ]
     },
     "execution_count": 43,
     "metadata": {},
     "output_type": "execute_result"
    }
   ],
   "source": [
    "review_summary.dtypes"
   ]
  },
  {
   "cell_type": "code",
   "execution_count": 32,
   "metadata": {},
   "outputs": [],
   "source": [
    "def mapper(month):\n",
    "    date = datetime.datetime(2000,month,1)\n",
    "    return date.strftime('%b')\n",
    "    "
   ]
  },
  {
   "cell_type": "code",
   "execution_count": 7,
   "metadata": {},
   "outputs": [],
   "source": [
    "review_summary['date'] = pd.to_datetime(review_summary['date'])\n",
    "review_summary['year'] = review_summary['date'].dt.year\n",
    "review_summary['month'] = review_summary['date'].dt.month\n",
    "review_summary['day'] = review_summary['date'].dt.day"
   ]
  },
  {
   "cell_type": "code",
   "execution_count": 11,
   "metadata": {},
   "outputs": [
    {
     "data": {
      "text/plain": [
       "0         11\n",
       "1         15\n",
       "2         26\n",
       "3         10\n",
       "4         14\n",
       "5         16\n",
       "6         28\n",
       "7         31\n",
       "8          3\n",
       "9         27\n",
       "10        13\n",
       "11        17\n",
       "12        26\n",
       "13         1\n",
       "14         5\n",
       "15         8\n",
       "16        15\n",
       "17         1\n",
       "18         3\n",
       "19         8\n",
       "20        16\n",
       "21        18\n",
       "22        22\n",
       "23        28\n",
       "24         3\n",
       "25         9\n",
       "26        17\n",
       "27        19\n",
       "28        22\n",
       "29         1\n",
       "          ..\n",
       "401933    31\n",
       "401934     4\n",
       "401935     5\n",
       "401936     3\n",
       "401937    29\n",
       "401938     2\n",
       "401939     5\n",
       "401940    30\n",
       "401941     5\n",
       "401942     4\n",
       "401943     5\n",
       "401944     4\n",
       "401945     3\n",
       "401946     1\n",
       "401947     6\n",
       "401948     4\n",
       "401949     4\n",
       "401950     3\n",
       "401951     4\n",
       "401952     6\n",
       "401953     4\n",
       "401954     6\n",
       "401955     6\n",
       "401956     6\n",
       "401957     6\n",
       "401958     6\n",
       "401959     5\n",
       "401960     7\n",
       "401961     7\n",
       "401962     7\n",
       "Name: day, Length: 401963, dtype: int32"
      ]
     },
     "execution_count": 11,
     "metadata": {},
     "output_type": "execute_result"
    }
   ],
   "source": [
    "review_summary['year'].astype(int)\n",
    "#review_summary['date'].astype(int)\n",
    "review_summary['month'].astype(int)\n",
    "review_summary['day'].astype(int)"
   ]
  },
  {
   "cell_type": "code",
   "execution_count": 40,
   "metadata": {},
   "outputs": [
    {
     "data": {
      "text/html": [
       "<div>\n",
       "<style scoped>\n",
       "    .dataframe tbody tr th:only-of-type {\n",
       "        vertical-align: middle;\n",
       "    }\n",
       "\n",
       "    .dataframe tbody tr th {\n",
       "        vertical-align: top;\n",
       "    }\n",
       "\n",
       "    .dataframe thead th {\n",
       "        text-align: right;\n",
       "    }\n",
       "</style>\n",
       "<table border=\"1\" class=\"dataframe\">\n",
       "  <thead>\n",
       "    <tr style=\"text-align: right;\">\n",
       "      <th></th>\n",
       "      <th>listing_id</th>\n",
       "      <th>id</th>\n",
       "      <th>date</th>\n",
       "      <th>reviewer_id</th>\n",
       "      <th>reviewer_name</th>\n",
       "      <th>comments</th>\n",
       "      <th>year</th>\n",
       "      <th>month</th>\n",
       "      <th>day</th>\n",
       "    </tr>\n",
       "  </thead>\n",
       "  <tbody>\n",
       "    <tr>\n",
       "      <th>292</th>\n",
       "      <td>7071</td>\n",
       "      <td>7726</td>\n",
       "      <td>2009-08-18</td>\n",
       "      <td>30084</td>\n",
       "      <td>Ben</td>\n",
       "      <td>I could not have asked for a better place to s...</td>\n",
       "      <td>2009</td>\n",
       "      <td>Aug</td>\n",
       "      <td>18</td>\n",
       "    </tr>\n",
       "    <tr>\n",
       "      <th>124</th>\n",
       "      <td>3176</td>\n",
       "      <td>4283</td>\n",
       "      <td>2009-06-20</td>\n",
       "      <td>21475</td>\n",
       "      <td>Milan</td>\n",
       "      <td>excellent stay, i would highly recommend it. a...</td>\n",
       "      <td>2009</td>\n",
       "      <td>Jun</td>\n",
       "      <td>20</td>\n",
       "    </tr>\n",
       "    <tr>\n",
       "      <th>293</th>\n",
       "      <td>7071</td>\n",
       "      <td>18259</td>\n",
       "      <td>2009-11-25</td>\n",
       "      <td>50988</td>\n",
       "      <td>Tarnia</td>\n",
       "      <td>This room is really lovely!  It is quiet, comf...</td>\n",
       "      <td>2009</td>\n",
       "      <td>Nov</td>\n",
       "      <td>25</td>\n",
       "    </tr>\n",
       "    <tr>\n",
       "      <th>294</th>\n",
       "      <td>7071</td>\n",
       "      <td>38158</td>\n",
       "      <td>2010-04-26</td>\n",
       "      <td>96258</td>\n",
       "      <td>Maria Cristina</td>\n",
       "      <td>Staying at bright room was realy nice and conf...</td>\n",
       "      <td>2010</td>\n",
       "      <td>Apr</td>\n",
       "      <td>26</td>\n",
       "    </tr>\n",
       "    <tr>\n",
       "      <th>296</th>\n",
       "      <td>7071</td>\n",
       "      <td>81715</td>\n",
       "      <td>2010-08-20</td>\n",
       "      <td>180195</td>\n",
       "      <td>Shellie</td>\n",
       "      <td>My daughter, Anya, and I enjoyed or stay in Br...</td>\n",
       "      <td>2010</td>\n",
       "      <td>Aug</td>\n",
       "      <td>20</td>\n",
       "    </tr>\n",
       "  </tbody>\n",
       "</table>\n",
       "</div>"
      ],
      "text/plain": [
       "     listing_id     id       date  reviewer_id   reviewer_name  \\\n",
       "292        7071   7726 2009-08-18        30084             Ben   \n",
       "124        3176   4283 2009-06-20        21475           Milan   \n",
       "293        7071  18259 2009-11-25        50988          Tarnia   \n",
       "294        7071  38158 2010-04-26        96258  Maria Cristina   \n",
       "296        7071  81715 2010-08-20       180195         Shellie   \n",
       "\n",
       "                                              comments  year month  day  \n",
       "292  I could not have asked for a better place to s...  2009   Aug   18  \n",
       "124  excellent stay, i would highly recommend it. a...  2009   Jun   20  \n",
       "293  This room is really lovely!  It is quiet, comf...  2009   Nov   25  \n",
       "294  Staying at bright room was realy nice and conf...  2010   Apr   26  \n",
       "296  My daughter, Anya, and I enjoyed or stay in Br...  2010   Aug   20  "
      ]
     },
     "execution_count": 40,
     "metadata": {},
     "output_type": "execute_result"
    }
   ],
   "source": [
    "review_summary.sort_values(['year','month'],ascending = [True,True],axis = 0, inplace = True )\n",
    "review_summary.head()"
   ]
  },
  {
   "cell_type": "code",
   "execution_count": 42,
   "metadata": {},
   "outputs": [],
   "source": [
    "#review_summary['month'] = review_summary['month'].apply(mapper)\n"
   ]
  },
  {
   "cell_type": "code",
   "execution_count": 45,
   "metadata": {},
   "outputs": [],
   "source": [
    "dropped = ['reviewer_name','comments']\n",
    "review_summary.drop(dropped,axis = 1,inplace = True)"
   ]
  },
  {
   "cell_type": "code",
   "execution_count": 46,
   "metadata": {},
   "outputs": [
    {
     "data": {
      "text/plain": [
       "2018    152448\n",
       "2017    111799\n",
       "2016     69303\n",
       "2015     39470\n",
       "2014     17702\n",
       "2013      7422\n",
       "2012      3092\n",
       "2011       617\n",
       "2010       107\n",
       "2009         3\n",
       "Name: year, dtype: int64"
      ]
     },
     "execution_count": 46,
     "metadata": {},
     "output_type": "execute_result"
    }
   ],
   "source": [
    "review_summary['year'].value_counts()"
   ]
  },
  {
   "cell_type": "code",
   "execution_count": 48,
   "metadata": {},
   "outputs": [],
   "source": [
    "review_2015 =review_summary [review_summary['year'] == 2015]\n",
    "review_2016 =review_summary[review_summary['year'] == 2016] \n",
    "review_2017 = review_summary[review_summary['year'] == 2017]\n",
    "review_2018 = review_summary[review_summary['year'] == 2018]"
   ]
  },
  {
   "cell_type": "code",
   "execution_count": 50,
   "metadata": {},
   "outputs": [
    {
     "name": "stderr",
     "output_type": "stream",
     "text": [
      "C:\\Users\\prabh\\Anaconda3\\lib\\site-packages\\pandas\\core\\frame.py:3940: SettingWithCopyWarning: \n",
      "A value is trying to be set on a copy of a slice from a DataFrame\n",
      "\n",
      "See the caveats in the documentation: http://pandas.pydata.org/pandas-docs/stable/indexing.html#indexing-view-versus-copy\n",
      "  errors=errors)\n"
     ]
    }
   ],
   "source": [
    "dropped = ['year','day','id','date','listing_id']\n",
    "review_2015.drop(dropped,axis = 1,inplace = True)\n",
    "review_2016.drop(dropped,axis = 1,inplace = True)\n",
    "review_2017.drop(dropped,axis = 1,inplace = True)\n",
    "review_2018.drop(dropped,axis = 1,inplace = True)\n"
   ]
  },
  {
   "cell_type": "code",
   "execution_count": 54,
   "metadata": {},
   "outputs": [
    {
     "name": "stderr",
     "output_type": "stream",
     "text": [
      "C:\\Users\\prabh\\Anaconda3\\lib\\site-packages\\ipykernel_launcher.py:1: SettingWithCopyWarning: \n",
      "A value is trying to be set on a copy of a slice from a DataFrame.\n",
      "Try using .loc[row_indexer,col_indexer] = value instead\n",
      "\n",
      "See the caveats in the documentation: http://pandas.pydata.org/pandas-docs/stable/indexing.html#indexing-view-versus-copy\n",
      "  \"\"\"Entry point for launching an IPython kernel.\n",
      "C:\\Users\\prabh\\Anaconda3\\lib\\site-packages\\ipykernel_launcher.py:2: SettingWithCopyWarning: \n",
      "A value is trying to be set on a copy of a slice from a DataFrame.\n",
      "Try using .loc[row_indexer,col_indexer] = value instead\n",
      "\n",
      "See the caveats in the documentation: http://pandas.pydata.org/pandas-docs/stable/indexing.html#indexing-view-versus-copy\n",
      "  \n",
      "C:\\Users\\prabh\\Anaconda3\\lib\\site-packages\\ipykernel_launcher.py:3: SettingWithCopyWarning: \n",
      "A value is trying to be set on a copy of a slice from a DataFrame.\n",
      "Try using .loc[row_indexer,col_indexer] = value instead\n",
      "\n",
      "See the caveats in the documentation: http://pandas.pydata.org/pandas-docs/stable/indexing.html#indexing-view-versus-copy\n",
      "  This is separate from the ipykernel package so we can avoid doing imports until\n",
      "C:\\Users\\prabh\\Anaconda3\\lib\\site-packages\\ipykernel_launcher.py:4: SettingWithCopyWarning: \n",
      "A value is trying to be set on a copy of a slice from a DataFrame.\n",
      "Try using .loc[row_indexer,col_indexer] = value instead\n",
      "\n",
      "See the caveats in the documentation: http://pandas.pydata.org/pandas-docs/stable/indexing.html#indexing-view-versus-copy\n",
      "  after removing the cwd from sys.path.\n"
     ]
    }
   ],
   "source": [
    "review_2015['count'] = review_2015.groupby(\"month\")[\"reviewer_id\"].transform('count')\n",
    "review_2016['count'] = review_2016.groupby(\"month\")[\"reviewer_id\"].transform('count')\n",
    "review_2017['count'] = review_2017.groupby(\"month\")[\"reviewer_id\"].transform('count')\n",
    "review_2018['count'] = review_2018.groupby(\"month\")[\"reviewer_id\"].transform('count')"
   ]
  },
  {
   "cell_type": "code",
   "execution_count": 62,
   "metadata": {},
   "outputs": [],
   "source": [
    "#dropped = ['reviewer_id']\n",
    "#review_2015.drop(dropped,axis = 1,inplace = True)\n",
    "#review_2016.drop(dropped,axis = 1,inplace = True)\n",
    "#review_2017.drop(dropped,axis = 1,inplace = True)\n",
    "#review_2018.drop(dropped,axis = 1,inplace = True)\n"
   ]
  },
  {
   "cell_type": "code",
   "execution_count": 68,
   "metadata": {},
   "outputs": [],
   "source": [
    "review_2015 = review_2015.drop_duplicates()\n",
    "review_2016 = review_2016.drop_duplicates()\n",
    "review_2017 = review_2017.drop_duplicates()\n",
    "review_2018 = review_2018.drop_duplicates()"
   ]
  },
  {
   "cell_type": "code",
   "execution_count": 70,
   "metadata": {},
   "outputs": [],
   "source": [
    "review_2015 = review_2015.reset_index(drop = True)\n",
    "review_2016 = review_2016.reset_index(drop = True)\n",
    "review_2017 = review_2017.reset_index(drop = True)\n",
    "review_2018 = review_2018.reset_index(drop = True)\n"
   ]
  },
  {
   "cell_type": "code",
   "execution_count": 75,
   "metadata": {},
   "outputs": [
    {
     "data": {
      "text/html": [
       "<div>\n",
       "<style scoped>\n",
       "    .dataframe tbody tr th:only-of-type {\n",
       "        vertical-align: middle;\n",
       "    }\n",
       "\n",
       "    .dataframe tbody tr th {\n",
       "        vertical-align: top;\n",
       "    }\n",
       "\n",
       "    .dataframe thead th {\n",
       "        text-align: right;\n",
       "    }\n",
       "</style>\n",
       "<table border=\"1\" class=\"dataframe\">\n",
       "  <thead>\n",
       "    <tr style=\"text-align: right;\">\n",
       "      <th></th>\n",
       "      <th>month</th>\n",
       "      <th>count</th>\n",
       "    </tr>\n",
       "  </thead>\n",
       "  <tbody>\n",
       "    <tr>\n",
       "      <th>0</th>\n",
       "      <td>Apr</td>\n",
       "      <td>13090</td>\n",
       "    </tr>\n",
       "    <tr>\n",
       "      <th>1</th>\n",
       "      <td>Aug</td>\n",
       "      <td>17954</td>\n",
       "    </tr>\n",
       "    <tr>\n",
       "      <th>2</th>\n",
       "      <td>Feb</td>\n",
       "      <td>8723</td>\n",
       "    </tr>\n",
       "    <tr>\n",
       "      <th>3</th>\n",
       "      <td>Jan</td>\n",
       "      <td>8780</td>\n",
       "    </tr>\n",
       "    <tr>\n",
       "      <th>4</th>\n",
       "      <td>Jul</td>\n",
       "      <td>17890</td>\n",
       "    </tr>\n",
       "    <tr>\n",
       "      <th>5</th>\n",
       "      <td>Jun</td>\n",
       "      <td>16147</td>\n",
       "    </tr>\n",
       "    <tr>\n",
       "      <th>6</th>\n",
       "      <td>Mar</td>\n",
       "      <td>11008</td>\n",
       "    </tr>\n",
       "    <tr>\n",
       "      <th>7</th>\n",
       "      <td>May</td>\n",
       "      <td>15654</td>\n",
       "    </tr>\n",
       "    <tr>\n",
       "      <th>8</th>\n",
       "      <td>Nov</td>\n",
       "      <td>2108</td>\n",
       "    </tr>\n",
       "    <tr>\n",
       "      <th>9</th>\n",
       "      <td>Oct</td>\n",
       "      <td>18642</td>\n",
       "    </tr>\n",
       "    <tr>\n",
       "      <th>10</th>\n",
       "      <td>Sep</td>\n",
       "      <td>22452</td>\n",
       "    </tr>\n",
       "  </tbody>\n",
       "</table>\n",
       "</div>"
      ],
      "text/plain": [
       "   month  count\n",
       "0    Apr  13090\n",
       "1    Aug  17954\n",
       "2    Feb   8723\n",
       "3    Jan   8780\n",
       "4    Jul  17890\n",
       "5    Jun  16147\n",
       "6    Mar  11008\n",
       "7    May  15654\n",
       "8    Nov   2108\n",
       "9    Oct  18642\n",
       "10   Sep  22452"
      ]
     },
     "execution_count": 75,
     "metadata": {},
     "output_type": "execute_result"
    }
   ],
   "source": [
    "review_2018"
   ]
  },
  {
   "cell_type": "code",
   "execution_count": 74,
   "metadata": {},
   "outputs": [
    {
     "data": {
      "image/png": "[encoded data removed]",
      "text/plain": [
       "<Figure size 1440x432 with 4 Axes>"
      ]
     },
     "metadata": {
      "needs_background": "light"
     },
     "output_type": "display_data"
    }
   ],
   "source": [
    "fig = plt.figure(figsize=(20,6))\n",
    "ax0 = fig.add_subplot(2,2,1)\n",
    "ax1 = fig.add_subplot(2,2,2)\n",
    "ax2 = fig.add_subplot(2,2,3)\n",
    "ax3 = fig.add_subplot(2,2,4)\n",
    "review_2015.plot(kind='line', color='blue', x='month',y='count',marker='o',ax=ax0) \n",
    "ax0.set_title('Visitor Trends in 2015')\n",
    "ax0.set_xlabel('Month')\n",
    "ax0.set_ylabel('Number of visitors')\n",
    "\n",
    "\n",
    "review_2016.plot(kind='line', color='red', x='month',y='count',marker='o',ax=ax1) \n",
    "ax1.set_title('Visitor Trends in 2016')\n",
    "ax1.set_xlabel('Month')\n",
    "ax1.set_ylabel('Number of visitors')\n",
    "\n",
    "\n",
    "review_2017.plot(kind='line', color='cyan', x='month',y='count',marker='o',ax=ax2) \n",
    "ax2.set_title('Visitor Trends in 2017')\n",
    "ax2.set_xlabel('Month')\n",
    "ax2.set_ylabel('Number of visitors')\n",
    "\n",
    "\n",
    "review_2018.plot(kind='line', color='green', x='month',y='count',marker='o',ax=ax3) \n",
    "ax3.set_title('Visitor Trends in 2018')\n",
    "ax3.set_xlabel('Month')\n",
    "ax3.set_ylabel('Number of visitors')\n",
    "\n",
    "plt.subplots_adjust(top = 0.99, bottom=0.01, hspace=0.5)\n",
    "plt.show()"
   ]
  },
  {
   "cell_type": "code",
   "execution_count": null,
   "metadata": {},
   "outputs": [],
   "source": []
  }
 ],
 "metadata": {
  "kernelspec": {
   "display_name": "Python 3",
   "language": "python",
   "name": "python3"
  },
  "language_info": {
   "codemirror_mode": {
    "name": "ipython",
    "version": 3
   },
   "file_extension": ".py",
   "mimetype": "text/x-python",
   "name": "python",
   "nbconvert_exporter": "python",
   "pygments_lexer": "ipython3",
   "version": "3.7.3"
  }
 },
 "nbformat": 4,
 "nbformat_minor": 2
}
