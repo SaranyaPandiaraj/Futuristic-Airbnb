{
 "cells": [
  {
   "cell_type": "markdown",
   "metadata": {},
   "source": [
    "# <ins> Futuristic Airbnb </ins>"
   ]
  },
  {
   "cell_type": "markdown",
   "metadata": {},
   "source": [
    "Airbnb has successfully disrupted the traditional hospitality industry as more and more travelers decide to use Airbnb as their primary accommodation provider. Since its beginning in 2008, Airbnb has seen an enormous growth, with the number of rentals listed on its website growing exponentially each year. In Germany, no city is more popular than Berlin. That implies that Berlin is one of the hottest markets for Airbnb in Europe, with over 22,552 listings as of November 2018.Here we will be using Python with some packages like Pandas and Matplotlib to analyze data  to find a better Accommodation based on customer satisfaction and to improve the Airbnb business based on certain factors in Berlin."
   ]
  },
  {
   "cell_type": "markdown",
   "metadata": {},
   "source": [
    "<hr> </hr>"
   ]
  },
  {
   "cell_type": "code",
   "execution_count": 1,
   "metadata": {},
   "outputs": [],
   "source": [
    "#Importing Dependencies\n",
    "import pandas as pd\n",
    "import numpy as np\n",
    "import matplotlib.pyplot as plt\n",
    "import requests\n",
    "import time\n",
    "import json\n",
    "import gmaps"
   ]
  },
  {
   "cell_type": "code",
   "execution_count": 2,
   "metadata": {},
   "outputs": [],
   "source": [
    "#Reading Files and storing in Dataframes\n",
    "\n",
    "Calendar_Summary_df = pd.read_csv(\"../Dataset/calendar_summary.csv\")\n",
    "Listings_df = pd.read_csv(\"../Dataset/listings.csv\")\n",
    "Listings_Summary_df = pd.read_csv(\"../Dataset/listings_summary.csv\")\n",
    "Neighbourhoods_df = pd.read_csv(\"../Dataset/neighbourhoods.csv\")\n",
    "Reviews_df = pd.read_csv(\"../Dataset/reviews.csv\")\n",
    "Reviews_Summary = pd.read_csv(\"../Dataset/reviews_summary.csv\")\n",
    "calendar_insideairbnb_df = pd.read_csv(\"../Dataset/calendar.csv\")\n"
   ]
  },
  {
   "cell_type": "markdown",
   "metadata": {},
   "source": [
    "### <ins> Identifying the Columns </ins>"
   ]
  },
  {
   "cell_type": "code",
   "execution_count": 162,
   "metadata": {},
   "outputs": [
    {
     "data": {
      "text/plain": [
       "listing_id          int64\n",
       "date               object\n",
       "available          object\n",
       "price              object\n",
       "adjusted_price     object\n",
       "minimum_nights    float64\n",
       "maximum_nights    float64\n",
       "dtype: object"
      ]
     },
     "execution_count": 162,
     "metadata": {},
     "output_type": "execute_result"
    }
   ],
   "source": [
    "calendar_insideairbnb_df.dtypes\n"
   ]
  },
  {
   "cell_type": "code",
   "execution_count": 3,
   "metadata": {},
   "outputs": [
    {
     "data": {
      "text/html": [
       "<div>\n",
       "<style scoped>\n",
       "    .dataframe tbody tr th:only-of-type {\n",
       "        vertical-align: middle;\n",
       "    }\n",
       "\n",
       "    .dataframe tbody tr th {\n",
       "        vertical-align: top;\n",
       "    }\n",
       "\n",
       "    .dataframe thead th {\n",
       "        text-align: right;\n",
       "    }\n",
       "</style>\n",
       "<table border=\"1\" class=\"dataframe\">\n",
       "  <thead>\n",
       "    <tr style=\"text-align: right;\">\n",
       "      <th></th>\n",
       "      <th>id</th>\n",
       "      <th>scrape_id</th>\n",
       "      <th>thumbnail_url</th>\n",
       "      <th>medium_url</th>\n",
       "      <th>xl_picture_url</th>\n",
       "      <th>host_id</th>\n",
       "      <th>host_acceptance_rate</th>\n",
       "      <th>host_listings_count</th>\n",
       "      <th>host_total_listings_count</th>\n",
       "      <th>latitude</th>\n",
       "      <th>...</th>\n",
       "      <th>review_scores_rating</th>\n",
       "      <th>review_scores_accuracy</th>\n",
       "      <th>review_scores_cleanliness</th>\n",
       "      <th>review_scores_checkin</th>\n",
       "      <th>review_scores_communication</th>\n",
       "      <th>review_scores_location</th>\n",
       "      <th>review_scores_value</th>\n",
       "      <th>jurisdiction_names</th>\n",
       "      <th>calculated_host_listings_count</th>\n",
       "      <th>reviews_per_month</th>\n",
       "    </tr>\n",
       "  </thead>\n",
       "  <tbody>\n",
       "    <tr>\n",
       "      <th>count</th>\n",
       "      <td>2.255200e+04</td>\n",
       "      <td>2.255200e+04</td>\n",
       "      <td>0.0</td>\n",
       "      <td>0.0</td>\n",
       "      <td>0.0</td>\n",
       "      <td>2.255200e+04</td>\n",
       "      <td>0.0</td>\n",
       "      <td>22526.000000</td>\n",
       "      <td>22526.000000</td>\n",
       "      <td>22552.000000</td>\n",
       "      <td>...</td>\n",
       "      <td>18163.000000</td>\n",
       "      <td>18138.000000</td>\n",
       "      <td>18141.000000</td>\n",
       "      <td>18120.000000</td>\n",
       "      <td>18134.000000</td>\n",
       "      <td>18121.000000</td>\n",
       "      <td>18117.000000</td>\n",
       "      <td>0.0</td>\n",
       "      <td>22552.000000</td>\n",
       "      <td>18638.000000</td>\n",
       "    </tr>\n",
       "    <tr>\n",
       "      <th>mean</th>\n",
       "      <td>1.571560e+07</td>\n",
       "      <td>2.018111e+13</td>\n",
       "      <td>NaN</td>\n",
       "      <td>NaN</td>\n",
       "      <td>NaN</td>\n",
       "      <td>5.403355e+07</td>\n",
       "      <td>NaN</td>\n",
       "      <td>2.330685</td>\n",
       "      <td>2.330685</td>\n",
       "      <td>52.509824</td>\n",
       "      <td>...</td>\n",
       "      <td>94.413863</td>\n",
       "      <td>9.663965</td>\n",
       "      <td>9.324955</td>\n",
       "      <td>9.713521</td>\n",
       "      <td>9.730672</td>\n",
       "      <td>9.505491</td>\n",
       "      <td>9.411106</td>\n",
       "      <td>NaN</td>\n",
       "      <td>1.918233</td>\n",
       "      <td>1.135525</td>\n",
       "    </tr>\n",
       "    <tr>\n",
       "      <th>std</th>\n",
       "      <td>8.552069e+06</td>\n",
       "      <td>4.812607e+00</td>\n",
       "      <td>NaN</td>\n",
       "      <td>NaN</td>\n",
       "      <td>NaN</td>\n",
       "      <td>5.816290e+07</td>\n",
       "      <td>NaN</td>\n",
       "      <td>19.947823</td>\n",
       "      <td>19.947823</td>\n",
       "      <td>0.030825</td>\n",
       "      <td>...</td>\n",
       "      <td>7.639644</td>\n",
       "      <td>0.740039</td>\n",
       "      <td>1.031996</td>\n",
       "      <td>0.704620</td>\n",
       "      <td>0.686614</td>\n",
       "      <td>0.762161</td>\n",
       "      <td>0.841492</td>\n",
       "      <td>NaN</td>\n",
       "      <td>3.667257</td>\n",
       "      <td>1.507082</td>\n",
       "    </tr>\n",
       "    <tr>\n",
       "      <th>min</th>\n",
       "      <td>2.015000e+03</td>\n",
       "      <td>2.018111e+13</td>\n",
       "      <td>NaN</td>\n",
       "      <td>NaN</td>\n",
       "      <td>NaN</td>\n",
       "      <td>2.217000e+03</td>\n",
       "      <td>NaN</td>\n",
       "      <td>0.000000</td>\n",
       "      <td>0.000000</td>\n",
       "      <td>52.345803</td>\n",
       "      <td>...</td>\n",
       "      <td>20.000000</td>\n",
       "      <td>2.000000</td>\n",
       "      <td>2.000000</td>\n",
       "      <td>2.000000</td>\n",
       "      <td>2.000000</td>\n",
       "      <td>2.000000</td>\n",
       "      <td>2.000000</td>\n",
       "      <td>NaN</td>\n",
       "      <td>1.000000</td>\n",
       "      <td>0.010000</td>\n",
       "    </tr>\n",
       "    <tr>\n",
       "      <th>25%</th>\n",
       "      <td>8.065954e+06</td>\n",
       "      <td>2.018111e+13</td>\n",
       "      <td>NaN</td>\n",
       "      <td>NaN</td>\n",
       "      <td>NaN</td>\n",
       "      <td>9.240002e+06</td>\n",
       "      <td>NaN</td>\n",
       "      <td>1.000000</td>\n",
       "      <td>1.000000</td>\n",
       "      <td>52.489065</td>\n",
       "      <td>...</td>\n",
       "      <td>92.000000</td>\n",
       "      <td>10.000000</td>\n",
       "      <td>9.000000</td>\n",
       "      <td>10.000000</td>\n",
       "      <td>10.000000</td>\n",
       "      <td>9.000000</td>\n",
       "      <td>9.000000</td>\n",
       "      <td>NaN</td>\n",
       "      <td>1.000000</td>\n",
       "      <td>0.180000</td>\n",
       "    </tr>\n",
       "    <tr>\n",
       "      <th>50%</th>\n",
       "      <td>1.686638e+07</td>\n",
       "      <td>2.018111e+13</td>\n",
       "      <td>NaN</td>\n",
       "      <td>NaN</td>\n",
       "      <td>NaN</td>\n",
       "      <td>3.126711e+07</td>\n",
       "      <td>NaN</td>\n",
       "      <td>1.000000</td>\n",
       "      <td>1.000000</td>\n",
       "      <td>52.509079</td>\n",
       "      <td>...</td>\n",
       "      <td>97.000000</td>\n",
       "      <td>10.000000</td>\n",
       "      <td>10.000000</td>\n",
       "      <td>10.000000</td>\n",
       "      <td>10.000000</td>\n",
       "      <td>10.000000</td>\n",
       "      <td>10.000000</td>\n",
       "      <td>NaN</td>\n",
       "      <td>1.000000</td>\n",
       "      <td>0.540000</td>\n",
       "    </tr>\n",
       "    <tr>\n",
       "      <th>75%</th>\n",
       "      <td>2.258393e+07</td>\n",
       "      <td>2.018111e+13</td>\n",
       "      <td>NaN</td>\n",
       "      <td>NaN</td>\n",
       "      <td>NaN</td>\n",
       "      <td>8.067518e+07</td>\n",
       "      <td>NaN</td>\n",
       "      <td>2.000000</td>\n",
       "      <td>2.000000</td>\n",
       "      <td>52.532669</td>\n",
       "      <td>...</td>\n",
       "      <td>100.000000</td>\n",
       "      <td>10.000000</td>\n",
       "      <td>10.000000</td>\n",
       "      <td>10.000000</td>\n",
       "      <td>10.000000</td>\n",
       "      <td>10.000000</td>\n",
       "      <td>10.000000</td>\n",
       "      <td>NaN</td>\n",
       "      <td>1.000000</td>\n",
       "      <td>1.500000</td>\n",
       "    </tr>\n",
       "    <tr>\n",
       "      <th>max</th>\n",
       "      <td>2.986735e+07</td>\n",
       "      <td>2.018111e+13</td>\n",
       "      <td>NaN</td>\n",
       "      <td>NaN</td>\n",
       "      <td>NaN</td>\n",
       "      <td>2.245081e+08</td>\n",
       "      <td>NaN</td>\n",
       "      <td>1676.000000</td>\n",
       "      <td>1676.000000</td>\n",
       "      <td>52.651670</td>\n",
       "      <td>...</td>\n",
       "      <td>100.000000</td>\n",
       "      <td>10.000000</td>\n",
       "      <td>10.000000</td>\n",
       "      <td>10.000000</td>\n",
       "      <td>10.000000</td>\n",
       "      <td>10.000000</td>\n",
       "      <td>10.000000</td>\n",
       "      <td>NaN</td>\n",
       "      <td>45.000000</td>\n",
       "      <td>36.670000</td>\n",
       "    </tr>\n",
       "  </tbody>\n",
       "</table>\n",
       "<p>8 rows × 34 columns</p>\n",
       "</div>"
      ],
      "text/plain": [
       "                 id     scrape_id  thumbnail_url  medium_url  xl_picture_url  \\\n",
       "count  2.255200e+04  2.255200e+04            0.0         0.0             0.0   \n",
       "mean   1.571560e+07  2.018111e+13            NaN         NaN             NaN   \n",
       "std    8.552069e+06  4.812607e+00            NaN         NaN             NaN   \n",
       "min    2.015000e+03  2.018111e+13            NaN         NaN             NaN   \n",
       "25%    8.065954e+06  2.018111e+13            NaN         NaN             NaN   \n",
       "50%    1.686638e+07  2.018111e+13            NaN         NaN             NaN   \n",
       "75%    2.258393e+07  2.018111e+13            NaN         NaN             NaN   \n",
       "max    2.986735e+07  2.018111e+13            NaN         NaN             NaN   \n",
       "\n",
       "            host_id  host_acceptance_rate  host_listings_count  \\\n",
       "count  2.255200e+04                   0.0         22526.000000   \n",
       "mean   5.403355e+07                   NaN             2.330685   \n",
       "std    5.816290e+07                   NaN            19.947823   \n",
       "min    2.217000e+03                   NaN             0.000000   \n",
       "25%    9.240002e+06                   NaN             1.000000   \n",
       "50%    3.126711e+07                   NaN             1.000000   \n",
       "75%    8.067518e+07                   NaN             2.000000   \n",
       "max    2.245081e+08                   NaN          1676.000000   \n",
       "\n",
       "       host_total_listings_count      latitude  ...  review_scores_rating  \\\n",
       "count               22526.000000  22552.000000  ...          18163.000000   \n",
       "mean                    2.330685     52.509824  ...             94.413863   \n",
       "std                    19.947823      0.030825  ...              7.639644   \n",
       "min                     0.000000     52.345803  ...             20.000000   \n",
       "25%                     1.000000     52.489065  ...             92.000000   \n",
       "50%                     1.000000     52.509079  ...             97.000000   \n",
       "75%                     2.000000     52.532669  ...            100.000000   \n",
       "max                  1676.000000     52.651670  ...            100.000000   \n",
       "\n",
       "       review_scores_accuracy  review_scores_cleanliness  \\\n",
       "count            18138.000000               18141.000000   \n",
       "mean                 9.663965                   9.324955   \n",
       "std                  0.740039                   1.031996   \n",
       "min                  2.000000                   2.000000   \n",
       "25%                 10.000000                   9.000000   \n",
       "50%                 10.000000                  10.000000   \n",
       "75%                 10.000000                  10.000000   \n",
       "max                 10.000000                  10.000000   \n",
       "\n",
       "       review_scores_checkin  review_scores_communication  \\\n",
       "count           18120.000000                 18134.000000   \n",
       "mean                9.713521                     9.730672   \n",
       "std                 0.704620                     0.686614   \n",
       "min                 2.000000                     2.000000   \n",
       "25%                10.000000                    10.000000   \n",
       "50%                10.000000                    10.000000   \n",
       "75%                10.000000                    10.000000   \n",
       "max                10.000000                    10.000000   \n",
       "\n",
       "       review_scores_location  review_scores_value  jurisdiction_names  \\\n",
       "count            18121.000000         18117.000000                 0.0   \n",
       "mean                 9.505491             9.411106                 NaN   \n",
       "std                  0.762161             0.841492                 NaN   \n",
       "min                  2.000000             2.000000                 NaN   \n",
       "25%                  9.000000             9.000000                 NaN   \n",
       "50%                 10.000000            10.000000                 NaN   \n",
       "75%                 10.000000            10.000000                 NaN   \n",
       "max                 10.000000            10.000000                 NaN   \n",
       "\n",
       "       calculated_host_listings_count  reviews_per_month  \n",
       "count                    22552.000000       18638.000000  \n",
       "mean                         1.918233           1.135525  \n",
       "std                          3.667257           1.507082  \n",
       "min                          1.000000           0.010000  \n",
       "25%                          1.000000           0.180000  \n",
       "50%                          1.000000           0.540000  \n",
       "75%                          1.000000           1.500000  \n",
       "max                         45.000000          36.670000  \n",
       "\n",
       "[8 rows x 34 columns]"
      ]
     },
     "execution_count": 3,
     "metadata": {},
     "output_type": "execute_result"
    }
   ],
   "source": [
    "Listings_Summary_df.describe()"
   ]
  },
  {
   "cell_type": "code",
   "execution_count": 4,
   "metadata": {},
   "outputs": [
    {
     "data": {
      "text/plain": [
       "Index(['id', 'name', 'host_id', 'host_name', 'neighbourhood_group',\n",
       "       'neighbourhood', 'latitude', 'longitude', 'room_type', 'price',\n",
       "       'minimum_nights', 'number_of_reviews', 'last_review',\n",
       "       'reviews_per_month', 'calculated_host_listings_count',\n",
       "       'availability_365'],\n",
       "      dtype='object')"
      ]
     },
     "execution_count": 4,
     "metadata": {},
     "output_type": "execute_result"
    }
   ],
   "source": [
    "Listings_df.columns"
   ]
  },
  {
   "cell_type": "code",
   "execution_count": 5,
   "metadata": {},
   "outputs": [
    {
     "data": {
      "text/plain": [
       "Index(['id', 'listing_url', 'scrape_id', 'last_scraped', 'name', 'summary',\n",
       "       'space', 'description', 'experiences_offered', 'neighborhood_overview',\n",
       "       'notes', 'transit', 'access', 'interaction', 'house_rules',\n",
       "       'thumbnail_url', 'medium_url', 'picture_url', 'xl_picture_url',\n",
       "       'host_id', 'host_url', 'host_name', 'host_since', 'host_location',\n",
       "       'host_about', 'host_response_time', 'host_response_rate',\n",
       "       'host_acceptance_rate', 'host_is_superhost', 'host_thumbnail_url',\n",
       "       'host_picture_url', 'host_neighbourhood', 'host_listings_count',\n",
       "       'host_total_listings_count', 'host_verifications',\n",
       "       'host_has_profile_pic', 'host_identity_verified', 'street',\n",
       "       'neighbourhood', 'neighbourhood_cleansed',\n",
       "       'neighbourhood_group_cleansed', 'city', 'state', 'zipcode', 'market',\n",
       "       'smart_location', 'country_code', 'country', 'latitude', 'longitude',\n",
       "       'is_location_exact', 'property_type', 'room_type', 'accommodates',\n",
       "       'bathrooms', 'bedrooms', 'beds', 'bed_type', 'amenities', 'square_feet',\n",
       "       'price', 'weekly_price', 'monthly_price', 'security_deposit',\n",
       "       'cleaning_fee', 'guests_included', 'extra_people', 'minimum_nights',\n",
       "       'maximum_nights', 'calendar_updated', 'has_availability',\n",
       "       'availability_30', 'availability_60', 'availability_90',\n",
       "       'availability_365', 'calendar_last_scraped', 'number_of_reviews',\n",
       "       'first_review', 'last_review', 'review_scores_rating',\n",
       "       'review_scores_accuracy', 'review_scores_cleanliness',\n",
       "       'review_scores_checkin', 'review_scores_communication',\n",
       "       'review_scores_location', 'review_scores_value', 'requires_license',\n",
       "       'license', 'jurisdiction_names', 'instant_bookable',\n",
       "       'is_business_travel_ready', 'cancellation_policy',\n",
       "       'require_guest_profile_picture', 'require_guest_phone_verification',\n",
       "       'calculated_host_listings_count', 'reviews_per_month'],\n",
       "      dtype='object')"
      ]
     },
     "execution_count": 5,
     "metadata": {},
     "output_type": "execute_result"
    }
   ],
   "source": [
    "Listings_Summary_df.columns"
   ]
  },
  {
   "cell_type": "code",
   "execution_count": 6,
   "metadata": {},
   "outputs": [
    {
     "data": {
      "text/plain": [
       "Index(['neighbourhood_group', 'neighbourhood'], dtype='object')"
      ]
     },
     "execution_count": 6,
     "metadata": {},
     "output_type": "execute_result"
    }
   ],
   "source": [
    "Neighbourhoods_df.columns"
   ]
  },
  {
   "cell_type": "markdown",
   "metadata": {},
   "source": [
    "### <ins> Keeping the Necessary Columns </ins>"
   ]
  },
  {
   "cell_type": "code",
   "execution_count": 7,
   "metadata": {},
   "outputs": [],
   "source": [
    "#Columns which are necessary alone we can store it in the below df. ()\n",
    "\n",
    "#Calendar_Summary_df = \n",
    "#Listings_df = \n",
    "#Listings_Summary_df = \n",
    "#Neighbourhoods_df = \n",
    "#Reviews_df = \n",
    "#Reviews_Summary = "
   ]
  },
  {
   "cell_type": "markdown",
   "metadata": {},
   "source": [
    "### <ins> Data Cleaning </ins>"
   ]
  },
  {
   "cell_type": "code",
   "execution_count": 4,
   "metadata": {},
   "outputs": [
    {
     "data": {
      "text/html": [
       "<div>\n",
       "<style scoped>\n",
       "    .dataframe tbody tr th:only-of-type {\n",
       "        vertical-align: middle;\n",
       "    }\n",
       "\n",
       "    .dataframe tbody tr th {\n",
       "        vertical-align: top;\n",
       "    }\n",
       "\n",
       "    .dataframe thead th {\n",
       "        text-align: right;\n",
       "    }\n",
       "</style>\n",
       "<table border=\"1\" class=\"dataframe\">\n",
       "  <thead>\n",
       "    <tr style=\"text-align: right;\">\n",
       "      <th></th>\n",
       "      <th>Amenities</th>\n",
       "    </tr>\n",
       "  </thead>\n",
       "  <tbody>\n",
       "    <tr>\n",
       "      <th>0</th>\n",
       "      <td>TV</td>\n",
       "    </tr>\n",
       "    <tr>\n",
       "      <th>1</th>\n",
       "      <td>Cable TV</td>\n",
       "    </tr>\n",
       "    <tr>\n",
       "      <th>2</th>\n",
       "      <td>Wifi</td>\n",
       "    </tr>\n",
       "    <tr>\n",
       "      <th>3</th>\n",
       "      <td>Kitchen</td>\n",
       "    </tr>\n",
       "    <tr>\n",
       "      <th>4</th>\n",
       "      <td>Gym</td>\n",
       "    </tr>\n",
       "  </tbody>\n",
       "</table>\n",
       "</div>"
      ],
      "text/plain": [
       "  Amenities\n",
       "0        TV\n",
       "1  Cable TV\n",
       "2      Wifi\n",
       "3   Kitchen\n",
       "4       Gym"
      ]
     },
     "execution_count": 4,
     "metadata": {},
     "output_type": "execute_result"
    }
   ],
   "source": [
    "#Data Cleaning the Amenities Column\n",
    "\n",
    "Amenities = Listings_Summary_df.amenities\n",
    "\n",
    "Amenities_List = []\n",
    "\n",
    "for x in Amenities:\n",
    "\n",
    "        x=x.replace('\"','')\n",
    "        x=x.replace('{','')\n",
    "        x=x.replace('}','')\n",
    "        Amenities_List += x.split(',')\n",
    "        \n",
    "Amenities_New = pd.DataFrame(Amenities_List)\n",
    "\n",
    "Amenities_New = Amenities_New.rename(columns = {0:\"Amenities\"})\n",
    "\n",
    "Amenities_New.head()\n"
   ]
  },
  {
   "cell_type": "code",
   "execution_count": 5,
   "metadata": {},
   "outputs": [],
   "source": [
    "#Calculating Ratings\n",
    "\n",
    "Listings_Summary_df[\"Rating\"] = round((Listings_Summary_df['review_scores_accuracy'] + Listings_Summary_df['review_scores_cleanliness'] + \n",
    "                                 Listings_Summary_df['review_scores_checkin'] + Listings_Summary_df['review_scores_communication'] +\n",
    "                                Listings_Summary_df['review_scores_location'] + Listings_Summary_df['review_scores_value']) /6)\n",
    "                    \n",
    "\n"
   ]
  },
  {
   "cell_type": "markdown",
   "metadata": {},
   "source": [
    "## <ins> Visualizations </ins>"
   ]
  },
  {
   "cell_type": "code",
   "execution_count": 6,
   "metadata": {},
   "outputs": [
    {
     "data": {
      "image/png": "[encoded data removed]",
      "text/plain": [
       "<Figure size 432x288 with 1 Axes>"
      ]
     },
     "metadata": {
      "needs_background": "light"
     },
     "output_type": "display_data"
    }
   ],
   "source": [
    "Amenities_Group = Amenities_New.groupby('Amenities')\n",
    "\n",
    "Amenities_Count = Amenities_Group[\"Amenities\"].count()\n",
    "\n",
    "Amenities_Count = Amenities_Count.sort_values(ascending=False)\n",
    "\n",
    "Amenities_Count = Amenities_Count.drop(['translation missing: en.hosting_amenity_50', 'translation missing: en.hosting_amenity_49'],axis=0)\n",
    "\n",
    "Amenities_Count\n",
    "\n",
    "plt.plot(Amenities_Count[0:20], linewidth=2.0, marker='D', linestyle=':')\n",
    "plt.xticks(rotation=90)\n",
    "plt.xlabel(\"Amenities\", fontweight='bold' )\n",
    "plt.ylabel(\"Overall Count Of Amenities\" , fontweight='bold')\n",
    "plt.title(\"Top 20 Amenities \",fontsize=14, fontweight='bold')\n",
    "\n",
    "plt.grid()\n",
    "plt.savefig(\"Visualizations/Top20_Amenities.png\")\n",
    "plt.show()\n"
   ]
  },
  {
   "cell_type": "markdown",
   "metadata": {},
   "source": [
    "### <ins> Observation </ins>"
   ]
  },
  {
   "cell_type": "markdown",
   "metadata": {},
   "source": [
    "From the above visualization, we can infer that Wifi, Kitchen, Heating, Essentials and Washer are the most important amenities to be considered for the successful of listing.For those who are already in the business and don't have those amenities, make sure the factibility of installing all or some of the amenities to grow your business."
   ]
  },
  {
   "cell_type": "code",
   "execution_count": 14,
   "metadata": {},
   "outputs": [
    {
     "ename": "ModuleNotFoundError",
     "evalue": "No module named 'config'",
     "output_type": "error",
     "traceback": [
      "\u001b[1;31m---------------------------------------------------------------------------\u001b[0m",
      "\u001b[1;31mModuleNotFoundError\u001b[0m                       Traceback (most recent call last)",
      "\u001b[1;32m<ipython-input-14-740b98e789a7>\u001b[0m in \u001b[0;36m<module>\u001b[1;34m\u001b[0m\n\u001b[1;32m----> 1\u001b[1;33m \u001b[1;32mfrom\u001b[0m \u001b[0mconfig\u001b[0m \u001b[1;32mimport\u001b[0m \u001b[0mgkey\u001b[0m\u001b[1;33m\u001b[0m\u001b[1;33m\u001b[0m\u001b[0m\n\u001b[0m\u001b[0;32m      2\u001b[0m \u001b[1;33m\u001b[0m\u001b[0m\n\u001b[0;32m      3\u001b[0m \u001b[0mgmaps\u001b[0m\u001b[1;33m.\u001b[0m\u001b[0mconfigure\u001b[0m\u001b[1;33m(\u001b[0m\u001b[0mapi_key\u001b[0m\u001b[1;33m=\u001b[0m\u001b[0mgkey\u001b[0m\u001b[1;33m)\u001b[0m\u001b[1;33m\u001b[0m\u001b[1;33m\u001b[0m\u001b[0m\n\u001b[0;32m      4\u001b[0m \u001b[1;33m\u001b[0m\u001b[0m\n\u001b[0;32m      5\u001b[0m \u001b[0mlocations\u001b[0m \u001b[1;33m=\u001b[0m \u001b[0mListings_Summary_df\u001b[0m\u001b[1;33m[\u001b[0m\u001b[1;33m[\u001b[0m\u001b[1;34m\"latitude\"\u001b[0m\u001b[1;33m,\u001b[0m\u001b[1;34m\"longitude\"\u001b[0m\u001b[1;33m]\u001b[0m\u001b[1;33m]\u001b[0m\u001b[1;33m\u001b[0m\u001b[1;33m\u001b[0m\u001b[0m\n",
      "\u001b[1;31mModuleNotFoundError\u001b[0m: No module named 'config'"
     ]
    }
   ],
   "source": [
    "from config import gkey\n",
    "\n",
    "gmaps.configure(api_key=gkey)  \n",
    "\n",
    "locations = Listings_Summary_df[[\"latitude\",\"longitude\"]]\n",
    "Ratings = Listings_Summary_df[\"Rating\"].astype(float)\n",
    "\n",
    "\n",
    "fig = gmaps.figure()\n",
    "heat_layer = gmaps.heatmap_layer(locations, weights=Ratings, \n",
    "                                 dissipating=False, max_intensity=10,\n",
    "                                 point_radius=1)\n",
    "\n",
    "fig.add_layer(heat_layer)\n",
    "fig\n"
   ]
  },
  {
   "cell_type": "code",
   "execution_count": 3,
   "metadata": {},
   "outputs": [
    {
     "data": {
      "image/png": "[encoded data removed]",
      "text/plain": [
       "<Figure size 432x288 with 1 Axes>"
      ]
     },
     "metadata": {},
     "output_type": "display_data"
    }
   ],
   "source": [
    "\n",
    "#average price of room types \n",
    "grouped_property_types = Listings_df.groupby(['room_type'])\n",
    "#grouped_property_type_mean = grouped_property_types.mean()\n",
    "grouped_property_type_mean = grouped_property_types.count()\n",
    "grouped_property_type_mean\n",
    "#new_index_grouped_room_mean = grouped_room_type_mean.reset_index(drop=True)\n",
    "#new_index_grouped_room_mean\n",
    "#explode = (0.1, 0, 0, 0)\n",
    "colors = [\"red\", \"orange\", \"green\"]\n",
    " \n",
    "\n",
    "grouped_property_df = pd.DataFrame(grouped_property_type_mean)\n",
    "type = [\"Entire home/Apt\",\"Private room\",\"Shared room\"]\n",
    "Price = round(grouped_property_df['id'],2)\n",
    "#Price\n",
    "\n",
    "plt.pie(Price,  labels=type, colors=colors,autopct=\"%1.1f%%\", shadow=True, startangle=140)\n",
    "\n",
    "#plt.xlabel(\"CATEGORY OF ROOM TYPES\", fontweight='bold' )\n",
    "#plt.ylabel(\"COUNT OF HOSTED LISTINGS\" , fontweight='bold')\n",
    "plt.title(\"ROOM TYPES IN 'BERLIN'\",fontsize=14, fontweight='bold')\n",
    "plt.grid()\n",
    "\n",
    "#need to add code for adding labels"
   ]
  },
  {
   "cell_type": "code",
   "execution_count": 4,
   "metadata": {},
   "outputs": [
    {
     "data": {
      "text/plain": [
       "Text(0.5, 1.0, 'Average Price Per Room Type')"
      ]
     },
     "execution_count": 4,
     "metadata": {},
     "output_type": "execute_result"
    },
    {
     "data": {
      "image/png": "[encoded data removed]",
      "text/plain": [
       "<Figure size 432x288 with 1 Axes>"
      ]
     },
     "metadata": {
      "needs_background": "light"
     },
     "output_type": "display_data"
    }
   ],
   "source": [
    "#To retrive the average price of a room type\n",
    "grouped_type_mean = round(grouped_property_types.mean(),2)\n",
    "grouped_type_mean_indexed = grouped_type_mean.reset_index()\n",
    "grouped_type_mean_df = pd.DataFrame({'Room Type':grouped_type_mean_indexed['room_type'],'Average Price Per Night':grouped_type_mean_indexed['price']})\n",
    "grouped_type_mean_df.plot(y='Average Price Per Night', x = 'Room Type',kind = 'bar', alpha=0.5, align=\"center\",color ='orange')\n",
    "plt.ylabel('Average Price Per Night')\n",
    "plt.xlabel('Room Types')\n",
    "plt.title('Average Price Per Room Type')"
   ]
  },
  {
   "cell_type": "code",
   "execution_count": 5,
   "metadata": {},
   "outputs": [
    {
     "name": "stdout",
     "output_type": "stream",
     "text": [
      "616329216\n"
     ]
    }
   ],
   "source": [
    "#to retrive the month value\n",
    "#Calendar_Summary_Price = (Calendar_Summary_df['price'])\n",
    "#calendar_new_price = []\n",
    "#for x in new_calendar_file['price']:\n",
    " #   x = x.replace('$','')\n",
    "  #  calendar_new_price.append(x)\n",
    "    \n",
    "#type(calendar_new_price)\n",
    "#new_calendar_file['available']== 't'  \n",
    "import psutil\n",
    "svmem = psutil.virtual_memory()\n",
    "print (svmem.available)"
   ]
  },
  {
   "cell_type": "code",
   "execution_count": 6,
   "metadata": {},
   "outputs": [
    {
     "name": "stdout",
     "output_type": "stream",
     "text": [
      "640\n",
      "   listing_id        date available   price adjusted_price  minimum_nights  \\\n",
      "0        3176  2019-06-08         f  $90.00         $90.00              62   \n",
      "1        1944  2019-06-09         t  $20.00         $20.00             120   \n",
      "2        1944  2019-06-10         t  $20.00         $20.00             120   \n",
      "3        1944  2019-06-11         t  $20.00         $20.00             120   \n",
      "4        1944  2019-06-12         t  $20.00         $20.00             120   \n",
      "5        1944  2019-06-13         t  $20.00         $20.00             120   \n",
      "6        1944  2019-06-14         t  $20.00         $20.00             120   \n",
      "7        1944  2019-06-15         t  $20.00         $20.00             120   \n",
      "8        1944  2019-06-16         t  $20.00         $20.00             120   \n",
      "9        1944  2019-06-17         t  $20.00         $20.00             120   \n",
      "\n",
      "   maximum_nights  \n",
      "0            1125  \n",
      "1             120  \n",
      "2             120  \n",
      "3             120  \n",
      "4             120  \n",
      "5             120  \n",
      "6             120  \n",
      "7             120  \n",
      "8             120  \n",
      "9             120  \n",
      "156250\n",
      "         listing_id        date available    price adjusted_price  \\\n",
      "0              3176  2019-06-08         f   $90.00         $90.00   \n",
      "1              1944  2019-06-09         t   $20.00         $20.00   \n",
      "2              1944  2019-06-10         t   $20.00         $20.00   \n",
      "3              1944  2019-06-11         t   $20.00         $20.00   \n",
      "4              1944  2019-06-12         t   $20.00         $20.00   \n",
      "5              1944  2019-06-13         t   $20.00         $20.00   \n",
      "6              1944  2019-06-14         t   $20.00         $20.00   \n",
      "7              1944  2019-06-15         t   $20.00         $20.00   \n",
      "8              1944  2019-06-16         t   $20.00         $20.00   \n",
      "9              1944  2019-06-17         t   $20.00         $20.00   \n",
      "10             1944  2019-06-18         t   $20.00         $20.00   \n",
      "11             1944  2019-06-19         t   $20.00         $20.00   \n",
      "12             1944  2019-06-20         t   $20.00         $20.00   \n",
      "13             1944  2019-06-21         t   $20.00         $20.00   \n",
      "14             1944  2019-06-22         t   $20.00         $20.00   \n",
      "15             1944  2019-06-23         t   $20.00         $20.00   \n",
      "16             1944  2019-06-24         t   $20.00         $20.00   \n",
      "17             1944  2019-06-25         t   $20.00         $20.00   \n",
      "18             1944  2019-06-26         t   $20.00         $20.00   \n",
      "19             1944  2019-06-27         t   $20.00         $20.00   \n",
      "20             1944  2019-06-28         t   $20.00         $20.00   \n",
      "21             1944  2019-06-29         t   $20.00         $20.00   \n",
      "22             1944  2019-06-30         t   $20.00         $20.00   \n",
      "23             1944  2019-07-01         t   $20.00         $20.00   \n",
      "24             1944  2019-07-02         t   $20.00         $20.00   \n",
      "25             1944  2019-07-03         t   $20.00         $20.00   \n",
      "26             1944  2019-07-04         t   $20.00         $20.00   \n",
      "27             1944  2019-07-05         t   $20.00         $20.00   \n",
      "28             1944  2019-07-06         t   $20.00         $20.00   \n",
      "29             1944  2019-07-07         t   $20.00         $20.00   \n",
      "...             ...         ...       ...      ...            ...   \n",
      "8690331    35036324  2020-05-09         t  $700.00        $700.00   \n",
      "8690332    35036324  2020-05-10         t  $700.00        $700.00   \n",
      "8690333    35036324  2020-05-11         t  $700.00        $700.00   \n",
      "8690334    35036324  2020-05-12         t  $700.00        $700.00   \n",
      "8690335    35036324  2020-05-13         t  $700.00        $700.00   \n",
      "8690336    35036324  2020-05-14         t  $700.00        $700.00   \n",
      "8690337    35036324  2020-05-15         t  $700.00        $700.00   \n",
      "8690338    35036324  2020-05-16         t  $700.00        $700.00   \n",
      "8690339    35036324  2020-05-17         t  $700.00        $700.00   \n",
      "8690340    35036324  2020-05-18         t  $700.00        $700.00   \n",
      "8690341    35036324  2020-05-19         t  $700.00        $700.00   \n",
      "8690342    35036324  2020-05-20         t  $700.00        $700.00   \n",
      "8690343    35036324  2020-05-21         t  $700.00        $700.00   \n",
      "8690344    35036324  2020-05-22         t  $700.00        $700.00   \n",
      "8690345    35036324  2020-05-23         t  $700.00        $700.00   \n",
      "8690346    35036324  2020-05-24         t  $700.00        $700.00   \n",
      "8690347    35036324  2020-05-25         t  $700.00        $700.00   \n",
      "8690348    35036324  2020-05-26         t  $700.00        $700.00   \n",
      "8690349    35036324  2020-05-27         t  $700.00        $700.00   \n",
      "8690350    35036324  2020-05-28         t  $700.00        $700.00   \n",
      "8690351    35036324  2020-05-29         t  $700.00        $700.00   \n",
      "8690352    35036324  2020-05-30         t  $700.00        $700.00   \n",
      "8690353    35036324  2020-05-31         t  $700.00        $700.00   \n",
      "8690354    35036324  2020-06-01         t  $700.00        $700.00   \n",
      "8690355    35036324  2020-06-02         t  $700.00        $700.00   \n",
      "8690356    35036324  2020-06-03         t  $700.00        $700.00   \n",
      "8690357    35036324  2020-06-04         t  $700.00        $700.00   \n",
      "8690358    35036324  2020-06-05         t  $700.00        $700.00   \n",
      "8690359    35036324  2020-06-06         t  $700.00        $700.00   \n",
      "8690360    35036324  2020-06-07         t  $700.00        $700.00   \n",
      "\n",
      "         minimum_nights  maximum_nights  \n",
      "0                  62.0          1125.0  \n",
      "1                 120.0           120.0  \n",
      "2                 120.0           120.0  \n",
      "3                 120.0           120.0  \n",
      "4                 120.0           120.0  \n",
      "5                 120.0           120.0  \n",
      "6                 120.0           120.0  \n",
      "7                 120.0           120.0  \n",
      "8                 120.0           120.0  \n",
      "9                 120.0           120.0  \n",
      "10                120.0           120.0  \n",
      "11                120.0           120.0  \n",
      "12                120.0           120.0  \n",
      "13                120.0           120.0  \n",
      "14                120.0           120.0  \n",
      "15                120.0           120.0  \n",
      "16                120.0           120.0  \n",
      "17                120.0           120.0  \n",
      "18                120.0           120.0  \n",
      "19                120.0           120.0  \n",
      "20                120.0           120.0  \n",
      "21                120.0           120.0  \n",
      "22                120.0           120.0  \n",
      "23                120.0           120.0  \n",
      "24                120.0           120.0  \n",
      "25                120.0           120.0  \n",
      "26                120.0           120.0  \n",
      "27                120.0           120.0  \n",
      "28                120.0           120.0  \n",
      "29                120.0           120.0  \n",
      "...                 ...             ...  \n",
      "8690331             4.0            10.0  \n",
      "8690332             4.0            10.0  \n",
      "8690333             4.0            10.0  \n",
      "8690334             4.0            10.0  \n",
      "8690335             4.0            10.0  \n",
      "8690336             4.0            10.0  \n",
      "8690337             2.0            10.0  \n",
      "8690338             4.0            10.0  \n",
      "8690339             4.0            10.0  \n",
      "8690340             4.0            10.0  \n",
      "8690341             4.0            10.0  \n",
      "8690342             4.0            10.0  \n",
      "8690343             4.0            10.0  \n",
      "8690344             2.0            10.0  \n",
      "8690345             4.0            10.0  \n",
      "8690346             4.0            10.0  \n",
      "8690347             4.0            10.0  \n",
      "8690348             4.0            10.0  \n",
      "8690349             4.0            10.0  \n",
      "8690350             4.0            10.0  \n",
      "8690351             2.0            10.0  \n",
      "8690352             4.0            10.0  \n",
      "8690353             4.0            10.0  \n",
      "8690354             4.0            10.0  \n",
      "8690355             4.0            10.0  \n",
      "8690356             4.0            10.0  \n",
      "8690357             4.0            10.0  \n",
      "8690358             2.0            10.0  \n",
      "8690359             4.0            10.0  \n",
      "8690360             4.0            10.0  \n",
      "\n",
      "[8690361 rows x 7 columns]\n"
     ]
    }
   ],
   "source": [
    "#using this to set exception for memory error\n",
    "path =r\"C:\\Users\\prabh\\Desktop\\Dataset\\calendar.csv\"\n",
    "df_sample = pd.read_csv(path, nrows=10)\n",
    "df_sample_size = df_sample.memory_usage(index=True).sum()\n",
    "print (df_sample_size)\n",
    "print (df_sample)\n",
    "my_chunk = (1000000000 / df_sample_size)/10\n",
    "my_chunk = int(my_chunk//1) # we get the integer part\n",
    "print (my_chunk)\n",
    "iter_csv = pd.read_csv(\n",
    "   path,\n",
    "   iterator=True,\n",
    "   chunksize=my_chunk)\n",
    "df_result = pd.concat(\n",
    "   [chunk[chunk['listing_id']>0]\n",
    "   for chunk in iter_csv])\n",
    "print (df_result)"
   ]
  },
  {
   "cell_type": "code",
   "execution_count": 8,
   "metadata": {},
   "outputs": [
    {
     "data": {
      "text/plain": [
       "Text(0, 0.5, 'Price')"
      ]
     },
     "execution_count": 8,
     "metadata": {},
     "output_type": "execute_result"
    },
    {
     "data": {
      "image/png": "[encoded data removed]",
      "text/plain": [
       "<Figure size 1080x360 with 1 Axes>"
      ]
     },
     "metadata": {
      "needs_background": "light"
     },
     "output_type": "display_data"
    }
   ],
   "source": [
    "#Price Prediction \n",
    "\n",
    "new_cal_insideairbnb = calendar_insideairbnb_df.dropna(how = \"any\")\n",
    "new_cal_insideairbnb_file = new_cal_insideairbnb.price.str[1:-3]\n",
    "new_insideairbnb = new_cal_insideairbnb_file.str.replace(\",\",\"\")\n",
    "                                            \n",
    "calendar_new_insideairbnb = new_insideairbnb.astype('int64')\n",
    "insideairbnb_df = new_calendar_df = pd.DataFrame({'listing id':new_cal_insideairbnb['listing_id'],'date' : new_cal_insideairbnb['date'] , 'available':new_cal_insideairbnb['available']== 't' ,'price': calendar_new_insideairbnb})\n",
    "new_inside = pd.to_datetime(new_cal_insideairbnb['date']).dt.to_period('M')\n",
    "new_insideairbnb_df = pd.DataFrame({'date':new_inside,'price':new_calendar_df['price']})\n",
    "new_airbnb = new_insideairbnb_df.groupby(['date'])\n",
    "\n",
    "new_inside_sum = new_airbnb.sum()\n",
    "new_inside_sum.plot(y='price',kind = 'line', figsize = (15,5),color=\"blue\")\n",
    "plt.grid()\n",
    "plt.title('Listings Price Change every month')\n",
    "plt.xlabel('Month and year')\n",
    "plt.ylabel('Price')"
   ]
  },
  {
   "cell_type": "code",
   "execution_count": 100,
   "metadata": {},
   "outputs": [
    {
     "data": {
      "image/png": "[encoded data removed]",
      "text/plain": [
       "<Figure size 432x288 with 1 Axes>"
      ]
     },
     "metadata": {
      "needs_background": "light"
     },
     "output_type": "display_data"
    }
   ],
   "source": [
    "\n",
    "#Availability Frequency\n",
    "                                                \n",
    "#listings_insideairbnb_df = pd.read_csv(\"../Dataset/listings_insideairbnb.csv\")\n",
    "#listings_insideairbnb_final = pd.DataFrame({'listing_id':listings_insideairbnb_df['host_id'],\n",
    " #                                         'Available number of days' :listings_insideairbnb_df['availability_30']  })\n",
    "\n",
    "# plt.bar(listings_insideairbnb_final['listing_id'],listings_insideairbnb_final['Available number of days'])\n",
    "# plt.xticks(rotation = 'vertical')\n",
    "# plt.show()\n",
    "#listings_insideairbnb_df['availability_30']\n",
    "\n",
    "#new_cal_insideairbnb['available']\n",
    "#new_cal_insideairbnb['date']\n",
    "#new_cal_insideairbnb['listing_id']\n"
   ]
  },
  {
   "cell_type": "code",
   "execution_count": 146,
   "metadata": {},
   "outputs": [],
   "source": [
    "listly_10 =listings_insideairbnb_df.loc[listings_insideairbnb_df['availability_30'] < 10,:]\n",
    "availability_10 = listly_10['id'].count()\n",
    "#listg = listly.count()\n",
    "#listg.head()"
   ]
  },
  {
   "cell_type": "code",
   "execution_count": 147,
   "metadata": {},
   "outputs": [],
   "source": [
    "listly_20 =listings_insideairbnb_df.loc[(listings_insideairbnb_df['availability_30'] > 10) & (listings_insideairbnb_df['availability_30'] < 20),:]\n",
    "availability_20 = listly_20['id'].count()"
   ]
  },
  {
   "cell_type": "code",
   "execution_count": 140,
   "metadata": {},
   "outputs": [
    {
     "data": {
      "text/plain": [
       "1281"
      ]
     },
     "execution_count": 140,
     "metadata": {},
     "output_type": "execute_result"
    }
   ],
   "source": [
    "listly_30 =listings_insideairbnb_df.loc[(listings_insideairbnb_df['availability_30'] > 20) & (listings_insideairbnb_df['availability_30'] <= 30),:]\n",
    "availability_30 = listly_30['id'].count()"
   ]
  },
  {
   "cell_type": "code",
   "execution_count": 153,
   "metadata": {},
   "outputs": [],
   "source": [
    "labels = ['0-10','10-20','20-30']\n",
    "#availability_count = (pd.DataFrame({'availability_10':availability_10,'availability_20':availability_20,'availability_30':availability_30},index = [0]))\n",
    "availability_count = ([20385,1732,1281])\n",
    "#availability_count_new = (availability_count)"
   ]
  },
  {
   "cell_type": "code",
   "execution_count": 155,
   "metadata": {},
   "outputs": [
    {
     "data": {
      "text/plain": [
       "Text(0.5, 1.0, 'Number of listings avaialable based on selected days')"
      ]
     },
     "execution_count": 155,
     "metadata": {},
     "output_type": "execute_result"
    },
    {
     "data": {
      "image/png": "[encoded data removed]",
      "text/plain": [
       "<Figure size 432x288 with 1 Axes>"
      ]
     },
     "metadata": {
      "needs_background": "light"
     },
     "output_type": "display_data"
    }
   ],
   "source": [
    "\n",
    "plt.bar(labels,availability_count,align='center',alpha = 0.5)\n",
    "plt.xlabel('Number of Days')\n",
    "plt.ylabel('Number of listings available')\n",
    "plt.title('Number of listings avaialable based on selected days')\n"
   ]
  },
  {
   "cell_type": "code",
   "execution_count": null,
   "metadata": {},
   "outputs": [],
   "source": []
  }
 ],
 "metadata": {
  "kernelspec": {
   "display_name": "Python 3",
   "language": "python",
   "name": "python3"
  },
  "language_info": {
   "codemirror_mode": {
    "name": "ipython",
    "version": 3
   },
   "file_extension": ".py",
   "mimetype": "text/x-python",
   "name": "python",
   "nbconvert_exporter": "python",
   "pygments_lexer": "ipython3",
   "version": "3.7.3"
  }
 },
 "nbformat": 4,
 "nbformat_minor": 2
}
