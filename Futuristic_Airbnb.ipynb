{
 "cells": [
  {
   "cell_type": "markdown",
   "metadata": {},
   "source": [
    "# <ins> Futuristic Airbnb </ins>"
   ]
  },
  {
   "cell_type": "markdown",
   "metadata": {},
   "source": [
    "Airbnb has successfully disrupted the traditional hospitality industry as more and more travelers decide to use Airbnb as their primary accommodation provider. Since its beginning in 2008, Airbnb has seen an enormous growth, with the number of rentals listed on its website growing exponentially each year. In Germany, no city is more popular than Berlin. That implies that Berlin is one of the hottest markets for Airbnb in Europe, with over 22,552 listings as of November 2018.Here we will be using Python with some packages like Pandas and Matplotlib to analyze data  to find a better Accommodation based on customer satisfaction and to improve the Airbnb business based on certain factors in Berlin."
   ]
  },
  {
   "cell_type": "markdown",
   "metadata": {},
   "source": [
    "<hr> </hr>"
   ]
  },
  {
   "cell_type": "code",
   "execution_count": 2,
   "metadata": {},
   "outputs": [],
   "source": [
    "#Importing Dependencies\n",
    "import pandas as pd\n",
    "import numpy as np\n",
    "import matplotlib.pyplot as plt\n",
    "import requests\n",
    "import time\n",
    "import json\n",
    "import gmaps\n",
    "from datetime import datetime\n",
    "import seaborn as sns\n",
    "import re"
   ]
  },
  {
   "cell_type": "code",
   "execution_count": 3,
   "metadata": {},
   "outputs": [],
   "source": [
    "#Reading Files and storing in Dataframes\n",
    "\n",
    "#Calendar_Summary_df = pd.read_csv(\"../Dataset/calendar_summary.csv\")\n",
    "#Listings_df = pd.read_csv(\"../Dataset/listings.csv\")\n",
    "Listings_Summary_df = pd.read_csv(\"../Dataset/listings_summary.csv\", error_bad_lines = False)\n",
    "#Neighbourhoods_df = pd.read_csv(\"../Dataset/neighbourhoods.csv\")\n",
    "#Reviews_df = pd.read_csv(\"../Dataset/reviews.csv\")\n",
    "#Reviews_Summary_df = pd.read_csv(\"../Dataset/reviews_summary.csv\")\n"
   ]
  },
  {
   "cell_type": "markdown",
   "metadata": {},
   "source": [
    "### <ins> Identifying the Columns </ins>"
   ]
  },
  {
   "cell_type": "code",
   "execution_count": 19,
   "metadata": {},
   "outputs": [
    {
     "data": {
      "text/plain": [
       "Index(['listing_id', 'date', 'available', 'price'], dtype='object')"
      ]
     },
     "execution_count": 19,
     "metadata": {},
     "output_type": "execute_result"
    }
   ],
   "source": [
    "Calendar_Summary_df.columns"
   ]
  },
  {
   "cell_type": "code",
   "execution_count": 20,
   "metadata": {},
   "outputs": [
    {
     "data": {
      "text/plain": [
       "Index(['id', 'name', 'host_id', 'host_name', 'neighbourhood_group',\n",
       "       'neighbourhood', 'latitude', 'longitude', 'room_type', 'price',\n",
       "       'minimum_nights', 'number_of_reviews', 'last_review',\n",
       "       'reviews_per_month', 'calculated_host_listings_count',\n",
       "       'availability_365'],\n",
       "      dtype='object')"
      ]
     },
     "execution_count": 20,
     "metadata": {},
     "output_type": "execute_result"
    }
   ],
   "source": [
    "Listings_df.columns"
   ]
  },
  {
   "cell_type": "code",
   "execution_count": 21,
   "metadata": {},
   "outputs": [
    {
     "data": {
      "text/plain": [
       "Index(['id', 'listing_url', 'scrape_id', 'last_scraped', 'name', 'summary',\n",
       "       'space', 'description', 'experiences_offered', 'neighborhood_overview',\n",
       "       'notes', 'transit', 'access', 'interaction', 'house_rules',\n",
       "       'thumbnail_url', 'medium_url', 'picture_url', 'xl_picture_url',\n",
       "       'host_id', 'host_url', 'host_name', 'host_since', 'host_location',\n",
       "       'host_about', 'host_response_time', 'host_response_rate',\n",
       "       'host_acceptance_rate', 'host_is_superhost', 'host_thumbnail_url',\n",
       "       'host_picture_url', 'host_neighbourhood', 'host_listings_count',\n",
       "       'host_total_listings_count', 'host_verifications',\n",
       "       'host_has_profile_pic', 'host_identity_verified', 'street',\n",
       "       'neighbourhood', 'neighbourhood_cleansed',\n",
       "       'neighbourhood_group_cleansed', 'city', 'state', 'zipcode', 'market',\n",
       "       'smart_location', 'country_code', 'country', 'latitude', 'longitude',\n",
       "       'is_location_exact', 'property_type', 'room_type', 'accommodates',\n",
       "       'bathrooms', 'bedrooms', 'beds', 'bed_type', 'amenities', 'square_feet',\n",
       "       'price', 'weekly_price', 'monthly_price', 'security_deposit',\n",
       "       'cleaning_fee', 'guests_included', 'extra_people', 'minimum_nights',\n",
       "       'maximum_nights', 'calendar_updated', 'has_availability',\n",
       "       'availability_30', 'availability_60', 'availability_90',\n",
       "       'availability_365', 'calendar_last_scraped', 'number_of_reviews',\n",
       "       'first_review', 'last_review', 'review_scores_rating',\n",
       "       'review_scores_accuracy', 'review_scores_cleanliness',\n",
       "       'review_scores_checkin', 'review_scores_communication',\n",
       "       'review_scores_location', 'review_scores_value', 'requires_license',\n",
       "       'license', 'jurisdiction_names', 'instant_bookable',\n",
       "       'is_business_travel_ready', 'cancellation_policy',\n",
       "       'require_guest_profile_picture', 'require_guest_phone_verification',\n",
       "       'calculated_host_listings_count', 'reviews_per_month'],\n",
       "      dtype='object')"
      ]
     },
     "execution_count": 21,
     "metadata": {},
     "output_type": "execute_result"
    }
   ],
   "source": [
    "Listings_Summary_df.columns"
   ]
  },
  {
   "cell_type": "code",
   "execution_count": 22,
   "metadata": {},
   "outputs": [
    {
     "data": {
      "text/plain": [
       "Index(['neighbourhood_group', 'neighbourhood'], dtype='object')"
      ]
     },
     "execution_count": 22,
     "metadata": {},
     "output_type": "execute_result"
    }
   ],
   "source": [
    "Neighbourhoods_df.columns"
   ]
  },
  {
   "cell_type": "code",
   "execution_count": 14,
   "metadata": {},
   "outputs": [
    {
     "data": {
      "text/plain": [
       "Index(['listing_id', 'date'], dtype='object')"
      ]
     },
     "execution_count": 14,
     "metadata": {},
     "output_type": "execute_result"
    }
   ],
   "source": [
    "Reviews_df.columns"
   ]
  },
  {
   "cell_type": "code",
   "execution_count": 17,
   "metadata": {},
   "outputs": [
    {
     "data": {
      "text/plain": [
       "Index(['listing_id', 'id', 'date', 'reviewer_id', 'reviewer_name', 'comments'], dtype='object')"
      ]
     },
     "execution_count": 17,
     "metadata": {},
     "output_type": "execute_result"
    }
   ],
   "source": [
    "Reviews_Summary_df.columns"
   ]
  },
  {
   "cell_type": "code",
   "execution_count": 21,
   "metadata": {},
   "outputs": [],
   "source": [
    "pd.set_option('display.max_columns', len(Listings_Summary_df.columns)) \n",
    "pd.set_option('display.max_rows', 100)"
   ]
  },
  {
   "cell_type": "markdown",
   "metadata": {},
   "source": [
    "### <ins> Keeping the Necessary Columns </ins>"
   ]
  },
  {
   "cell_type": "code",
   "execution_count": 22,
   "metadata": {},
   "outputs": [],
   "source": [
    "#Dropping the unneccessay columns in Listings_Summary_df which is not used for analysis\n",
    "\n",
    "Listings_Summary_df = Listings_Summary_df.drop (['listing_url', 'scrape_id','summary',\n",
    "       'space', 'description', 'experiences_offered', 'neighborhood_overview',\n",
    "       'notes', 'transit', 'access', 'interaction', 'house_rules',\n",
    "       'thumbnail_url', 'medium_url', 'picture_url', 'xl_picture_url',\n",
    "        'host_url', 'host_location','host_about',\n",
    "       'host_acceptance_rate', 'host_thumbnail_url',\n",
    "       'host_picture_url',  'host_neighbourhood','calendar_updated','calendar_last_scraped',\n",
    "        'license','jurisdiction_names'], axis =1)\n"
   ]
  },
  {
   "cell_type": "code",
   "execution_count": 23,
   "metadata": {},
   "outputs": [
    {
     "data": {
      "text/plain": [
       "id                                   0.0\n",
       "last_scraped                         0.0\n",
       "name                                 0.0\n",
       "host_id                              0.0\n",
       "host_name                            0.0\n",
       "host_since                           0.0\n",
       "host_response_time                  57.0\n",
       "host_response_rate                  57.0\n",
       "host_is_superhost                    0.0\n",
       "host_listings_count                  0.0\n",
       "host_total_listings_count            0.0\n",
       "host_verifications                   0.0\n",
       "host_has_profile_pic                 0.0\n",
       "host_identity_verified               0.0\n",
       "street                               0.0\n",
       "neighbourhood                        5.0\n",
       "neighbourhood_cleansed               0.0\n",
       "neighbourhood_group_cleansed         0.0\n",
       "city                                 0.0\n",
       "state                                0.0\n",
       "zipcode                              3.0\n",
       "market                               0.0\n",
       "smart_location                       0.0\n",
       "country_code                         0.0\n",
       "country                              0.0\n",
       "latitude                             0.0\n",
       "longitude                            0.0\n",
       "is_location_exact                    0.0\n",
       "property_type                        0.0\n",
       "room_type                            0.0\n",
       "accommodates                         0.0\n",
       "bathrooms                            0.0\n",
       "bedrooms                             0.0\n",
       "beds                                 0.0\n",
       "bed_type                             0.0\n",
       "amenities                            0.0\n",
       "square_feet                         98.0\n",
       "price                                0.0\n",
       "weekly_price                        84.0\n",
       "monthly_price                       88.0\n",
       "security_deposit                    42.0\n",
       "cleaning_fee                        32.0\n",
       "guests_included                      0.0\n",
       "extra_people                         0.0\n",
       "minimum_nights                       0.0\n",
       "maximum_nights                       0.0\n",
       "has_availability                     0.0\n",
       "availability_30                      0.0\n",
       "availability_60                      0.0\n",
       "availability_90                      0.0\n",
       "availability_365                     0.0\n",
       "number_of_reviews                    0.0\n",
       "first_review                        17.0\n",
       "last_review                         17.0\n",
       "review_scores_rating                19.0\n",
       "review_scores_accuracy              20.0\n",
       "review_scores_cleanliness           20.0\n",
       "review_scores_checkin               20.0\n",
       "review_scores_communication         20.0\n",
       "review_scores_location              20.0\n",
       "review_scores_value                 20.0\n",
       "requires_license                     0.0\n",
       "instant_bookable                     0.0\n",
       "is_business_travel_ready             0.0\n",
       "cancellation_policy                  0.0\n",
       "require_guest_profile_picture        0.0\n",
       "require_guest_phone_verification     0.0\n",
       "calculated_host_listings_count       0.0\n",
       "reviews_per_month                   17.0\n",
       "dtype: float64"
      ]
     },
     "execution_count": 23,
     "metadata": {},
     "output_type": "execute_result"
    }
   ],
   "source": [
    "#Determining the Null Value Data\n",
    "round(( Listings_Summary_df.isna().sum()/len(Listings_Summary_df) ) * 100)"
   ]
  },
  {
   "cell_type": "code",
   "execution_count": 24,
   "metadata": {},
   "outputs": [],
   "source": [
    "#The below Columns has more than 80% of NA values, hence dropping it.\n",
    "Listings_Summary_df.drop(['square_feet','weekly_price', 'monthly_price'], axis=1, inplace=True)"
   ]
  },
  {
   "cell_type": "code",
   "execution_count": 25,
   "metadata": {},
   "outputs": [],
   "source": [
    "#Dropping the Similar Columns\n",
    "#host_listings_count and host_total_listings_count are the same in all but 248 cases. #These cases are those where the value is NaN. \n",
    "Listings_Summary_df.drop(['host_total_listings_count', 'calculated_host_listings_count'], axis=1, inplace=True)    \n"
   ]
  },
  {
   "cell_type": "code",
   "execution_count": 319,
   "metadata": {},
   "outputs": [
    {
     "data": {
      "text/plain": [
       "id                                   0.0\n",
       "last_scraped                         0.0\n",
       "name                                 0.0\n",
       "host_id                              0.0\n",
       "host_name                            0.0\n",
       "host_since                           0.0\n",
       "host_response_time                  57.0\n",
       "host_response_rate                  57.0\n",
       "host_is_superhost                    0.0\n",
       "host_listings_count                  0.0\n",
       "host_verifications                   0.0\n",
       "host_has_profile_pic                 0.0\n",
       "host_identity_verified               0.0\n",
       "street                               0.0\n",
       "neighbourhood                        5.0\n",
       "neighbourhood_cleansed               0.0\n",
       "neighbourhood_group_cleansed         0.0\n",
       "city                                 0.0\n",
       "state                                0.0\n",
       "zipcode                              3.0\n",
       "market                               0.0\n",
       "smart_location                       0.0\n",
       "country_code                         0.0\n",
       "country                              0.0\n",
       "latitude                             0.0\n",
       "longitude                            0.0\n",
       "is_location_exact                    0.0\n",
       "property_type                        0.0\n",
       "room_type                            0.0\n",
       "accommodates                         0.0\n",
       "bathrooms                            0.0\n",
       "bedrooms                             0.0\n",
       "beds                                 0.0\n",
       "bed_type                             0.0\n",
       "amenities                            0.0\n",
       "price                                0.0\n",
       "security_deposit                    42.0\n",
       "cleaning_fee                        32.0\n",
       "guests_included                      0.0\n",
       "extra_people                         0.0\n",
       "minimum_nights                       0.0\n",
       "maximum_nights                       0.0\n",
       "has_availability                     0.0\n",
       "availability_30                      0.0\n",
       "availability_60                      0.0\n",
       "availability_90                      0.0\n",
       "availability_365                     0.0\n",
       "number_of_reviews                    0.0\n",
       "first_review                        17.0\n",
       "last_review                         17.0\n",
       "review_scores_rating                19.0\n",
       "review_scores_accuracy              20.0\n",
       "review_scores_cleanliness           20.0\n",
       "review_scores_checkin               20.0\n",
       "review_scores_communication         20.0\n",
       "review_scores_location              20.0\n",
       "review_scores_value                 20.0\n",
       "requires_license                     0.0\n",
       "instant_bookable                     0.0\n",
       "is_business_travel_ready             0.0\n",
       "cancellation_policy                  0.0\n",
       "require_guest_profile_picture        0.0\n",
       "require_guest_phone_verification     0.0\n",
       "reviews_per_month                   17.0\n",
       "dtype: float64"
      ]
     },
     "execution_count": 319,
     "metadata": {},
     "output_type": "execute_result"
    }
   ],
   "source": [
    "#Re-Checking\n",
    "round(( Listings_Summary_df.isna().sum()/len(Listings_Summary_df) ) * 100)"
   ]
  },
  {
   "cell_type": "code",
   "execution_count": 185,
   "metadata": {},
   "outputs": [
    {
     "data": {
      "text/html": [
       "<div>\n",
       "<style scoped>\n",
       "    .dataframe tbody tr th:only-of-type {\n",
       "        vertical-align: middle;\n",
       "    }\n",
       "\n",
       "    .dataframe tbody tr th {\n",
       "        vertical-align: top;\n",
       "    }\n",
       "\n",
       "    .dataframe thead th {\n",
       "        text-align: right;\n",
       "    }\n",
       "</style>\n",
       "<table border=\"1\" class=\"dataframe\">\n",
       "  <thead>\n",
       "    <tr style=\"text-align: right;\">\n",
       "      <th></th>\n",
       "      <th>id</th>\n",
       "      <th>last_scraped</th>\n",
       "      <th>name</th>\n",
       "      <th>host_id</th>\n",
       "      <th>host_name</th>\n",
       "      <th>host_since</th>\n",
       "      <th>host_response_time</th>\n",
       "      <th>host_response_rate</th>\n",
       "      <th>host_is_superhost</th>\n",
       "      <th>host_listings_count</th>\n",
       "      <th>host_verifications</th>\n",
       "      <th>host_has_profile_pic</th>\n",
       "      <th>host_identity_verified</th>\n",
       "      <th>street</th>\n",
       "      <th>neighbourhood</th>\n",
       "      <th>neighbourhood_cleansed</th>\n",
       "      <th>neighbourhood_group_cleansed</th>\n",
       "      <th>city</th>\n",
       "      <th>state</th>\n",
       "      <th>zipcode</th>\n",
       "      <th>market</th>\n",
       "      <th>smart_location</th>\n",
       "      <th>country_code</th>\n",
       "      <th>country</th>\n",
       "      <th>latitude</th>\n",
       "      <th>longitude</th>\n",
       "      <th>is_location_exact</th>\n",
       "      <th>property_type</th>\n",
       "      <th>room_type</th>\n",
       "      <th>accommodates</th>\n",
       "      <th>bathrooms</th>\n",
       "      <th>bedrooms</th>\n",
       "      <th>beds</th>\n",
       "      <th>bed_type</th>\n",
       "      <th>amenities</th>\n",
       "      <th>price</th>\n",
       "      <th>security_deposit</th>\n",
       "      <th>cleaning_fee</th>\n",
       "      <th>guests_included</th>\n",
       "      <th>extra_people</th>\n",
       "      <th>minimum_nights</th>\n",
       "      <th>maximum_nights</th>\n",
       "      <th>has_availability</th>\n",
       "      <th>availability_30</th>\n",
       "      <th>availability_60</th>\n",
       "      <th>availability_90</th>\n",
       "      <th>availability_365</th>\n",
       "      <th>number_of_reviews</th>\n",
       "      <th>first_review</th>\n",
       "      <th>last_review</th>\n",
       "      <th>review_scores_rating</th>\n",
       "      <th>review_scores_accuracy</th>\n",
       "      <th>review_scores_cleanliness</th>\n",
       "      <th>review_scores_checkin</th>\n",
       "      <th>review_scores_communication</th>\n",
       "      <th>review_scores_location</th>\n",
       "      <th>review_scores_value</th>\n",
       "      <th>requires_license</th>\n",
       "      <th>instant_bookable</th>\n",
       "      <th>is_business_travel_ready</th>\n",
       "      <th>cancellation_policy</th>\n",
       "      <th>require_guest_profile_picture</th>\n",
       "      <th>require_guest_phone_verification</th>\n",
       "      <th>reviews_per_month</th>\n",
       "      <th>Rating</th>\n",
       "    </tr>\n",
       "  </thead>\n",
       "  <tbody>\n",
       "    <tr>\n",
       "      <td>0</td>\n",
       "      <td>2015</td>\n",
       "      <td>2018-11-07</td>\n",
       "      <td>Berlin-Mitte Value! Quiet courtyard/very central</td>\n",
       "      <td>2217</td>\n",
       "      <td>Ian</td>\n",
       "      <td>2008-08-18</td>\n",
       "      <td>within an hour</td>\n",
       "      <td>96%</td>\n",
       "      <td>t</td>\n",
       "      <td>4.0</td>\n",
       "      <td>['email', 'phone', 'reviews', 'jumio', 'offlin...</td>\n",
       "      <td>t</td>\n",
       "      <td>t</td>\n",
       "      <td>Berlin, Berlin, Germany</td>\n",
       "      <td>Mitte</td>\n",
       "      <td>Brunnenstr. Süd</td>\n",
       "      <td>Mitte</td>\n",
       "      <td>Berlin</td>\n",
       "      <td>Berlin</td>\n",
       "      <td>10119</td>\n",
       "      <td>Berlin</td>\n",
       "      <td>Berlin, Germany</td>\n",
       "      <td>DE</td>\n",
       "      <td>Germany</td>\n",
       "      <td>52.534537</td>\n",
       "      <td>13.402557</td>\n",
       "      <td>f</td>\n",
       "      <td>Guesthouse</td>\n",
       "      <td>Entire home/apt</td>\n",
       "      <td>3</td>\n",
       "      <td>1.0</td>\n",
       "      <td>1.0</td>\n",
       "      <td>2.0</td>\n",
       "      <td>Real Bed</td>\n",
       "      <td>{TV,\"Cable TV\",Wifi,Kitchen,Gym,Heating,\"Famil...</td>\n",
       "      <td>60</td>\n",
       "      <td>$200.00</td>\n",
       "      <td>$30.00</td>\n",
       "      <td>1</td>\n",
       "      <td>$28.00</td>\n",
       "      <td>4</td>\n",
       "      <td>1125</td>\n",
       "      <td>t</td>\n",
       "      <td>0</td>\n",
       "      <td>21</td>\n",
       "      <td>51</td>\n",
       "      <td>141</td>\n",
       "      <td>118</td>\n",
       "      <td>2016-04-11</td>\n",
       "      <td>2018-10-28</td>\n",
       "      <td>93.0</td>\n",
       "      <td>10.0</td>\n",
       "      <td>9.0</td>\n",
       "      <td>10.0</td>\n",
       "      <td>10.0</td>\n",
       "      <td>10.0</td>\n",
       "      <td>9.0</td>\n",
       "      <td>t</td>\n",
       "      <td>f</td>\n",
       "      <td>f</td>\n",
       "      <td>strict_14_with_grace_period</td>\n",
       "      <td>f</td>\n",
       "      <td>f</td>\n",
       "      <td>3.76</td>\n",
       "      <td>10.0</td>\n",
       "    </tr>\n",
       "    <tr>\n",
       "      <td>1</td>\n",
       "      <td>2695</td>\n",
       "      <td>2018-11-07</td>\n",
       "      <td>Prenzlauer Berg close to Mauerpark</td>\n",
       "      <td>2986</td>\n",
       "      <td>Michael</td>\n",
       "      <td>2008-09-16</td>\n",
       "      <td>NaN</td>\n",
       "      <td>NaN</td>\n",
       "      <td>f</td>\n",
       "      <td>1.0</td>\n",
       "      <td>['email', 'phone', 'reviews', 'jumio', 'govern...</td>\n",
       "      <td>t</td>\n",
       "      <td>t</td>\n",
       "      <td>Berlin, Berlin, Germany</td>\n",
       "      <td>NaN</td>\n",
       "      <td>Prenzlauer Berg Nordwest</td>\n",
       "      <td>Pankow</td>\n",
       "      <td>Berlin</td>\n",
       "      <td>Berlin</td>\n",
       "      <td>10437</td>\n",
       "      <td>Berlin</td>\n",
       "      <td>Berlin, Germany</td>\n",
       "      <td>DE</td>\n",
       "      <td>Germany</td>\n",
       "      <td>52.548513</td>\n",
       "      <td>13.404553</td>\n",
       "      <td>t</td>\n",
       "      <td>Apartment</td>\n",
       "      <td>Private room</td>\n",
       "      <td>2</td>\n",
       "      <td>1.0</td>\n",
       "      <td>1.0</td>\n",
       "      <td>1.0</td>\n",
       "      <td>Real Bed</td>\n",
       "      <td>{Wifi,Kitchen,Elevator,Heating,Washer,Essentia...</td>\n",
       "      <td>17</td>\n",
       "      <td>$0.00</td>\n",
       "      <td>$0.00</td>\n",
       "      <td>1</td>\n",
       "      <td>$0.00</td>\n",
       "      <td>2</td>\n",
       "      <td>40</td>\n",
       "      <td>t</td>\n",
       "      <td>0</td>\n",
       "      <td>0</td>\n",
       "      <td>0</td>\n",
       "      <td>0</td>\n",
       "      <td>6</td>\n",
       "      <td>2018-07-04</td>\n",
       "      <td>2018-10-01</td>\n",
       "      <td>100.0</td>\n",
       "      <td>10.0</td>\n",
       "      <td>10.0</td>\n",
       "      <td>10.0</td>\n",
       "      <td>10.0</td>\n",
       "      <td>10.0</td>\n",
       "      <td>10.0</td>\n",
       "      <td>t</td>\n",
       "      <td>f</td>\n",
       "      <td>f</td>\n",
       "      <td>flexible</td>\n",
       "      <td>f</td>\n",
       "      <td>f</td>\n",
       "      <td>1.42</td>\n",
       "      <td>10.0</td>\n",
       "    </tr>\n",
       "    <tr>\n",
       "      <td>2</td>\n",
       "      <td>3176</td>\n",
       "      <td>2018-11-07</td>\n",
       "      <td>Fabulous Flat in great Location</td>\n",
       "      <td>3718</td>\n",
       "      <td>Britta</td>\n",
       "      <td>2008-10-19</td>\n",
       "      <td>within a day</td>\n",
       "      <td>100%</td>\n",
       "      <td>f</td>\n",
       "      <td>1.0</td>\n",
       "      <td>['email', 'phone', 'facebook', 'reviews', 'man...</td>\n",
       "      <td>t</td>\n",
       "      <td>t</td>\n",
       "      <td>Berlin, Berlin, Germany</td>\n",
       "      <td>Prenzlauer Berg</td>\n",
       "      <td>Prenzlauer Berg Südwest</td>\n",
       "      <td>Pankow</td>\n",
       "      <td>Berlin</td>\n",
       "      <td>Berlin</td>\n",
       "      <td>10405</td>\n",
       "      <td>Berlin</td>\n",
       "      <td>Berlin, Germany</td>\n",
       "      <td>DE</td>\n",
       "      <td>Germany</td>\n",
       "      <td>52.534996</td>\n",
       "      <td>13.417579</td>\n",
       "      <td>t</td>\n",
       "      <td>Apartment</td>\n",
       "      <td>Entire home/apt</td>\n",
       "      <td>4</td>\n",
       "      <td>1.0</td>\n",
       "      <td>1.0</td>\n",
       "      <td>2.0</td>\n",
       "      <td>Real Bed</td>\n",
       "      <td>{Internet,Wifi,Kitchen,\"Buzzer/wireless interc...</td>\n",
       "      <td>90</td>\n",
       "      <td>$200.00</td>\n",
       "      <td>$50.00</td>\n",
       "      <td>2</td>\n",
       "      <td>$20.00</td>\n",
       "      <td>62</td>\n",
       "      <td>1125</td>\n",
       "      <td>t</td>\n",
       "      <td>0</td>\n",
       "      <td>0</td>\n",
       "      <td>0</td>\n",
       "      <td>220</td>\n",
       "      <td>143</td>\n",
       "      <td>2009-06-20</td>\n",
       "      <td>2017-03-20</td>\n",
       "      <td>92.0</td>\n",
       "      <td>9.0</td>\n",
       "      <td>9.0</td>\n",
       "      <td>9.0</td>\n",
       "      <td>9.0</td>\n",
       "      <td>10.0</td>\n",
       "      <td>9.0</td>\n",
       "      <td>t</td>\n",
       "      <td>t</td>\n",
       "      <td>f</td>\n",
       "      <td>strict_14_with_grace_period</td>\n",
       "      <td>f</td>\n",
       "      <td>f</td>\n",
       "      <td>1.25</td>\n",
       "      <td>9.0</td>\n",
       "    </tr>\n",
       "    <tr>\n",
       "      <td>3</td>\n",
       "      <td>3309</td>\n",
       "      <td>2018-11-07</td>\n",
       "      <td>BerlinSpot Schöneberg near KaDeWe</td>\n",
       "      <td>4108</td>\n",
       "      <td>Jana</td>\n",
       "      <td>2008-11-07</td>\n",
       "      <td>NaN</td>\n",
       "      <td>NaN</td>\n",
       "      <td>f</td>\n",
       "      <td>1.0</td>\n",
       "      <td>['email', 'phone', 'reviews', 'jumio', 'govern...</td>\n",
       "      <td>t</td>\n",
       "      <td>t</td>\n",
       "      <td>Berlin, Berlin, Germany</td>\n",
       "      <td>Schöneberg</td>\n",
       "      <td>Schöneberg-Nord</td>\n",
       "      <td>Tempelhof - Schöneberg</td>\n",
       "      <td>Berlin</td>\n",
       "      <td>Berlin</td>\n",
       "      <td>10777</td>\n",
       "      <td>Berlin</td>\n",
       "      <td>Berlin, Germany</td>\n",
       "      <td>DE</td>\n",
       "      <td>Germany</td>\n",
       "      <td>52.498855</td>\n",
       "      <td>13.349065</td>\n",
       "      <td>t</td>\n",
       "      <td>Apartment</td>\n",
       "      <td>Private room</td>\n",
       "      <td>2</td>\n",
       "      <td>1.0</td>\n",
       "      <td>1.0</td>\n",
       "      <td>1.0</td>\n",
       "      <td>Pull-out Sofa</td>\n",
       "      <td>{Internet,Wifi,\"Pets allowed\",\"Pets live on th...</td>\n",
       "      <td>26</td>\n",
       "      <td>$250.00</td>\n",
       "      <td>$30.00</td>\n",
       "      <td>1</td>\n",
       "      <td>$18.00</td>\n",
       "      <td>5</td>\n",
       "      <td>360</td>\n",
       "      <td>t</td>\n",
       "      <td>0</td>\n",
       "      <td>0</td>\n",
       "      <td>22</td>\n",
       "      <td>297</td>\n",
       "      <td>25</td>\n",
       "      <td>2013-08-12</td>\n",
       "      <td>2018-08-16</td>\n",
       "      <td>88.0</td>\n",
       "      <td>9.0</td>\n",
       "      <td>9.0</td>\n",
       "      <td>9.0</td>\n",
       "      <td>10.0</td>\n",
       "      <td>9.0</td>\n",
       "      <td>9.0</td>\n",
       "      <td>t</td>\n",
       "      <td>f</td>\n",
       "      <td>f</td>\n",
       "      <td>strict_14_with_grace_period</td>\n",
       "      <td>f</td>\n",
       "      <td>f</td>\n",
       "      <td>0.39</td>\n",
       "      <td>9.0</td>\n",
       "    </tr>\n",
       "    <tr>\n",
       "      <td>4</td>\n",
       "      <td>7071</td>\n",
       "      <td>2018-11-07</td>\n",
       "      <td>BrightRoom with sunny greenview!</td>\n",
       "      <td>17391</td>\n",
       "      <td>Bright</td>\n",
       "      <td>2009-05-16</td>\n",
       "      <td>within an hour</td>\n",
       "      <td>100%</td>\n",
       "      <td>t</td>\n",
       "      <td>1.0</td>\n",
       "      <td>['email', 'phone', 'reviews', 'jumio', 'govern...</td>\n",
       "      <td>t</td>\n",
       "      <td>t</td>\n",
       "      <td>Berlin, Berlin, Germany</td>\n",
       "      <td>Prenzlauer Berg</td>\n",
       "      <td>Helmholtzplatz</td>\n",
       "      <td>Pankow</td>\n",
       "      <td>Berlin</td>\n",
       "      <td>Berlin</td>\n",
       "      <td>10437</td>\n",
       "      <td>Berlin</td>\n",
       "      <td>Berlin, Germany</td>\n",
       "      <td>DE</td>\n",
       "      <td>Germany</td>\n",
       "      <td>52.543157</td>\n",
       "      <td>13.415091</td>\n",
       "      <td>t</td>\n",
       "      <td>Apartment</td>\n",
       "      <td>Private room</td>\n",
       "      <td>2</td>\n",
       "      <td>1.0</td>\n",
       "      <td>1.0</td>\n",
       "      <td>2.0</td>\n",
       "      <td>Real Bed</td>\n",
       "      <td>{Wifi,Heating,\"Family/kid friendly\",Essentials...</td>\n",
       "      <td>42</td>\n",
       "      <td>$0.00</td>\n",
       "      <td>$0.00</td>\n",
       "      <td>1</td>\n",
       "      <td>$24.00</td>\n",
       "      <td>2</td>\n",
       "      <td>10</td>\n",
       "      <td>t</td>\n",
       "      <td>15</td>\n",
       "      <td>26</td>\n",
       "      <td>26</td>\n",
       "      <td>26</td>\n",
       "      <td>197</td>\n",
       "      <td>2009-08-18</td>\n",
       "      <td>2018-11-04</td>\n",
       "      <td>96.0</td>\n",
       "      <td>10.0</td>\n",
       "      <td>10.0</td>\n",
       "      <td>10.0</td>\n",
       "      <td>10.0</td>\n",
       "      <td>10.0</td>\n",
       "      <td>9.0</td>\n",
       "      <td>t</td>\n",
       "      <td>f</td>\n",
       "      <td>f</td>\n",
       "      <td>moderate</td>\n",
       "      <td>f</td>\n",
       "      <td>f</td>\n",
       "      <td>1.75</td>\n",
       "      <td>10.0</td>\n",
       "    </tr>\n",
       "  </tbody>\n",
       "</table>\n",
       "</div>"
      ],
      "text/plain": [
       "     id last_scraped                                              name  \\\n",
       "0  2015   2018-11-07  Berlin-Mitte Value! Quiet courtyard/very central   \n",
       "1  2695   2018-11-07                Prenzlauer Berg close to Mauerpark   \n",
       "2  3176   2018-11-07                   Fabulous Flat in great Location   \n",
       "3  3309   2018-11-07                 BerlinSpot Schöneberg near KaDeWe   \n",
       "4  7071   2018-11-07                  BrightRoom with sunny greenview!   \n",
       "\n",
       "   host_id host_name host_since host_response_time host_response_rate  \\\n",
       "0     2217       Ian 2008-08-18     within an hour                96%   \n",
       "1     2986   Michael 2008-09-16                NaN                NaN   \n",
       "2     3718    Britta 2008-10-19       within a day               100%   \n",
       "3     4108      Jana 2008-11-07                NaN                NaN   \n",
       "4    17391    Bright 2009-05-16     within an hour               100%   \n",
       "\n",
       "  host_is_superhost  host_listings_count  \\\n",
       "0                 t                  4.0   \n",
       "1                 f                  1.0   \n",
       "2                 f                  1.0   \n",
       "3                 f                  1.0   \n",
       "4                 t                  1.0   \n",
       "\n",
       "                                  host_verifications host_has_profile_pic  \\\n",
       "0  ['email', 'phone', 'reviews', 'jumio', 'offlin...                    t   \n",
       "1  ['email', 'phone', 'reviews', 'jumio', 'govern...                    t   \n",
       "2  ['email', 'phone', 'facebook', 'reviews', 'man...                    t   \n",
       "3  ['email', 'phone', 'reviews', 'jumio', 'govern...                    t   \n",
       "4  ['email', 'phone', 'reviews', 'jumio', 'govern...                    t   \n",
       "\n",
       "  host_identity_verified                   street    neighbourhood  \\\n",
       "0                      t  Berlin, Berlin, Germany            Mitte   \n",
       "1                      t  Berlin, Berlin, Germany              NaN   \n",
       "2                      t  Berlin, Berlin, Germany  Prenzlauer Berg   \n",
       "3                      t  Berlin, Berlin, Germany       Schöneberg   \n",
       "4                      t  Berlin, Berlin, Germany  Prenzlauer Berg   \n",
       "\n",
       "     neighbourhood_cleansed neighbourhood_group_cleansed    city   state  \\\n",
       "0           Brunnenstr. Süd                        Mitte  Berlin  Berlin   \n",
       "1  Prenzlauer Berg Nordwest                       Pankow  Berlin  Berlin   \n",
       "2   Prenzlauer Berg Südwest                       Pankow  Berlin  Berlin   \n",
       "3           Schöneberg-Nord       Tempelhof - Schöneberg  Berlin  Berlin   \n",
       "4            Helmholtzplatz                       Pankow  Berlin  Berlin   \n",
       "\n",
       "  zipcode  market   smart_location country_code  country   latitude  \\\n",
       "0   10119  Berlin  Berlin, Germany           DE  Germany  52.534537   \n",
       "1   10437  Berlin  Berlin, Germany           DE  Germany  52.548513   \n",
       "2   10405  Berlin  Berlin, Germany           DE  Germany  52.534996   \n",
       "3   10777  Berlin  Berlin, Germany           DE  Germany  52.498855   \n",
       "4   10437  Berlin  Berlin, Germany           DE  Germany  52.543157   \n",
       "\n",
       "   longitude is_location_exact property_type        room_type  accommodates  \\\n",
       "0  13.402557                 f    Guesthouse  Entire home/apt             3   \n",
       "1  13.404553                 t     Apartment     Private room             2   \n",
       "2  13.417579                 t     Apartment  Entire home/apt             4   \n",
       "3  13.349065                 t     Apartment     Private room             2   \n",
       "4  13.415091                 t     Apartment     Private room             2   \n",
       "\n",
       "   bathrooms  bedrooms  beds       bed_type  \\\n",
       "0        1.0       1.0   2.0       Real Bed   \n",
       "1        1.0       1.0   1.0       Real Bed   \n",
       "2        1.0       1.0   2.0       Real Bed   \n",
       "3        1.0       1.0   1.0  Pull-out Sofa   \n",
       "4        1.0       1.0   2.0       Real Bed   \n",
       "\n",
       "                                           amenities  price security_deposit  \\\n",
       "0  {TV,\"Cable TV\",Wifi,Kitchen,Gym,Heating,\"Famil...     60          $200.00   \n",
       "1  {Wifi,Kitchen,Elevator,Heating,Washer,Essentia...     17            $0.00   \n",
       "2  {Internet,Wifi,Kitchen,\"Buzzer/wireless interc...     90          $200.00   \n",
       "3  {Internet,Wifi,\"Pets allowed\",\"Pets live on th...     26          $250.00   \n",
       "4  {Wifi,Heating,\"Family/kid friendly\",Essentials...     42            $0.00   \n",
       "\n",
       "  cleaning_fee  guests_included extra_people  minimum_nights  maximum_nights  \\\n",
       "0       $30.00                1       $28.00               4            1125   \n",
       "1        $0.00                1        $0.00               2              40   \n",
       "2       $50.00                2       $20.00              62            1125   \n",
       "3       $30.00                1       $18.00               5             360   \n",
       "4        $0.00                1       $24.00               2              10   \n",
       "\n",
       "  has_availability  availability_30  availability_60  availability_90  \\\n",
       "0                t                0               21               51   \n",
       "1                t                0                0                0   \n",
       "2                t                0                0                0   \n",
       "3                t                0                0               22   \n",
       "4                t               15               26               26   \n",
       "\n",
       "   availability_365  number_of_reviews first_review last_review  \\\n",
       "0               141                118   2016-04-11  2018-10-28   \n",
       "1                 0                  6   2018-07-04  2018-10-01   \n",
       "2               220                143   2009-06-20  2017-03-20   \n",
       "3               297                 25   2013-08-12  2018-08-16   \n",
       "4                26                197   2009-08-18  2018-11-04   \n",
       "\n",
       "   review_scores_rating  review_scores_accuracy  review_scores_cleanliness  \\\n",
       "0                  93.0                    10.0                        9.0   \n",
       "1                 100.0                    10.0                       10.0   \n",
       "2                  92.0                     9.0                        9.0   \n",
       "3                  88.0                     9.0                        9.0   \n",
       "4                  96.0                    10.0                       10.0   \n",
       "\n",
       "   review_scores_checkin  review_scores_communication  review_scores_location  \\\n",
       "0                   10.0                         10.0                    10.0   \n",
       "1                   10.0                         10.0                    10.0   \n",
       "2                    9.0                          9.0                    10.0   \n",
       "3                    9.0                         10.0                     9.0   \n",
       "4                   10.0                         10.0                    10.0   \n",
       "\n",
       "   review_scores_value requires_license instant_bookable  \\\n",
       "0                  9.0                t                f   \n",
       "1                 10.0                t                f   \n",
       "2                  9.0                t                t   \n",
       "3                  9.0                t                f   \n",
       "4                  9.0                t                f   \n",
       "\n",
       "  is_business_travel_ready          cancellation_policy  \\\n",
       "0                        f  strict_14_with_grace_period   \n",
       "1                        f                     flexible   \n",
       "2                        f  strict_14_with_grace_period   \n",
       "3                        f  strict_14_with_grace_period   \n",
       "4                        f                     moderate   \n",
       "\n",
       "  require_guest_profile_picture require_guest_phone_verification  \\\n",
       "0                             f                                f   \n",
       "1                             f                                f   \n",
       "2                             f                                f   \n",
       "3                             f                                f   \n",
       "4                             f                                f   \n",
       "\n",
       "   reviews_per_month  Rating  \n",
       "0               3.76    10.0  \n",
       "1               1.42    10.0  \n",
       "2               1.25     9.0  \n",
       "3               0.39     9.0  \n",
       "4               1.75    10.0  "
      ]
     },
     "execution_count": 185,
     "metadata": {},
     "output_type": "execute_result"
    }
   ],
   "source": [
    "Listings_Summary_df.head()"
   ]
  },
  {
   "cell_type": "code",
   "execution_count": null,
   "metadata": {},
   "outputs": [],
   "source": []
  },
  {
   "cell_type": "markdown",
   "metadata": {},
   "source": [
    "### <ins> Data Cleaning </ins>"
   ]
  },
  {
   "cell_type": "code",
   "execution_count": 26,
   "metadata": {},
   "outputs": [
    {
     "data": {
      "text/html": [
       "<div>\n",
       "<style scoped>\n",
       "    .dataframe tbody tr th:only-of-type {\n",
       "        vertical-align: middle;\n",
       "    }\n",
       "\n",
       "    .dataframe tbody tr th {\n",
       "        vertical-align: top;\n",
       "    }\n",
       "\n",
       "    .dataframe thead th {\n",
       "        text-align: right;\n",
       "    }\n",
       "</style>\n",
       "<table border=\"1\" class=\"dataframe\">\n",
       "  <thead>\n",
       "    <tr style=\"text-align: right;\">\n",
       "      <th></th>\n",
       "      <th>Amenities</th>\n",
       "    </tr>\n",
       "  </thead>\n",
       "  <tbody>\n",
       "    <tr>\n",
       "      <td>count</td>\n",
       "      <td>363474</td>\n",
       "    </tr>\n",
       "    <tr>\n",
       "      <td>unique</td>\n",
       "      <td>135</td>\n",
       "    </tr>\n",
       "    <tr>\n",
       "      <td>top</td>\n",
       "      <td>Wifi</td>\n",
       "    </tr>\n",
       "    <tr>\n",
       "      <td>freq</td>\n",
       "      <td>21512</td>\n",
       "    </tr>\n",
       "  </tbody>\n",
       "</table>\n",
       "</div>"
      ],
      "text/plain": [
       "       Amenities\n",
       "count     363474\n",
       "unique       135\n",
       "top         Wifi\n",
       "freq       21512"
      ]
     },
     "execution_count": 26,
     "metadata": {},
     "output_type": "execute_result"
    }
   ],
   "source": [
    "#Data Cleaning the Amenities Column\n",
    "\n",
    "Amenities = Listings_Summary_df.amenities\n",
    "\n",
    "Amenities_List = []\n",
    "\n",
    "for x in Amenities:\n",
    "        x=x.replace('\"','')\n",
    "        x=x.replace('{','')\n",
    "        x=x.replace('}','')\n",
    "        x=x.replace('Cable TV', 'TV')\n",
    "        \n",
    "        Amenities_List += x.split(',')\n",
    "\n",
    "Amenities_List.remove('translation missing: en.hosting_amenity_50')\n",
    "Amenities_List.remove('translation missing: en.hosting_amenity_49')\n",
    "Amenities_New= pd.DataFrame(Amenities_List)\n",
    "Amenities_New = Amenities_New.rename(columns = {0:\"Amenities\"})\n",
    "Amenities_New.describe()"
   ]
  },
  {
   "cell_type": "code",
   "execution_count": 4,
   "metadata": {},
   "outputs": [],
   "source": [
    "#Data Cleanup for First_Review, Host_Since \n",
    "\n",
    "Listings_Summary_df.first_review = pd.to_datetime(Listings_Summary_df.first_review)\n",
    "Listings_Summary_df.host_since = pd.to_datetime(Listings_Summary_df.host_since) \n"
   ]
  },
  {
   "cell_type": "code",
   "execution_count": 6,
   "metadata": {},
   "outputs": [],
   "source": [
    "#Data Cleanup for Price & Security Deposit , Cleaning & extra Column\n",
    "Listings_Summary_df.price = Listings_Summary_df.price.str[1:-3]\n",
    "Listings_Summary_df.price = Listings_Summary_df.price.str.replace(\",\", \"\")\n",
    "Listings_Summary_df.price = Listings_Summary_df.price.astype('int64')\n",
    "\n",
    "\n",
    "Listings_Summary_df.security_deposit = Listings_Summary_df.security_deposit.str[1:-3]\n",
    "Listings_Summary_df.security_deposit = Listings_Summary_df.security_deposit.str.replace(\",\", \"\")\n",
    "Listings_Summary_df.security_deposit.fillna(0, inplace=True)\n",
    "Listings_Summary_df.security_deposit = Listings_Summary_df.security_deposit.astype('int64')\n",
    "\n",
    "Listings_Summary_df.cleaning_fee = Listings_Summary_df.cleaning_fee.str[1:-3]\n",
    "Listings_Summary_df.cleaning_fee = Listings_Summary_df.cleaning_fee.str.replace(\",\", \"\")\n",
    "Listings_Summary_df.cleaning_fee.fillna(0, inplace=True)\n",
    "Listings_Summary_df.cleaning_fee = Listings_Summary_df.cleaning_fee.astype('int64')\n",
    "\n",
    "Listings_Summary_df.extra_people = Listings_Summary_df.extra_people.str[1:-3]\n",
    "Listings_Summary_df.extra_people = Listings_Summary_df.extra_people.str.replace(\",\", \"\")\n",
    "Listings_Summary_df.extra_people.fillna(0, inplace=True)\n",
    "Listings_Summary_df.extra_people = Listings_Summary_df.extra_people.astype('int64')"
   ]
  },
  {
   "cell_type": "code",
   "execution_count": 29,
   "metadata": {},
   "outputs": [
    {
     "data": {
      "text/plain": [
       "N/A                   0.571745\n",
       "within an hour        0.225302\n",
       "within a few hours    0.094315\n",
       "within a day          0.091344\n",
       "a few days or more    0.017293\n",
       "Name: host_response_time, dtype: float64"
      ]
     },
     "execution_count": 29,
     "metadata": {},
     "output_type": "execute_result"
    }
   ],
   "source": [
    "#Data Cleanup for host_reponse_time \n",
    "Listings_Summary_df.host_response_time.fillna(\"N/A\", inplace=True)\n",
    "Listings_Summary_df.host_response_time.value_counts(normalize=True)"
   ]
  },
  {
   "cell_type": "code",
   "execution_count": 30,
   "metadata": {},
   "outputs": [
    {
     "data": {
      "text/plain": [
       "Apartment      0.952111\n",
       "House          0.024876\n",
       "Hotel          0.007272\n",
       "Guest suite    0.005809\n",
       "Hostel         0.005676\n",
       "Other          0.003680\n",
       "Villa          0.000443\n",
       "Resort         0.000133\n",
       "Name: property_type, dtype: float64"
      ]
     },
     "execution_count": 30,
     "metadata": {},
     "output_type": "execute_result"
    }
   ],
   "source": [
    "#Data Cleanup for Property type\n",
    "Listings_Summary_df.property_type.replace({\n",
    "    'Condominium' : 'Apartment',\n",
    "    'Loft' : 'Apartment',\n",
    "    'Serviced apartment': 'Apartment',\n",
    "    'Townhouse': 'House',\n",
    "    'Bed and breakfast' : 'Hotel',\n",
    "    'Guesthouse' : 'Guest suite',\n",
    "    'Boutique hotel': 'Hotel',\n",
    "    'Bungalow': 'House',\n",
    "    'Cottage': 'House',\n",
    "    'Boat': 'House',\n",
    "    'Camper/RV': 'Other',\n",
    "    'Earth house': 'House',\n",
    "    'Houseboat': 'House' ,\n",
    "    'Pension (South Korea)' : 'Other',\n",
    "    'Tiny house' : 'House',\n",
    "    'Aparthotel' : 'Hotel',\n",
    "    'Cabin' : 'Other',\n",
    "    'Casa particular (Cuba)' : 'Other',\n",
    "    'Castle' : 'Other',\n",
    "    'Barn' : 'Other',\n",
    "    'Chalet' : 'Other',\n",
    "    'Island' : 'Other',\n",
    "    'Tipi' : 'Other',\n",
    "    'In-law' : 'Other',\n",
    "    'Cave' : 'Other',\n",
    "    'Train' : 'Other'\n",
    "    \n",
    "    }, inplace=True)\n",
    "\n",
    "Listings_Summary_df.property_type.value_counts(normalize=True)\n"
   ]
  },
  {
   "cell_type": "code",
   "execution_count": 31,
   "metadata": {},
   "outputs": [
    {
     "data": {
      "text/plain": [
       "flexible    9102\n",
       "moderate    7096\n",
       "strict      6354\n",
       "Name: cancellation_policy, dtype: int64"
      ]
     },
     "execution_count": 31,
     "metadata": {},
     "output_type": "execute_result"
    }
   ],
   "source": [
    "#Data Cleanup for Cancellation Policy Column\n",
    "\n",
    "Listings_Summary_df.cancellation_policy.replace({\n",
    "    'strict_14_with_grace_period' : 'strict',\n",
    "    'super_strict_30': 'strict',\n",
    "    'super_strict_60': 'strict'\n",
    "    }, inplace=True)\n",
    "Listings_Summary_df.cancellation_policy.value_counts()"
   ]
  },
  {
   "cell_type": "code",
   "execution_count": null,
   "metadata": {},
   "outputs": [],
   "source": [
    "# Calculating Ratings\n",
    "\n",
    "Listings_Summary_df[\"Rating\"] = round((Listings_Summary_df['review_scores_accuracy'] + Listings_Summary_df['review_scores_cleanliness'] + \n",
    "                                 Listings_Summary_df['review_scores_checkin'] + Listings_Summary_df['review_scores_communication'] +\n",
    "                                Listings_Summary_df['review_scores_location'] + Listings_Summary_df['review_scores_value']) /6)\n",
    "                    \n",
    "Listings_Summary_df[\"Rating\"] = Listings_Summary_df[\"Rating\"].dropna(how=\"any\")\n",
    "\n"
   ]
  },
  {
   "cell_type": "markdown",
   "metadata": {},
   "source": [
    "## <ins> Visualizations </ins>"
   ]
  },
  {
   "cell_type": "markdown",
   "metadata": {},
   "source": [
    "### <ins> Factors for Growing Host Business </ins>"
   ]
  },
  {
   "cell_type": "code",
   "execution_count": 10,
   "metadata": {},
   "outputs": [
    {
     "data": {
      "image/png": "[encoded data removed]",
      "text/plain": [
       "<Figure size 432x288 with 1 Axes>"
      ]
     },
     "metadata": {
      "needs_background": "light"
     },
     "output_type": "display_data"
    }
   ],
   "source": [
    "Amenities_Group = Amenities_New.groupby('Amenities')\n",
    "\n",
    "Amenities_Count = Amenities_Group[\"Amenities\"].count()\n",
    "\n",
    "Amenities_Count = Amenities_Count.sort_values(ascending=False)\n",
    "\n",
    "#Amenities_Count = (Amenities_Count/Amenities_Count.sum())*100\n",
    "\n",
    "plt.plot(Amenities_Count[0:10], linewidth=2.0, marker='D', linestyle=':')\n",
    "plt.xticks(rotation=90)\n",
    "plt.xlabel(\"Amenities\", fontweight='bold' )\n",
    "plt.ylabel(\"Overall Count Of Amenities\" , fontweight='bold')\n",
    "plt.title(\"Top 10 Amenities \",fontsize=14, fontweight='bold')\n",
    "\n",
    "plt.grid()\n",
    "plt.savefig(\"Visualizations/Top10_Amenities.png\")\n",
    "plt.show()\n"
   ]
  },
  {
   "cell_type": "markdown",
   "metadata": {},
   "source": [
    "### <ins> Observation </ins>"
   ]
  },
  {
   "cell_type": "markdown",
   "metadata": {},
   "source": [
    "From the above visualization, we can infer that Wifi, Kitchen, Heating, Essentials and Washer are the most important amenities to be considered for the successful of listing.For those who are already in the business and don't have those amenities, make sure the factibility of installing all or some of the amenities to grow your business."
   ]
  },
  {
   "cell_type": "code",
   "execution_count": 19,
   "metadata": {},
   "outputs": [
    {
     "data": {
      "image/png": "[encoded data removed]",
      "text/plain": [
       "<Figure size 1080x360 with 1 Axes>"
      ]
     },
     "metadata": {
      "needs_background": "light"
     },
     "output_type": "display_data"
    }
   ],
   "source": [
    "fig, (ax1) = plt.subplots(1,figsize=(15,5))   \n",
    "Amenities_Count[0:10].plot(kind='bar',ax = ax1)\n",
    "ax1.set_title('Top 10 Amenities Plot', fontweight='bold')\n",
    "ax1.set_xlabel('Amenities')\n",
    "ax1.set_ylabel('Amenities Count')\n",
    "\n",
    "total = Listings_Summary_df[\"amenities\"].count()\n",
    "\n",
    "for p in ax1.patches:\n",
    "    width, height = p.get_width(), p.get_height()/total\n",
    "    x, y = p.get_xy() \n",
    "    ax1.annotate('{:.0%}'.format(height), (p.get_x()+0.5*width, p.get_y()+5000 + height + 0.01),\n",
    "                 ha = 'center', fontweight='bold')\n",
    "plt.show()\n"
   ]
  },
  {
   "cell_type": "code",
   "execution_count": 21,
   "metadata": {},
   "outputs": [
    {
     "data": {
      "text/html": [
       "<div>\n",
       "<style scoped>\n",
       "    .dataframe tbody tr th:only-of-type {\n",
       "        vertical-align: middle;\n",
       "    }\n",
       "\n",
       "    .dataframe tbody tr th {\n",
       "        vertical-align: top;\n",
       "    }\n",
       "\n",
       "    .dataframe thead th {\n",
       "        text-align: right;\n",
       "    }\n",
       "</style>\n",
       "<table border=\"1\" class=\"dataframe\">\n",
       "  <thead>\n",
       "    <tr style=\"text-align: right;\">\n",
       "      <th></th>\n",
       "      <th></th>\n",
       "      <th></th>\n",
       "      <th></th>\n",
       "      <th>Location Price</th>\n",
       "      <th>Latitude</th>\n",
       "      <th>Longitude</th>\n",
       "      <th>Place</th>\n",
       "    </tr>\n",
       "    <tr>\n",
       "      <th>latitude</th>\n",
       "      <th>longitude</th>\n",
       "      <th>neighbourhood_cleansed</th>\n",
       "      <th>Rating</th>\n",
       "      <th></th>\n",
       "      <th></th>\n",
       "      <th></th>\n",
       "      <th></th>\n",
       "    </tr>\n",
       "  </thead>\n",
       "  <tbody>\n",
       "    <tr>\n",
       "      <td>52.346203</td>\n",
       "      <td>13.644671</td>\n",
       "      <td>Schmöckwitz/Karolinenhof/Rauchfangswerder</td>\n",
       "      <td>10.0</td>\n",
       "      <td>$99.00</td>\n",
       "      <td>52.346203</td>\n",
       "      <td>13.644671</td>\n",
       "      <td>Schmöckwitz/Karolinenhof/Rauchfangswerder</td>\n",
       "    </tr>\n",
       "    <tr>\n",
       "      <td>52.519016</td>\n",
       "      <td>13.459627</td>\n",
       "      <td>Frankfurter Allee Nord</td>\n",
       "      <td>10.0</td>\n",
       "      <td>$21.00</td>\n",
       "      <td>52.519016</td>\n",
       "      <td>13.459627</td>\n",
       "      <td>Frankfurter Allee Nord</td>\n",
       "    </tr>\n",
       "    <tr>\n",
       "      <td>52.518904</td>\n",
       "      <td>13.318250</td>\n",
       "      <td>Otto-Suhr-Allee</td>\n",
       "      <td>10.0</td>\n",
       "      <td>$100.00</td>\n",
       "      <td>52.518904</td>\n",
       "      <td>13.318250</td>\n",
       "      <td>Otto-Suhr-Allee</td>\n",
       "    </tr>\n",
       "    <tr>\n",
       "      <td>52.518908</td>\n",
       "      <td>13.427348</td>\n",
       "      <td>Karl-Marx-Allee-Süd</td>\n",
       "      <td>10.0</td>\n",
       "      <td>$56.00</td>\n",
       "      <td>52.518908</td>\n",
       "      <td>13.427348</td>\n",
       "      <td>Karl-Marx-Allee-Süd</td>\n",
       "    </tr>\n",
       "    <tr>\n",
       "      <td>52.518912</td>\n",
       "      <td>13.486248</td>\n",
       "      <td>Alt-Lichtenberg</td>\n",
       "      <td>10.0</td>\n",
       "      <td>$50.00</td>\n",
       "      <td>52.518912</td>\n",
       "      <td>13.486248</td>\n",
       "      <td>Alt-Lichtenberg</td>\n",
       "    </tr>\n",
       "    <tr>\n",
       "      <td>52.518930</td>\n",
       "      <td>13.525894</td>\n",
       "      <td>Marzahn-Süd</td>\n",
       "      <td>10.0</td>\n",
       "      <td>$0.00</td>\n",
       "      <td>52.518930</td>\n",
       "      <td>13.525894</td>\n",
       "      <td>Marzahn-Süd</td>\n",
       "    </tr>\n",
       "    <tr>\n",
       "      <td>52.518933</td>\n",
       "      <td>13.469145</td>\n",
       "      <td>Frankfurter Allee Nord</td>\n",
       "      <td>10.0</td>\n",
       "      <td>$40.00</td>\n",
       "      <td>52.518933</td>\n",
       "      <td>13.469145</td>\n",
       "      <td>Frankfurter Allee Nord</td>\n",
       "    </tr>\n",
       "    <tr>\n",
       "      <td>52.518944</td>\n",
       "      <td>13.458170</td>\n",
       "      <td>Frankfurter Allee Nord</td>\n",
       "      <td>10.0</td>\n",
       "      <td>$50.00</td>\n",
       "      <td>52.518944</td>\n",
       "      <td>13.458170</td>\n",
       "      <td>Frankfurter Allee Nord</td>\n",
       "    </tr>\n",
       "    <tr>\n",
       "      <td>52.518951</td>\n",
       "      <td>13.424355</td>\n",
       "      <td>Alexanderplatz</td>\n",
       "      <td>10.0</td>\n",
       "      <td>$25.00</td>\n",
       "      <td>52.518951</td>\n",
       "      <td>13.424355</td>\n",
       "      <td>Alexanderplatz</td>\n",
       "    </tr>\n",
       "    <tr>\n",
       "      <td>52.518955</td>\n",
       "      <td>13.465873</td>\n",
       "      <td>Frankfurter Allee Nord</td>\n",
       "      <td>10.0</td>\n",
       "      <td>$99.00</td>\n",
       "      <td>52.518955</td>\n",
       "      <td>13.465873</td>\n",
       "      <td>Frankfurter Allee Nord</td>\n",
       "    </tr>\n",
       "    <tr>\n",
       "      <td>52.518965</td>\n",
       "      <td>13.357427</td>\n",
       "      <td>Moabit Ost</td>\n",
       "      <td>10.0</td>\n",
       "      <td>$70.00</td>\n",
       "      <td>52.518965</td>\n",
       "      <td>13.357427</td>\n",
       "      <td>Moabit Ost</td>\n",
       "    </tr>\n",
       "    <tr>\n",
       "      <td>52.518967</td>\n",
       "      <td>13.465965</td>\n",
       "      <td>Frankfurter Allee Nord</td>\n",
       "      <td>10.0</td>\n",
       "      <td>$25.00</td>\n",
       "      <td>52.518967</td>\n",
       "      <td>13.465965</td>\n",
       "      <td>Frankfurter Allee Nord</td>\n",
       "    </tr>\n",
       "    <tr>\n",
       "      <td>52.518969</td>\n",
       "      <td>13.385492</td>\n",
       "      <td>Regierungsviertel</td>\n",
       "      <td>10.0</td>\n",
       "      <td>$72.00</td>\n",
       "      <td>52.518969</td>\n",
       "      <td>13.385492</td>\n",
       "      <td>Regierungsviertel</td>\n",
       "    </tr>\n",
       "    <tr>\n",
       "      <td>52.519013</td>\n",
       "      <td>13.444975</td>\n",
       "      <td>Karl-Marx-Allee-Nord</td>\n",
       "      <td>10.0</td>\n",
       "      <td>$50.00</td>\n",
       "      <td>52.519013</td>\n",
       "      <td>13.444975</td>\n",
       "      <td>Karl-Marx-Allee-Nord</td>\n",
       "    </tr>\n",
       "    <tr>\n",
       "      <td>52.519018</td>\n",
       "      <td>13.450537</td>\n",
       "      <td>Karl-Marx-Allee-Nord</td>\n",
       "      <td>10.0</td>\n",
       "      <td>$25.00</td>\n",
       "      <td>52.519018</td>\n",
       "      <td>13.450537</td>\n",
       "      <td>Karl-Marx-Allee-Nord</td>\n",
       "    </tr>\n",
       "    <tr>\n",
       "      <td>52.518901</td>\n",
       "      <td>13.480059</td>\n",
       "      <td>Alt-Lichtenberg</td>\n",
       "      <td>10.0</td>\n",
       "      <td>$29.00</td>\n",
       "      <td>52.518901</td>\n",
       "      <td>13.480059</td>\n",
       "      <td>Alt-Lichtenberg</td>\n",
       "    </tr>\n",
       "    <tr>\n",
       "      <td>52.519019</td>\n",
       "      <td>13.458976</td>\n",
       "      <td>Frankfurter Allee Nord</td>\n",
       "      <td>10.0</td>\n",
       "      <td>$69.00</td>\n",
       "      <td>52.519019</td>\n",
       "      <td>13.458976</td>\n",
       "      <td>Frankfurter Allee Nord</td>\n",
       "    </tr>\n",
       "    <tr>\n",
       "      <td>52.519030</td>\n",
       "      <td>13.334046</td>\n",
       "      <td>Moabit West</td>\n",
       "      <td>10.0</td>\n",
       "      <td>$26.00</td>\n",
       "      <td>52.519030</td>\n",
       "      <td>13.334046</td>\n",
       "      <td>Moabit West</td>\n",
       "    </tr>\n",
       "    <tr>\n",
       "      <td>52.519042</td>\n",
       "      <td>13.464732</td>\n",
       "      <td>Frankfurter Allee Nord</td>\n",
       "      <td>10.0</td>\n",
       "      <td>$30.00</td>\n",
       "      <td>52.519042</td>\n",
       "      <td>13.464732</td>\n",
       "      <td>Frankfurter Allee Nord</td>\n",
       "    </tr>\n",
       "    <tr>\n",
       "      <td>52.519083</td>\n",
       "      <td>13.396147</td>\n",
       "      <td>Regierungsviertel</td>\n",
       "      <td>10.0</td>\n",
       "      <td>$148.00</td>\n",
       "      <td>52.519083</td>\n",
       "      <td>13.396147</td>\n",
       "      <td>Regierungsviertel</td>\n",
       "    </tr>\n",
       "  </tbody>\n",
       "</table>\n",
       "</div>"
      ],
      "text/plain": [
       "                                                                     Location Price  \\\n",
       "latitude  longitude neighbourhood_cleansed                    Rating                  \n",
       "52.346203 13.644671 Schmöckwitz/Karolinenhof/Rauchfangswerder 10.0           $99.00   \n",
       "52.519016 13.459627 Frankfurter Allee Nord                    10.0           $21.00   \n",
       "52.518904 13.318250 Otto-Suhr-Allee                           10.0          $100.00   \n",
       "52.518908 13.427348 Karl-Marx-Allee-Süd                       10.0           $56.00   \n",
       "52.518912 13.486248 Alt-Lichtenberg                           10.0           $50.00   \n",
       "52.518930 13.525894 Marzahn-Süd                               10.0            $0.00   \n",
       "52.518933 13.469145 Frankfurter Allee Nord                    10.0           $40.00   \n",
       "52.518944 13.458170 Frankfurter Allee Nord                    10.0           $50.00   \n",
       "52.518951 13.424355 Alexanderplatz                            10.0           $25.00   \n",
       "52.518955 13.465873 Frankfurter Allee Nord                    10.0           $99.00   \n",
       "52.518965 13.357427 Moabit Ost                                10.0           $70.00   \n",
       "52.518967 13.465965 Frankfurter Allee Nord                    10.0           $25.00   \n",
       "52.518969 13.385492 Regierungsviertel                         10.0           $72.00   \n",
       "52.519013 13.444975 Karl-Marx-Allee-Nord                      10.0           $50.00   \n",
       "52.519018 13.450537 Karl-Marx-Allee-Nord                      10.0           $25.00   \n",
       "52.518901 13.480059 Alt-Lichtenberg                           10.0           $29.00   \n",
       "52.519019 13.458976 Frankfurter Allee Nord                    10.0           $69.00   \n",
       "52.519030 13.334046 Moabit West                               10.0           $26.00   \n",
       "52.519042 13.464732 Frankfurter Allee Nord                    10.0           $30.00   \n",
       "52.519083 13.396147 Regierungsviertel                         10.0          $148.00   \n",
       "\n",
       "                                                                       Latitude  \\\n",
       "latitude  longitude neighbourhood_cleansed                    Rating              \n",
       "52.346203 13.644671 Schmöckwitz/Karolinenhof/Rauchfangswerder 10.0    52.346203   \n",
       "52.519016 13.459627 Frankfurter Allee Nord                    10.0    52.519016   \n",
       "52.518904 13.318250 Otto-Suhr-Allee                           10.0    52.518904   \n",
       "52.518908 13.427348 Karl-Marx-Allee-Süd                       10.0    52.518908   \n",
       "52.518912 13.486248 Alt-Lichtenberg                           10.0    52.518912   \n",
       "52.518930 13.525894 Marzahn-Süd                               10.0    52.518930   \n",
       "52.518933 13.469145 Frankfurter Allee Nord                    10.0    52.518933   \n",
       "52.518944 13.458170 Frankfurter Allee Nord                    10.0    52.518944   \n",
       "52.518951 13.424355 Alexanderplatz                            10.0    52.518951   \n",
       "52.518955 13.465873 Frankfurter Allee Nord                    10.0    52.518955   \n",
       "52.518965 13.357427 Moabit Ost                                10.0    52.518965   \n",
       "52.518967 13.465965 Frankfurter Allee Nord                    10.0    52.518967   \n",
       "52.518969 13.385492 Regierungsviertel                         10.0    52.518969   \n",
       "52.519013 13.444975 Karl-Marx-Allee-Nord                      10.0    52.519013   \n",
       "52.519018 13.450537 Karl-Marx-Allee-Nord                      10.0    52.519018   \n",
       "52.518901 13.480059 Alt-Lichtenberg                           10.0    52.518901   \n",
       "52.519019 13.458976 Frankfurter Allee Nord                    10.0    52.519019   \n",
       "52.519030 13.334046 Moabit West                               10.0    52.519030   \n",
       "52.519042 13.464732 Frankfurter Allee Nord                    10.0    52.519042   \n",
       "52.519083 13.396147 Regierungsviertel                         10.0    52.519083   \n",
       "\n",
       "                                                                      Longitude  \\\n",
       "latitude  longitude neighbourhood_cleansed                    Rating              \n",
       "52.346203 13.644671 Schmöckwitz/Karolinenhof/Rauchfangswerder 10.0    13.644671   \n",
       "52.519016 13.459627 Frankfurter Allee Nord                    10.0    13.459627   \n",
       "52.518904 13.318250 Otto-Suhr-Allee                           10.0    13.318250   \n",
       "52.518908 13.427348 Karl-Marx-Allee-Süd                       10.0    13.427348   \n",
       "52.518912 13.486248 Alt-Lichtenberg                           10.0    13.486248   \n",
       "52.518930 13.525894 Marzahn-Süd                               10.0    13.525894   \n",
       "52.518933 13.469145 Frankfurter Allee Nord                    10.0    13.469145   \n",
       "52.518944 13.458170 Frankfurter Allee Nord                    10.0    13.458170   \n",
       "52.518951 13.424355 Alexanderplatz                            10.0    13.424355   \n",
       "52.518955 13.465873 Frankfurter Allee Nord                    10.0    13.465873   \n",
       "52.518965 13.357427 Moabit Ost                                10.0    13.357427   \n",
       "52.518967 13.465965 Frankfurter Allee Nord                    10.0    13.465965   \n",
       "52.518969 13.385492 Regierungsviertel                         10.0    13.385492   \n",
       "52.519013 13.444975 Karl-Marx-Allee-Nord                      10.0    13.444975   \n",
       "52.519018 13.450537 Karl-Marx-Allee-Nord                      10.0    13.450537   \n",
       "52.518901 13.480059 Alt-Lichtenberg                           10.0    13.480059   \n",
       "52.519019 13.458976 Frankfurter Allee Nord                    10.0    13.458976   \n",
       "52.519030 13.334046 Moabit West                               10.0    13.334046   \n",
       "52.519042 13.464732 Frankfurter Allee Nord                    10.0    13.464732   \n",
       "52.519083 13.396147 Regierungsviertel                         10.0    13.396147   \n",
       "\n",
       "                                                                                                          Place  \n",
       "latitude  longitude neighbourhood_cleansed                    Rating                                             \n",
       "52.346203 13.644671 Schmöckwitz/Karolinenhof/Rauchfangswerder 10.0    Schmöckwitz/Karolinenhof/Rauchfangswerder  \n",
       "52.519016 13.459627 Frankfurter Allee Nord                    10.0                       Frankfurter Allee Nord  \n",
       "52.518904 13.318250 Otto-Suhr-Allee                           10.0                              Otto-Suhr-Allee  \n",
       "52.518908 13.427348 Karl-Marx-Allee-Süd                       10.0                          Karl-Marx-Allee-Süd  \n",
       "52.518912 13.486248 Alt-Lichtenberg                           10.0                              Alt-Lichtenberg  \n",
       "52.518930 13.525894 Marzahn-Süd                               10.0                                  Marzahn-Süd  \n",
       "52.518933 13.469145 Frankfurter Allee Nord                    10.0                       Frankfurter Allee Nord  \n",
       "52.518944 13.458170 Frankfurter Allee Nord                    10.0                       Frankfurter Allee Nord  \n",
       "52.518951 13.424355 Alexanderplatz                            10.0                               Alexanderplatz  \n",
       "52.518955 13.465873 Frankfurter Allee Nord                    10.0                       Frankfurter Allee Nord  \n",
       "52.518965 13.357427 Moabit Ost                                10.0                                   Moabit Ost  \n",
       "52.518967 13.465965 Frankfurter Allee Nord                    10.0                       Frankfurter Allee Nord  \n",
       "52.518969 13.385492 Regierungsviertel                         10.0                            Regierungsviertel  \n",
       "52.519013 13.444975 Karl-Marx-Allee-Nord                      10.0                         Karl-Marx-Allee-Nord  \n",
       "52.519018 13.450537 Karl-Marx-Allee-Nord                      10.0                         Karl-Marx-Allee-Nord  \n",
       "52.518901 13.480059 Alt-Lichtenberg                           10.0                              Alt-Lichtenberg  \n",
       "52.519019 13.458976 Frankfurter Allee Nord                    10.0                       Frankfurter Allee Nord  \n",
       "52.519030 13.334046 Moabit West                               10.0                                  Moabit West  \n",
       "52.519042 13.464732 Frankfurter Allee Nord                    10.0                       Frankfurter Allee Nord  \n",
       "52.519083 13.396147 Regierungsviertel                         10.0                            Regierungsviertel  "
      ]
     },
     "execution_count": 21,
     "metadata": {},
     "output_type": "execute_result"
    }
   ],
   "source": [
    "Top_Airbnb_Locations_Group = Listings_Summary_df.groupby([\"latitude\",\"longitude\",\"neighbourhood_cleansed\",\"Rating\"])\n",
    "Top_Location_Price = Top_Airbnb_Locations_Group[\"price\"].sum()\n",
    "Latitude = Top_Airbnb_Locations_Group[\"latitude\"].max()\n",
    "Longitude = Top_Airbnb_Locations_Group[\"longitude\"].max()\n",
    "Place = Top_Airbnb_Locations_Group[\"neighbourhood_cleansed\"].max()\n",
    "Top_Airbnb_Location_df = pd.DataFrame({\"Location Price\" : Top_Location_Price,\n",
    "                                       \"Latitude\" : Latitude,\n",
    "                                       \"Longitude\" : Longitude,\n",
    "                                        \"Place\" : Place})\n",
    "Top_Airbnb_Location_df = Top_Airbnb_Location_df.sort_values(\"Rating\", ascending=False)\n",
    "Top_Airbnb_Location_df[0:20]"
   ]
  },
  {
   "cell_type": "code",
   "execution_count": 194,
   "metadata": {},
   "outputs": [
    {
     "data": {
      "text/plain": [
       "['Schmöckwitzer Damm ',\n",
       " 'Zellestraße A',\n",
       " 'Cauerstraße ',\n",
       " 'Strausberger Pl. ',\n",
       " 'vor dem Minimarkt & Backshop',\n",
       " 'Zur Alten Börse ',\n",
       " 'Voigtstraße ',\n",
       " 'Liebigstraße ',\n",
       " 'Karl-Marx-Allee ',\n",
       " 'Dolziger',\n",
       " 'Joachim-Karnatz-Allee ',\n",
       " 'Dolziger',\n",
       " 'Neustädtische Kirchstraße ',\n",
       " 'Löwestraße ',\n",
       " 'Eckertstraße A',\n",
       " 'Rutnikstraße ',\n",
       " 'Bänschstraße ',\n",
       " 'Solinger',\n",
       " 'Dolziger',\n",
       " 'Am Festungsgraben ']"
      ]
     },
     "execution_count": 194,
     "metadata": {},
     "output_type": "execute_result"
    }
   ],
   "source": [
    "#Finding the Top 20 Places using Latitude & Longitude \n",
    "\n",
    "from config import gkey\n",
    "\n",
    "gmaps.configure(api_key=gkey)\n",
    "\n",
    "import geocoder\n",
    "from config import gkey\n",
    "\n",
    "Place_List = []\n",
    "Address = []\n",
    "for x in range(0, 20):\n",
    "    g = geocoder.google([Top_Airbnb_Location_df[\"Latitude\"][x],Top_Airbnb_Location_df[\"Longitude\"][x]], method='reverse', key = gkey)\n",
    "    Address +=[g.address]\n",
    "Place_List += [y.split(',') for y in Address]    \n",
    "\n",
    "Top_Places = []\n",
    "for x in range(0,20):\n",
    "    Top_Places += [Place_List[x][0]]\n",
    "\n",
    "def remove(list): \n",
    "    pattern = '[0-9]'\n",
    "    list = [re.sub(pattern, '', i) for i in list]\n",
    "    list = [x.replace(\"Str.\",\"\") for x in list]\n",
    "    list = [x.replace(\"  \",\"\") for x in list]\n",
    "    return list\n",
    "\n",
    "Top_Places = remove(Top_Places)\n",
    "\n",
    "Top_Places\n"
   ]
  },
  {
   "cell_type": "code",
   "execution_count": 195,
   "metadata": {},
   "outputs": [
    {
     "data": {
      "application/vnd.jupyter.widget-view+json": {
       "model_id": "63916088cf8c4ba39ee8bc88af718341",
       "version_major": 2,
       "version_minor": 0
      },
      "text/plain": [
       "Figure(layout=FigureLayout(height='420px'))"
      ]
     },
     "metadata": {},
     "output_type": "display_data"
    }
   ],
   "source": [
    "from config import gkey\n",
    "\n",
    "gmaps.configure(api_key=gkey)  \n",
    "\n",
    "locations = Top_Airbnb_Location_df[[\"Latitude\",\"Longitude\"]]\n",
    "place = Top_Places\n",
    "\n",
    "#Heat Map Layer for Top 20 Airbnb Places\n",
    "fig = gmaps.figure()\n",
    "heat_layer = gmaps.heatmap_layer(locations[0:20], point_radius=12)\n",
    "fig.add_layer(heat_layer)\n",
    "fig\n"
   ]
  },
  {
   "cell_type": "code",
   "execution_count": 196,
   "metadata": {},
   "outputs": [
    {
     "data": {
      "application/vnd.jupyter.widget-view+json": {
       "model_id": "90f6d313b5324157829b2b9a468cd9a9",
       "version_major": 2,
       "version_minor": 0
      },
      "text/plain": [
       "Figure(layout=FigureLayout(height='420px'))"
      ]
     },
     "metadata": {},
     "output_type": "display_data"
    }
   ],
   "source": [
    "#Marker_Layer for Top 20 Airbnb Places\n",
    "fig = gmaps.figure()\n",
    "markers = gmaps.marker_layer(locations[0:20], info_box_content=place[0:20])\n",
    "fig.add_layer(markers)\n",
    "fig\n"
   ]
  },
  {
   "cell_type": "code",
   "execution_count": 199,
   "metadata": {},
   "outputs": [
    {
     "data": {
      "application/vnd.jupyter.widget-view+json": {
       "model_id": "8ecf785531ab4aef9c11c3da635d45bc",
       "version_major": 2,
       "version_minor": 0
      },
      "text/plain": [
       "Figure(layout=FigureLayout(height='420px'))"
      ]
     },
     "metadata": {},
     "output_type": "display_data"
    }
   ],
   "source": [
    "\n",
    "Airbnb_location = gmaps.symbol_layer(locations[0:10], fill_color=\"green\", stroke_color=\"green\", scale=5)\n",
    "fig = gmaps.figure()\n",
    "fig.add_layer(Airbnb_location)\n",
    "fig"
   ]
  },
  {
   "cell_type": "markdown",
   "metadata": {},
   "source": [
    "### Host Verification\n",
    "\n",
    "How many hosts are verified??"
   ]
  },
  {
   "cell_type": "code",
   "execution_count": 100,
   "metadata": {},
   "outputs": [
    {
     "data": {
      "text/plain": [
       "f    0.613691\n",
       "t    0.386309\n",
       "Name: host_identity_verified, dtype: float64"
      ]
     },
     "execution_count": 100,
     "metadata": {},
     "output_type": "execute_result"
    }
   ],
   "source": [
    "#Host Verification\n",
    "Listings_Summary_df.host_identity_verified.value_counts(normalize=True)"
   ]
  },
  {
   "cell_type": "code",
   "execution_count": 98,
   "metadata": {},
   "outputs": [
    {
     "data": {
      "image/png": "[encoded data removed]",
      "text/plain": [
       "<Figure size 360x360 with 1 Axes>"
      ]
     },
     "metadata": {
      "needs_background": "light"
     },
     "output_type": "display_data"
    }
   ],
   "source": [
    "#Host Verification - Plot\n",
    "\n",
    "fig, (ax1) = plt.subplots(1, figsize=(5,5))   \n",
    "Listings_Summary_df.groupby('host_identity_verified').size().plot(kind='bar',ax = ax1, color=['red', 'green'])\n",
    "ax1.set_xticklabels(labels=['False', 'True'], rotation=0)\n",
    "ax1.set_title('Host Verification Analysis Plot', fontweight='bold')\n",
    "ax1.set_xlabel('Host Identity')\n",
    "ax1.set_ylabel('Host ID Count')\n",
    "\n",
    "total = len(Listings_Summary_df['host_identity_verified'])\n",
    "\n",
    "for p in ax1.patches:\n",
    "    width, height = p.get_width(), p.get_height()/total\n",
    "    x, y = p.get_xy() \n",
    "    ax1.annotate('{:.0%}'.format(height), (p.get_x()+0.5*width, p.get_y()+5000 + height + 0.01),\n",
    "                 ha = 'center', fontweight='bold')\n",
    "plt.show()"
   ]
  },
  {
   "cell_type": "markdown",
   "metadata": {},
   "source": [
    "Only about 39% of the hosts are verified (Verified phone number, ID, email address, reviews, etc). <br></br>\n",
    "Verifying the details is something that hosts often think they are expected to do. <br></br>\n",
    "Guests might expect the additional trust commanded by verified hosts for their accomodation."
   ]
  },
  {
   "cell_type": "code",
   "execution_count": 219,
   "metadata": {},
   "outputs": [
    {
     "name": "stdout",
     "output_type": "stream",
     "text": [
      "f    0.987629\n",
      "t    0.012371\n",
      "Name: require_guest_phone_verification, dtype: float64\n",
      "\n",
      "\n",
      "f    0.993083\n",
      "t    0.006917\n",
      "Name: require_guest_profile_picture, dtype: float64\n",
      "\n",
      "\n",
      "f    1.0\n",
      "Name: is_business_travel_ready, dtype: float64\n",
      "\n",
      "\n",
      "t    0.999645\n",
      "f    0.000355\n",
      "Name: requires_license, dtype: float64\n",
      "\n",
      "\n",
      "t    0.743881\n",
      "f    0.256119\n",
      "Name: is_location_exact, dtype: float64\n",
      "\n",
      "\n",
      "t    0.997514\n",
      "f    0.002486\n",
      "Name: host_has_profile_pic, dtype: float64\n",
      "\n",
      "\n",
      "t    1.0\n",
      "Name: has_availability, dtype: float64\n",
      "\n",
      "\n",
      "f    0.688099\n",
      "t    0.311901\n",
      "Name: instant_bookable, dtype: float64\n",
      "\n",
      "\n",
      "f    0.866332\n",
      "t    0.133668\n",
      "Name: host_is_superhost, dtype: float64\n"
     ]
    }
   ],
   "source": [
    "print(Listings_Summary_df.require_guest_phone_verification.value_counts(normalize=True)) \n",
    "print(f\"\\n\")\n",
    "print(Listings_Summary_df.require_guest_profile_picture.value_counts(normalize=True))\n",
    "print(f\"\\n\")\n",
    "print(Listings_Summary_df.is_business_travel_ready.value_counts(normalize=True))\n",
    "print(f\"\\n\")\n",
    "print(Listings_Summary_df.requires_license.value_counts(normalize=True))\n",
    "print(f\"\\n\")\n",
    "print(Listings_Summary_df.is_location_exact.value_counts(normalize=True))\n",
    "print(f\"\\n\")\n",
    "print(Listings_Summary_df.host_has_profile_pic.value_counts(normalize=True))\n",
    "print(f\"\\n\")\n",
    "print(Listings_Summary_df.has_availability.value_counts(normalize=True))\n",
    "print(f\"\\n\")\n",
    "print(Listings_Summary_df.instant_bookable.value_counts(normalize=True))\n",
    "print(f\"\\n\")\n",
    "print(Listings_Summary_df.host_is_superhost.value_counts(normalize=True))"
   ]
  },
  {
   "cell_type": "markdown",
   "metadata": {},
   "source": [
    "From the above values, its evident that \n",
    "1) require_guest_phone_verification, require_guest_profile_picture criteria is not required for any of the hosts from the guests.\n",
    "2) is_business_travel_ready option is not available in any of the listing provided by aribnb.\n",
    "3) Some cities require that hosts obtain a license in order to list their homes in Airbnb. Almost 99.99% of the hosts has verified their license and the host has the profile pic.\n",
    "4) 75% of the properties have the exact location mentioned in the site. Remaining 25% Hosts can Work on providing the exact location so that the guests can easily identify the location.\n",
    "5) 100% of the listings are available in Berlin.\n",
    "6) 68% of the hosts have the option of instant booking for the guest accomodation.Remaining 31% of the Hosts can Work on Having this option for the Ease of booking the rooms.\n",
    "7) Only 13% of the hosts are the superhosts. Superhosts means the top-rated and most experienced hosts, and can increase the host search ranking in Airbnb.\n",
    "\n",
    "Now lets see if these factors affect with price or not???"
   ]
  },
  {
   "cell_type": "code",
   "execution_count": 253,
   "metadata": {},
   "outputs": [],
   "source": [
    "# Dropping the below columns since these have only one values.\n",
    "Listings_Summary_df.drop(['has_availability', 'is_business_travel_ready'], axis=1, inplace=True)"
   ]
  },
  {
   "cell_type": "code",
   "execution_count": 33,
   "metadata": {},
   "outputs": [],
   "source": [
    "def Factors_Affecting_Price(col, figsize=(8,3)):\n",
    "    \n",
    "    fig, (ax1, ax2) = plt.subplots(1, 2, figsize=figsize)\n",
    "    fig.suptitle(col, fontsize=14, y=1, fontweight='bold')\n",
    "    plt.subplots_adjust(top=0.80) \n",
    "    \n",
    "    Listings_Summary_df.groupby(col).size().plot(kind='bar', ax=ax1, color=['darkorange', 'navy'])\n",
    "    ax1.set_xticklabels(labels=['false', 'true'], rotation=0)\n",
    "    ax1.set_title(col + \" Count\")\n",
    "    ax1.set_xlabel(\"\")\n",
    "    \n",
    "    Listings_Summary_df.groupby(col).price.median().plot(kind='bar', ax=ax2, color=['darkorange', 'navy'])\n",
    "    ax2.set_xticklabels(labels=['false', 'true'], rotation=0)\n",
    "    ax2.set_title('Median Price')\n",
    "    ax2.set_xlabel(\"\")\n",
    "    \n",
    "    plt.show()"
   ]
  },
  {
   "cell_type": "code",
   "execution_count": 34,
   "metadata": {},
   "outputs": [
    {
     "data": {
      "image/png": "[encoded data removed]",
      "text/plain": [
       "<Figure size 576x216 with 2 Axes>"
      ]
     },
     "metadata": {
      "needs_background": "light"
     },
     "output_type": "display_data"
    },
    {
     "data": {
      "image/png": "[encoded data removed]",
      "text/plain": [
       "<Figure size 576x216 with 2 Axes>"
      ]
     },
     "metadata": {
      "needs_background": "light"
     },
     "output_type": "display_data"
    },
    {
     "data": {
      "image/png": "[encoded data removed]",
      "text/plain": [
       "<Figure size 576x216 with 2 Axes>"
      ]
     },
     "metadata": {
      "needs_background": "light"
     },
     "output_type": "display_data"
    },
    {
     "data": {
      "image/png": "[encoded data removed]",
      "text/plain": [
       "<Figure size 576x216 with 2 Axes>"
      ]
     },
     "metadata": {
      "needs_background": "light"
     },
     "output_type": "display_data"
    },
    {
     "data": {
      "image/png": "[encoded data removed]",
      "text/plain": [
       "<Figure size 576x216 with 2 Axes>"
      ]
     },
     "metadata": {
      "needs_background": "light"
     },
     "output_type": "display_data"
    },
    {
     "data": {
      "image/png": "[encoded data removed]",
      "text/plain": [
       "<Figure size 576x216 with 2 Axes>"
      ]
     },
     "metadata": {
      "needs_background": "light"
     },
     "output_type": "display_data"
    },
    {
     "data": {
      "image/png": "[encoded data removed]",
      "text/plain": [
       "<Figure size 576x216 with 2 Axes>"
      ]
     },
     "metadata": {
      "needs_background": "light"
     },
     "output_type": "display_data"
    },
    {
     "data": {
      "image/png": "[encoded data removed]",
      "text/plain": [
       "<Figure size 576x216 with 2 Axes>"
      ]
     },
     "metadata": {
      "needs_background": "light"
     },
     "output_type": "display_data"
    }
   ],
   "source": [
    "col = ['host_is_superhost', 'instant_bookable',  'host_has_profile_pic', 'is_location_exact', \n",
    "       'requires_license',  'require_guest_profile_picture', 'require_guest_phone_verification','host_identity_verified']\n",
    " \n",
    "for x in col:    \n",
    "    Factors_Affecting_Price(x)"
   ]
  },
  {
   "cell_type": "markdown",
   "metadata": {},
   "source": [
    "## Time Series Analysis"
   ]
  },
  {
   "cell_type": "markdown",
   "metadata": {},
   "source": [
    "Source : https://www.dataquest.io/blog/tutorial-time-series-analysis-with-pandas/"
   ]
  },
  {
   "cell_type": "markdown",
   "metadata": {},
   "source": [
    "<b> Question: how have prices changed over time? </b>\n",
    "\n",
    "The average price per night for Airbnb listings in Berlin has decreased slightly over the last 10 years. \n",
    "In 2010, the mean price was 87$ (high), then the price has been drastically reduced to 65$."
   ]
  },
  {
   "cell_type": "code",
   "execution_count": 65,
   "metadata": {},
   "outputs": [
    {
     "name": "stderr",
     "output_type": "stream",
     "text": [
      "c:\\users\\saranya\\appdata\\local\\programs\\python\\python37-32\\lib\\site-packages\\pandas\\core\\series.py:853: RuntimeWarning: divide by zero encountered in log\n",
      "  result = getattr(ufunc, method)(*inputs, **kwargs)\n"
     ]
    }
   ],
   "source": [
    "Listings_Summary_df[\"first_review_year\"] = Listings_Summary_df.first_review.dt.year\n",
    "Listings_Summary_df[\"log_price\"] = np.log(Listings_Summary_df.price)"
   ]
  },
  {
   "cell_type": "code",
   "execution_count": 66,
   "metadata": {},
   "outputs": [
    {
     "data": {
      "image/png": "[encoded data removed]",
      "text/plain": [
       "<Figure size 1080x432 with 1 Axes>"
      ]
     },
     "metadata": {
      "needs_background": "light"
     },
     "output_type": "display_data"
    }
   ],
   "source": [
    "#plt.figure(figsize=(16,6))\n",
    "colour = dict(markerfacecolor='r', marker='o')\n",
    "Listings_Summary_df.boxplot(by ='first_review_year', column ='log_price' ,\n",
    "                            figsize=(15,6), grid = False, flierprops=colour, showcaps=True)    \n",
    "#sns.boxplot(Listings_Summary_df.first_review.dt.year, np.log(Listings_Summary_df.price))\n",
    "plt.xlabel('Year Range', fontsize=12)\n",
    "plt.ylabel('Nightly Price (log-transformed)', fontsize=12)\n",
    "plt.title('Change per year in the Nightly price of Airbnb listings in Berlin')\n",
    "plt.show()"
   ]
  },
  {
   "cell_type": "code",
   "execution_count": 63,
   "metadata": {},
   "outputs": [
    {
     "name": "stderr",
     "output_type": "stream",
     "text": [
      "c:\\users\\saranya\\appdata\\local\\programs\\python\\python37-32\\lib\\site-packages\\pandas\\core\\series.py:853: RuntimeWarning: divide by zero encountered in log\n",
      "  result = getattr(ufunc, method)(*inputs, **kwargs)\n"
     ]
    },
    {
     "data": {
      "image/png": "[encoded data removed]",
      "text/plain": [
       "<Figure size 1152x432 with 1 Axes>"
      ]
     },
     "metadata": {
      "needs_background": "light"
     },
     "output_type": "display_data"
    }
   ],
   "source": [
    "plt.figure(figsize=(16,6)) \n",
    "sns.boxplot(Listings_Summary_df.first_review.dt.year, np.log(Listings_Summary_df.price))\n",
    "plt.xlabel('Year Range', fontsize=12)\n",
    "plt.ylabel('Nightly Price (log-transformed)', fontsize=12)\n",
    "plt.title('Change per year in the Nightly price of Airbnb listings in Berlin')\n",
    "plt.show()"
   ]
  },
  {
   "cell_type": "code",
   "execution_count": 16,
   "metadata": {},
   "outputs": [
    {
     "name": "stdout",
     "output_type": "stream",
     "text": [
      "Mean nightly price of listings in each year on Airbnb in Berlin:\n",
      "first_review\n",
      "2009-01-01    66.00\n",
      "2010-01-01    87.14\n",
      "2011-01-01    77.17\n",
      "2012-01-01    70.29\n",
      "2013-01-01    68.52\n",
      "2014-01-01    68.13\n",
      "2015-01-01    59.52\n",
      "2016-01-01    62.60\n",
      "2017-01-01    57.91\n",
      "2018-01-01    65.32\n",
      "Name: price, dtype: float64\n"
     ]
    }
   ],
   "source": [
    "print(\"Mean nightly price of listings in each year on Airbnb in Berlin:\")\n",
    "print(round(Listings_Summary_df.set_index('first_review').price.resample('YS').mean(),2))"
   ]
  },
  {
   "cell_type": "markdown",
   "metadata": {},
   "source": [
    "Are the different patterns in the growth in the number of hosts and the number of listings due to hosts increasingly owning multiple properties?\n",
    "\n",
    "Answer: there are a number of professional Airbnb management companies which host a large number of listings under a single host profile. The largest manages 1676 listings who is a part of the Belvilla Customer service team under the name 'Kim - BELVILLA', "
   ]
  },
  {
   "cell_type": "code",
   "execution_count": 51,
   "metadata": {},
   "outputs": [
    {
     "name": "stderr",
     "output_type": "stream",
     "text": [
      "c:\\users\\saranya\\appdata\\local\\programs\\python\\python37-32\\lib\\site-packages\\pandas\\core\\series.py:853: RuntimeWarning: divide by zero encountered in log\n",
      "  result = getattr(ufunc, method)(*inputs, **kwargs)\n"
     ]
    },
    {
     "data": {
      "image/png": "[encoded data removed]",
      "text/plain": [
       "<Figure size 1152x432 with 1 Axes>"
      ]
     },
     "metadata": {
      "needs_background": "light"
     },
     "output_type": "display_data"
    }
   ],
   "source": [
    "plt.figure(figsize=(16,6))\n",
    "sns.boxplot(Listings_Summary_df.host_since.dt.year, np.log(Listings_Summary_df.host_listings_count))\n",
    "plt.xlabel('Year that the host joined Airbnb', fontsize=12)\n",
    "plt.ylabel('Number of listings per host (log-transformed)', fontsize=12)\n",
    "plt.title('Change per year in the number of listings per host on Airbnb in Berlin', fontsize=16)\n",
    "plt.show()"
   ]
  },
  {
   "cell_type": "code",
   "execution_count": 48,
   "metadata": {},
   "outputs": [
    {
     "name": "stdout",
     "output_type": "stream",
     "text": [
      "Average number of listings per host per year on Airbnb in Berlin:\n",
      "host_since\n",
      "2008-01-01    2.71\n",
      "2009-01-01    3.07\n",
      "2010-01-01    3.89\n",
      "2011-01-01    2.82\n",
      "2012-01-01    2.23\n",
      "2013-01-01    2.36\n",
      "2014-01-01    1.54\n",
      "2015-01-01    1.81\n",
      "2016-01-01    2.17\n",
      "2017-01-01    4.86\n",
      "2018-01-01    1.70\n",
      "Name: host_listings_count, dtype: float64\n"
     ]
    }
   ],
   "source": [
    "print(\"Average number of listings per host per year on Airbnb in Berlin:\")\n",
    "print(round(Listings_Summary_df.set_index('host_since').host_listings_count.resample('YS').mean(),2))"
   ]
  },
  {
   "cell_type": "code",
   "execution_count": 64,
   "metadata": {},
   "outputs": [
    {
     "data": {
      "image/png": "[encoded data removed]",
      "text/plain": [
       "<Figure size 1080x360 with 1 Axes>"
      ]
     },
     "metadata": {
      "needs_background": "light"
     },
     "output_type": "display_data"
    }
   ],
   "source": [
    "# Median price for different host listing counts\n",
    "plt.figure()\n",
    "Listings_Summary_df.groupby('host_listings_count').price.median().plot(kind='bar',figsize=(15,5))\n",
    "plt.title('Median Price for Different Host Listing Counts', fontweight='bold')\n",
    "plt.xlabel('Number of Properties Managed by Hosts')\n",
    "plt.ylabel('Median Price');"
   ]
  },
  {
   "cell_type": "markdown",
   "metadata": {},
   "source": [
    "<b>How many other listings the host manages in Airbnb? Does it mean Hosts having more properties will gain higher prices??</b>\n",
    "\n",
    "From the Median Price for Different Host Listing Counts plot, <br> </br>\n",
    "1) It is evident that a host who manages more properties does not result in a listing gaining higher prices.  <br> </br>\n",
    "2) The Price Range is almost similar irrespective of the Host listing Count except for the Hosts who is managing 10 properties. May be few are expensive properties for one fine stay.\n",
    "\n",
    "\n"
   ]
  },
  {
   "cell_type": "code",
   "execution_count": 59,
   "metadata": {
    "scrolled": false
   },
   "outputs": [
    {
     "data": {
      "image/png": "[encoded data removed]",
      "text/plain": [
       "<Figure size 1080x360 with 1 Axes>"
      ]
     },
     "metadata": {
      "needs_background": "light"
     },
     "output_type": "display_data"
    }
   ],
   "source": [
    "plt.figure(figsize=(15,5))\n",
    "Listings_Summary_df.set_index('host_since').resample('MS').size().plot(label='Hosts Joining Airbnb', color='blue')\n",
    "Listings_Summary_df.set_index('first_review').resample('MS').size().plot(label='Listings First Review', color='green')\n",
    "plt.title('Hosts joining Airbnb and Listings First Review in each month')\n",
    "plt.legend()\n",
    "plt.xlabel('')\n",
    "plt.ylabel('')\n",
    "plt.show()"
   ]
  },
  {
   "cell_type": "code",
   "execution_count": 37,
   "metadata": {},
   "outputs": [
    {
     "data": {
      "image/png": "[encoded data removed]",
      "text/plain": [
       "<Figure size 720x360 with 1 Axes>"
      ]
     },
     "metadata": {
      "needs_background": "light"
     },
     "output_type": "display_data"
    },
    {
     "data": {
      "image/png": "[encoded data removed]",
      "text/plain": [
       "<Figure size 720x360 with 1 Axes>"
      ]
     },
     "metadata": {
      "needs_background": "light"
     },
     "output_type": "display_data"
    },
    {
     "data": {
      "image/png": "[encoded data removed]",
      "text/plain": [
       "<Figure size 720x360 with 1 Axes>"
      ]
     },
     "metadata": {
      "needs_background": "light"
     },
     "output_type": "display_data"
    },
    {
     "data": {
      "image/png": "[encoded data removed]",
      "text/plain": [
       "<Figure size 720x360 with 1 Axes>"
      ]
     },
     "metadata": {
      "needs_background": "light"
     },
     "output_type": "display_data"
    }
   ],
   "source": [
    "def accom_bath_bed_plot(col):\n",
    "\n",
    "    plt.figure(figsize=(10,5))\n",
    "    Listings_Summary_df.groupby(col).price.median().plot(kind='bar')\n",
    "    plt.title(col, fontsize=14)\n",
    "   #plt.xlabel('Number of guests accommodated', fontsize=13)\n",
    "    #plt.ylabel('Median price (£)', fontsize=13)\n",
    "    plt.xticks(rotation=0)\n",
    "    #plt.xlim(left=0.5)\n",
    "    plt.show()\n",
    "\n",
    "accom_bath_bed_plot('accommodates')\n",
    "accom_bath_bed_plot('bathrooms')\n",
    "accom_bath_bed_plot('bedrooms')\n",
    "accom_bath_bed_plot('beds')"
   ]
  },
  {
   "cell_type": "code",
   "execution_count": 51,
   "metadata": {},
   "outputs": [
    {
     "data": {
      "image/png": "[encoded data removed]",
      "text/plain": [
       "<Figure size 720x360 with 1 Axes>"
      ]
     },
     "metadata": {
      "needs_background": "light"
     },
     "output_type": "display_data"
    },
    {
     "data": {
      "text/plain": [
       "Apartment      0.952111\n",
       "House          0.024876\n",
       "Hotel          0.007272\n",
       "Guest suite    0.005809\n",
       "Hostel         0.005676\n",
       "Other          0.003680\n",
       "Villa          0.000443\n",
       "Resort         0.000133\n",
       "Name: property_type, dtype: float64"
      ]
     },
     "execution_count": 51,
     "metadata": {},
     "output_type": "execute_result"
    }
   ],
   "source": [
    "plt.figure(figsize=(10,5))\n",
    "Listings_Summary_df[\"property_type\"].value_counts().plot(kind='bar')\n",
    "plt.title(\"Property Type\")\n",
    "plt.xticks(rotation=0)\n",
    "plt.show()\n",
    "\n",
    "Listings_Summary_df[\"property_type\"].value_counts(normalize=True)"
   ]
  },
  {
   "cell_type": "code",
   "execution_count": 52,
   "metadata": {},
   "outputs": [
    {
     "data": {
      "image/png": "[encoded data removed]",
      "text/plain": [
       "<Figure size 720x360 with 1 Axes>"
      ]
     },
     "metadata": {
      "needs_background": "light"
     },
     "output_type": "display_data"
    },
    {
     "data": {
      "text/plain": [
       "Private room       0.511440\n",
       "Entire home/apt    0.475435\n",
       "Shared room        0.013125\n",
       "Name: room_type, dtype: float64"
      ]
     },
     "execution_count": 52,
     "metadata": {},
     "output_type": "execute_result"
    }
   ],
   "source": [
    "plt.figure(figsize=(10,5))\n",
    "Listings_Summary_df[\"room_type\"].value_counts().plot(kind='bar')\n",
    "plt.title(\"Room Type\")\n",
    "plt.xticks(rotation=0)\n",
    "plt.show()\n",
    "\n",
    "Listings_Summary_df[\"room_type\"].value_counts(normalize=True)"
   ]
  },
  {
   "cell_type": "code",
   "execution_count": null,
   "metadata": {},
   "outputs": [],
   "source": []
  },
  {
   "cell_type": "code",
   "execution_count": null,
   "metadata": {},
   "outputs": [],
   "source": []
  }
 ],
 "metadata": {
  "kernelspec": {
   "display_name": "Python 3",
   "language": "python",
   "name": "python3"

  },
  "language_info": {
   "codemirror_mode": {
    "name": "ipython",
    "version": 3
   },
   "file_extension": ".py",
   "mimetype": "text/x-python",
   "name": "python",
   "nbconvert_exporter": "python",
   "pygments_lexer": "ipython3",
   "version": "3.7.4"


  }
 },
 "nbformat": 4,
 "nbformat_minor": 2
}
