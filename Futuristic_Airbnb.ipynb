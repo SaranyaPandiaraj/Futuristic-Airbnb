{
 "cells": [
  {
   "cell_type": "markdown",
   "metadata": {},
   "source": [
    "# <ins> Futuristic Airbnb </ins>"
   ]
  },
  {
   "cell_type": "markdown",
   "metadata": {},
   "source": [
    "Airbnb has successfully disrupted the traditional hospitality industry as more and more travelers decide to use Airbnb as their primary accommodation provider. Since its beginning in 2008, Airbnb has seen an enormous growth, with the number of rentals listed on its website growing exponentially each year. In Germany, no city is more popular than Berlin. That implies that Berlin is one of the hottest markets for Airbnb in Europe, with over 22,552 listings as of November 2018.Here we will be using Python with some packages like Pandas and Matplotlib to analyze data  to find a better Accommodation based on customer satisfaction and to improve the Airbnb business based on certain factors in Berlin."
   ]
  },
  {
   "cell_type": "markdown",
   "metadata": {},
   "source": [
    "<hr> </hr>"
   ]
  },
  {
   "cell_type": "code",
   "execution_count": 10,
   "metadata": {},
   "outputs": [],
   "source": [
    "#Importing Dependencies\n",
    "import pandas as pd\n",
    "import numpy as np"
   ]
  },
  {
   "cell_type": "code",
   "execution_count": 15,
   "metadata": {},
   "outputs": [],
   "source": [
    "#Reading Files and storing in Dataframes\n",
    "\n",
    "Calendar_Summary_df = pd.read_csv(\"../Dataset/calendar_summary.csv\")\n",
    "Listings_df = pd.read_csv(\"../Dataset/listings.csv\")\n",
    "Listings_Summary_df = pd.read_csv(\"../Dataset/listings_summary.csv\")\n",
    "Neighbourhoods_df = pd.read_csv(\"../Dataset/neighbourhoods.csv\")\n",
    "Reviews_df = pd.read_csv(\"../Dataset/reviews.csv\")\n",
    "Reviews_Summary = pd.read_csv(\"../Dataset/reviews_summary.csv\")\n"
   ]
  },
  {
   "cell_type": "code",
   "execution_count": 18,
   "metadata": {},
   "outputs": [
    {
     "data": {
      "text/html": [
       "<div>\n",
       "<style scoped>\n",
       "    .dataframe tbody tr th:only-of-type {\n",
       "        vertical-align: middle;\n",
       "    }\n",
       "\n",
       "    .dataframe tbody tr th {\n",
       "        vertical-align: top;\n",
       "    }\n",
       "\n",
       "    .dataframe thead th {\n",
       "        text-align: right;\n",
       "    }\n",
       "</style>\n",
       "<table border=\"1\" class=\"dataframe\">\n",
       "  <thead>\n",
       "    <tr style=\"text-align: right;\">\n",
       "      <th></th>\n",
       "      <th>listing_id</th>\n",
       "      <th>id</th>\n",
       "      <th>date</th>\n",
       "      <th>reviewer_id</th>\n",
       "      <th>reviewer_name</th>\n",
       "      <th>comments</th>\n",
       "    </tr>\n",
       "  </thead>\n",
       "  <tbody>\n",
       "    <tr>\n",
       "      <th>0</th>\n",
       "      <td>2015</td>\n",
       "      <td>69544350</td>\n",
       "      <td>2016-04-11</td>\n",
       "      <td>7178145</td>\n",
       "      <td>Rahel</td>\n",
       "      <td>Mein Freund und ich hatten gute gemütliche vie...</td>\n",
       "    </tr>\n",
       "    <tr>\n",
       "      <th>1</th>\n",
       "      <td>2015</td>\n",
       "      <td>69990732</td>\n",
       "      <td>2016-04-15</td>\n",
       "      <td>41944715</td>\n",
       "      <td>Hannah</td>\n",
       "      <td>Jan was very friendly and welcoming host! The ...</td>\n",
       "    </tr>\n",
       "    <tr>\n",
       "      <th>2</th>\n",
       "      <td>2015</td>\n",
       "      <td>71605267</td>\n",
       "      <td>2016-04-26</td>\n",
       "      <td>30048708</td>\n",
       "      <td>Victor</td>\n",
       "      <td>Un appartement tres bien situé dans un quartie...</td>\n",
       "    </tr>\n",
       "    <tr>\n",
       "      <th>3</th>\n",
       "      <td>2015</td>\n",
       "      <td>73819566</td>\n",
       "      <td>2016-05-10</td>\n",
       "      <td>63697857</td>\n",
       "      <td>Judy</td>\n",
       "      <td>It is really nice area, food, park, transport ...</td>\n",
       "    </tr>\n",
       "    <tr>\n",
       "      <th>4</th>\n",
       "      <td>2015</td>\n",
       "      <td>74293504</td>\n",
       "      <td>2016-05-14</td>\n",
       "      <td>10414887</td>\n",
       "      <td>Romina</td>\n",
       "      <td>Buena ubicación, el departamento no está orden...</td>\n",
       "    </tr>\n",
       "  </tbody>\n",
       "</table>\n",
       "</div>"
      ],
      "text/plain": [
       "   listing_id        id        date  reviewer_id reviewer_name  \\\n",
       "0        2015  69544350  2016-04-11      7178145         Rahel   \n",
       "1        2015  69990732  2016-04-15     41944715        Hannah   \n",
       "2        2015  71605267  2016-04-26     30048708        Victor   \n",
       "3        2015  73819566  2016-05-10     63697857          Judy   \n",
       "4        2015  74293504  2016-05-14     10414887        Romina   \n",
       "\n",
       "                                            comments  \n",
       "0  Mein Freund und ich hatten gute gemütliche vie...  \n",
       "1  Jan was very friendly and welcoming host! The ...  \n",
       "2  Un appartement tres bien situé dans un quartie...  \n",
       "3  It is really nice area, food, park, transport ...  \n",
       "4  Buena ubicación, el departamento no está orden...  "
      ]
     },
     "execution_count": 18,
     "metadata": {},
     "output_type": "execute_result"
    }
   ],
   "source": [
    "# printing Reviews_summary\n",
    "Reviews_Summary.head()"
   ]
  },
  {
   "cell_type": "markdown",
   "metadata": {},
   "source": [
    "### <ins> Identifying the Columns </ins>"
   ]
  },
  {
   "cell_type": "code",
   "execution_count": 17,
   "metadata": {},
   "outputs": [
    {
     "data": {
      "text/plain": [
       "Index(['listing_id', 'date', 'available', 'price'], dtype='object')"
      ]
     },
     "execution_count": 17,
     "metadata": {},
     "output_type": "execute_result"
    }
   ],
   "source": [
    "Calendar_Summary_df.columns"
   ]
  },
  {
   "cell_type": "code",
   "execution_count": 4,
   "metadata": {},
   "outputs": [
    {
     "data": {
      "text/plain": [
       "Index(['id', 'name', 'host_id', 'host_name', 'neighbourhood_group',\n",
       "       'neighbourhood', 'latitude', 'longitude', 'room_type', 'price',\n",
       "       'minimum_nights', 'number_of_reviews', 'last_review',\n",
       "       'reviews_per_month', 'calculated_host_listings_count',\n",
       "       'availability_365'],\n",
       "      dtype='object')"
      ]
     },
     "execution_count": 4,
     "metadata": {},
     "output_type": "execute_result"
    }
   ],
   "source": [
    "Listings_df.columns"
   ]
  },
  {
   "cell_type": "code",
   "execution_count": 5,
   "metadata": {},
   "outputs": [
    {
     "data": {
      "text/plain": [
       "Index(['id', 'listing_url', 'scrape_id', 'last_scraped', 'name', 'summary',\n",
       "       'space', 'description', 'experiences_offered', 'neighborhood_overview',\n",
       "       'notes', 'transit', 'access', 'interaction', 'house_rules',\n",
       "       'thumbnail_url', 'medium_url', 'picture_url', 'xl_picture_url',\n",
       "       'host_id', 'host_url', 'host_name', 'host_since', 'host_location',\n",
       "       'host_about', 'host_response_time', 'host_response_rate',\n",
       "       'host_acceptance_rate', 'host_is_superhost', 'host_thumbnail_url',\n",
       "       'host_picture_url', 'host_neighbourhood', 'host_listings_count',\n",
       "       'host_total_listings_count', 'host_verifications',\n",
       "       'host_has_profile_pic', 'host_identity_verified', 'street',\n",
       "       'neighbourhood', 'neighbourhood_cleansed',\n",
       "       'neighbourhood_group_cleansed', 'city', 'state', 'zipcode', 'market',\n",
       "       'smart_location', 'country_code', 'country', 'latitude', 'longitude',\n",
       "       'is_location_exact', 'property_type', 'room_type', 'accommodates',\n",
       "       'bathrooms', 'bedrooms', 'beds', 'bed_type', 'amenities', 'square_feet',\n",
       "       'price', 'weekly_price', 'monthly_price', 'security_deposit',\n",
       "       'cleaning_fee', 'guests_included', 'extra_people', 'minimum_nights',\n",
       "       'maximum_nights', 'calendar_updated', 'has_availability',\n",
       "       'availability_30', 'availability_60', 'availability_90',\n",
       "       'availability_365', 'calendar_last_scraped', 'number_of_reviews',\n",
       "       'first_review', 'last_review', 'review_scores_rating',\n",
       "       'review_scores_accuracy', 'review_scores_cleanliness',\n",
       "       'review_scores_checkin', 'review_scores_communication',\n",
       "       'review_scores_location', 'review_scores_value', 'requires_license',\n",
       "       'license', 'jurisdiction_names', 'instant_bookable',\n",
       "       'is_business_travel_ready', 'cancellation_policy',\n",
       "       'require_guest_profile_picture', 'require_guest_phone_verification',\n",
       "       'calculated_host_listings_count', 'reviews_per_month'],\n",
       "      dtype='object')"
      ]
     },
     "execution_count": 5,
     "metadata": {},
     "output_type": "execute_result"
    }
   ],
   "source": [
    "Listings_Summary_df.columns"
   ]
  },
  {
   "cell_type": "code",
   "execution_count": 6,
   "metadata": {},
   "outputs": [
    {
     "data": {
      "text/plain": [
       "Index(['neighbourhood_group', 'neighbourhood'], dtype='object')"
      ]
     },
     "execution_count": 6,
     "metadata": {},
     "output_type": "execute_result"
    }
   ],
   "source": [
    "Neighbourhoods_df.columns"
   ]
  },
  {
   "cell_type": "markdown",
   "metadata": {},
   "source": [
    "### <ins> Keeping the Necessary Columns </ins>"
   ]
  },
  {
   "cell_type": "code",
   "execution_count": 7,
   "metadata": {},
   "outputs": [],
   "source": [
    "#Columns which are necessary alone we can store it in the below df. ()\n",
    "\n",
    "#Calendar_Summary_df = \n",
    "#Listings_df = \n",
    "#Listings_Summary_df = \n",
    "#Neighbourhoods_df = \n",
    "#Reviews_df = \n",
    "#Reviews_Summary = "
   ]
  },
  {
   "cell_type": "markdown",
   "metadata": {},
   "source": [
    "### <ins> Data Cleaning </ins>"
   ]
  },
  {
   "cell_type": "code",
   "execution_count": 8,
   "metadata": {},
   "outputs": [
    {
     "data": {
      "text/html": [
       "<div>\n",
       "<style scoped>\n",
       "    .dataframe tbody tr th:only-of-type {\n",
       "        vertical-align: middle;\n",
       "    }\n",
       "\n",
       "    .dataframe tbody tr th {\n",
       "        vertical-align: top;\n",
       "    }\n",
       "\n",
       "    .dataframe thead th {\n",
       "        text-align: right;\n",
       "    }\n",
       "</style>\n",
       "<table border=\"1\" class=\"dataframe\">\n",
       "  <thead>\n",
       "    <tr style=\"text-align: right;\">\n",
       "      <th></th>\n",
       "      <th>Amenities</th>\n",
       "    </tr>\n",
       "  </thead>\n",
       "  <tbody>\n",
       "    <tr>\n",
       "      <th>0</th>\n",
       "      <td>TV</td>\n",
       "    </tr>\n",
       "    <tr>\n",
       "      <th>1</th>\n",
       "      <td>Cable TV</td>\n",
       "    </tr>\n",
       "    <tr>\n",
       "      <th>2</th>\n",
       "      <td>Wifi</td>\n",
       "    </tr>\n",
       "    <tr>\n",
       "      <th>3</th>\n",
       "      <td>Kitchen</td>\n",
       "    </tr>\n",
       "    <tr>\n",
       "      <th>4</th>\n",
       "      <td>Gym</td>\n",
       "    </tr>\n",
       "  </tbody>\n",
       "</table>\n",
       "</div>"
      ],
      "text/plain": [
       "  Amenities\n",
       "0        TV\n",
       "1  Cable TV\n",
       "2      Wifi\n",
       "3   Kitchen\n",
       "4       Gym"
      ]
     },
     "execution_count": 8,
     "metadata": {},
     "output_type": "execute_result"
    }
   ],
   "source": [
    "#Data Cleaning the Amenities Column\n",
    "\n",
    "Amenities = Listings_Summary_df.amenities\n",
    "\n",
    "Amenities_List = []\n",
    "\n",
    "for x in Amenities:\n",
    "\n",
    "        x=x.replace('\"','')\n",
    "        x=x.replace('{','')\n",
    "        x=x.replace('}','')\n",
    "        Amenities_List += x.split(',')\n",
    "        \n",
    "Amenities_New = pd.DataFrame(Amenities_List)\n",
    "\n",
    "Amenities_New = Amenities_New.rename(columns = {0:\"Amenities\"})\n",
    "\n",
    "Amenities_New.head()\n"
   ]
  },
  {
   "cell_type": "code",
   "execution_count": 9,
   "metadata": {},
   "outputs": [
    {
     "name": "stdout",
     "output_type": "stream",
     "text": [
      "Amenities\n",
      "Wifi                          21512\n",
      "Kitchen                       21332\n",
      "Heating                       21190\n",
      "Essentials                    20329\n",
      "Washer                        18497\n",
      "Hair dryer                    14891\n",
      "Laptop friendly workspace     14447\n",
      "Hangers                       13908\n",
      "Iron                          11206\n",
      "Shampoo                       10654\n",
      "TV                            10134\n",
      "Hot water                      9744\n",
      "Family/kid friendly            8141\n",
      "Internet                       7909\n",
      "Host greets you                6663\n",
      "Smoke detector                 6457\n",
      "Buzzer/wireless intercom       6116\n",
      "Lock on bedroom door           5294\n",
      "Refrigerator                   5212\n",
      "Free street parking            5190\n",
      "Dishes and silverware          5082\n",
      "Elevator                       4867\n",
      "Bed linens                     4842\n",
      "Cooking basics                 4834\n",
      "Stove                          4816\n",
      "Smoking allowed                4589\n",
      "Oven                           4312\n",
      "First aid kit                  4011\n",
      "Cable TV                       3725\n",
      "Coffee maker                   3646\n",
      "                              ...  \n",
      "                                 75\n",
      "Stair gates                      69\n",
      "Other pet(s)                     57\n",
      "Fixed grab bars for shower       43\n",
      "Table corner guards              35\n",
      "Ski-in/Ski-out                   34\n",
      "Bathtub with bath chair          29\n",
      "Full kitchen                     26\n",
      "Shower chair                     25\n",
      "Fireplace guards                 22\n",
      "Fixed grab bars for toilet       12\n",
      "Ground floor access              11\n",
      "Firm mattress                     9\n",
      "Beachfront                        8\n",
      "Washer / Dryer                    8\n",
      "Private bathroom                  4\n",
      "Electric profiling bed            4\n",
      "Kitchenette                       3\n",
      "Air purifier                      3\n",
      "Bathroom essentials               2\n",
      "Bath towel                        2\n",
      "Body soap                         2\n",
      "Toilet paper                      2\n",
      "Bedroom comforts                  2\n",
      "Ceiling hoist                     1\n",
      "Breakfast table                   1\n",
      "Smart TV                          1\n",
      "Convection oven                   1\n",
      "Sound system                      1\n",
      "Netflix                           1\n",
      "Name: Amenities, Length: 134, dtype: int64\n"
     ]
    },
    {
     "data": {
      "text/plain": [
       "Amenities\n",
       "Wifi                         21512\n",
       "Kitchen                      21332\n",
       "Heating                      21190\n",
       "Essentials                   20329\n",
       "Washer                       18497\n",
       "Hair dryer                   14891\n",
       "Laptop friendly workspace    14447\n",
       "Hangers                      13908\n",
       "Iron                         11206\n",
       "Shampoo                      10654\n",
       "TV                           10134\n",
       "Hot water                     9744\n",
       "Family/kid friendly           8141\n",
       "Internet                      7909\n",
       "Host greets you               6663\n",
       "Smoke detector                6457\n",
       "Buzzer/wireless intercom      6116\n",
       "Lock on bedroom door          5294\n",
       "Refrigerator                  5212\n",
       "Free street parking           5190\n",
       "Dishes and silverware         5082\n",
       "Elevator                      4867\n",
       "Bed linens                    4842\n",
       "Cooking basics                4834\n",
       "Stove                         4816\n",
       "Smoking allowed               4589\n",
       "Oven                          4312\n",
       "First aid kit                 4011\n",
       "Cable TV                      3725\n",
       "Coffee maker                  3646\n",
       "Name: Amenities, dtype: int64"
      ]
     },
     "execution_count": 9,
     "metadata": {},
     "output_type": "execute_result"
    }
   ],
   "source": [
    "Amenities_Group = Amenities_New.groupby('Amenities')\n",
    "\n",
    "Amenities_Count = Amenities_Group[\"Amenities\"].count()\n",
    "\n",
    "Amenities_Count = Amenities_Count.sort_values(ascending=False)\n",
    "\n",
    "Amenities_Count = Amenities_Count.drop(['translation missing: en.hosting_amenity_50', 'translation missing: en.hosting_amenity_49'],axis=0)\n",
    "\n",
    "print(Amenities_Count)\n",
    "\n",
    "Amenities_Count/Amenities_Count.sum()*100 \n",
    "\n",
    "(Amenities_Count[0:30]/Amenities_Count.sum()*100).sum()\n",
    "\n",
    "Amenities_Count[0:30]\n",
    "\n",
    "\n",
    "\n",
    "\n",
    "\n",
    "\n",
    "\n",
    "\n",
    "\n",
    "\n"
   ]
  },
  {
   "cell_type": "code",
   "execution_count": null,
   "metadata": {},
   "outputs": [],
   "source": []
  }
 ],
 "metadata": {
  "kernelspec": {
   "display_name": "Python 3",
   "language": "python",
   "name": "python3"
  },
  "language_info": {
   "codemirror_mode": {
    "name": "ipython",
    "version": 3
   },
   "file_extension": ".py",
   "mimetype": "text/x-python",
   "name": "python",
   "nbconvert_exporter": "python",
   "pygments_lexer": "ipython3",
   "version": "3.7.3"
  }
 },
 "nbformat": 4,
 "nbformat_minor": 2
}
